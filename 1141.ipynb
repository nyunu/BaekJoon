{
  "nbformat": 4,
  "nbformat_minor": 0,
  "metadata": {
    "colab": {
      "provenance": [],
      "authorship_tag": "ABX9TyO4zV2Po514ffMaDQGpCkAO",
      "include_colab_link": true
    },
    "kernelspec": {
      "name": "python3",
      "display_name": "Python 3"
    },
    "language_info": {
      "name": "python"
    }
  },
  "cells": [
    {
      "cell_type": "markdown",
      "metadata": {
        "id": "view-in-github",
        "colab_type": "text"
      },
      "source": [
        "<a href=\"https://colab.research.google.com/github/nyunu/BaekJoon/blob/main/1141.ipynb\" target=\"_parent\"><img src=\"https://colab.research.google.com/assets/colab-badge.svg\" alt=\"Open In Colab\"/></a>"
      ]
    },
    {
      "cell_type": "code",
      "source": [
        "n = int(input())\n",
        "word = [input() for _ in range(n)]\n",
        "word.sort()\n",
        "answer = n\n",
        "\n",
        "for i in range(n - 1):\n",
        "  if word[i + 1][:len(word[i])] == word[i]:\n",
        "    answer -= 1\n",
        "\n",
        "print(answer)"
      ],
      "metadata": {
        "colab": {
          "base_uri": "https://localhost:8080/"
        },
        "id": "E1gRe5h7pOPm",
        "outputId": "e8e28a1d-0667-4a4d-856a-452ea6347d99"
      },
      "execution_count": 16,
      "outputs": [
        {
          "output_type": "stream",
          "name": "stdout",
          "text": [
            "6\n",
            "a\n",
            "ab\n",
            "abc\n",
            "abcd\n",
            "abcde\n",
            "abcdef\n",
            "1\n"
          ]
        }
      ]
    }
  ]
}