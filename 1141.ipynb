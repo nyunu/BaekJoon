{
  "nbformat": 4,
  "nbformat_minor": 0,
  "metadata": {
    "colab": {
      "provenance": [],
      "authorship_tag": "ABX9TyMAmF4tlCZM7lBaZ6Y3B4xe",
      "include_colab_link": true
    },
    "kernelspec": {
      "name": "python3",
      "display_name": "Python 3"
    },
    "language_info": {
      "name": "python"
    }
  },
  "cells": [
    {
      "cell_type": "markdown",
      "metadata": {
        "id": "view-in-github",
        "colab_type": "text"
      },
      "source": [
        "<a href=\"https://colab.research.google.com/github/nyunu/BaekJoon/blob/main/1141.ipynb\" target=\"_parent\"><img src=\"https://colab.research.google.com/assets/colab-badge.svg\" alt=\"Open In Colab\"/></a>"
      ]
    },
    {
      "cell_type": "code",
      "source": [
        "l, r = map(str, input().split())\n",
        "\n",
        "if len(l) != len(r):\n",
        "  print(0)\n",
        "else:\n",
        "  answer = 0\n",
        "  for i in range(len(r)):\n",
        "    if l[i] == r[i]:\n",
        "      if l[i] == '8':\n",
        "        answer += 1\n",
        "    else:\n",
        "      break;\n",
        "  print(answer)"
      ],
      "metadata": {
        "colab": {
          "base_uri": "https://localhost:8080/"
        },
        "id": "E1gRe5h7pOPm",
        "outputId": "e8e28a1d-0667-4a4d-856a-452ea6347d99"
      },
      "execution_count": 16,
      "outputs": [
        {
          "output_type": "stream",
          "name": "stdout",
          "text": [
            "6\n",
            "a\n",
            "ab\n",
            "abc\n",
            "abcd\n",
            "abcde\n",
            "abcdef\n",
            "1\n"
          ]
        }
      ]
    }
  ]
}