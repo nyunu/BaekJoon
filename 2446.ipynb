{
  "nbformat": 4,
  "nbformat_minor": 0,
  "metadata": {
    "colab": {
      "provenance": [],
      "authorship_tag": "ABX9TyOSaORyXo7D/AvCHKvwmxrZ",
      "include_colab_link": true
    },
    "kernelspec": {
      "name": "python3",
      "display_name": "Python 3"
    },
    "language_info": {
      "name": "python"
    }
  },
  "cells": [
    {
      "cell_type": "markdown",
      "metadata": {
        "id": "view-in-github",
        "colab_type": "text"
      },
      "source": [
        "<a href=\"https://colab.research.google.com/github/nyunu/BaekJoon/blob/main/2446.ipynb\" target=\"_parent\"><img src=\"https://colab.research.google.com/assets/colab-badge.svg\" alt=\"Open In Colab\"/></a>"
      ]
    },
    {
      "cell_type": "markdown",
      "source": [
        "* 1 (시간 40ms)"
      ],
      "metadata": {
        "id": "1XP1NT7ILz3Z"
      }
    },
    {
      "cell_type": "code",
      "source": [
        "n = int(input())\n",
        "\n",
        "for i in range(2 * n - 1):\n",
        "  i += 1\n",
        "  if i <= n :\n",
        "    print(\" \" * (i-1) + \"*\" * (2 * (n - i + 1) - 1))\n",
        "  else:\n",
        "    i -= n\n",
        "    print(\" \" * (n - i - 1) + \"*\" * (2 * (i + 1) - 1))"
      ],
      "metadata": {
        "colab": {
          "base_uri": "https://localhost:8080/"
        },
        "id": "NQNYB2KqLyNJ",
        "outputId": "cb923bd1-8984-4322-8694-cfd1c0766553"
      },
      "execution_count": 15,
      "outputs": [
        {
          "output_type": "stream",
          "name": "stdout",
          "text": [
            "5\n",
            "*********\n",
            " *******\n",
            "  *****\n",
            "   ***\n",
            "    *\n",
            "   ***\n",
            "  *****\n",
            " *******\n",
            "*********\n"
          ]
        }
      ]
    },
    {
      "cell_type": "markdown",
      "source": [
        "* 2 (시간 44ms)"
      ],
      "metadata": {
        "id": "j4InghyZL6IY"
      }
    },
    {
      "cell_type": "code",
      "source": [
        "n = int(input())\n",
        "\n",
        "for i in range(2 * n - 1):\n",
        "  if i < n :\n",
        "    print(\" \" * i + \"*\" * (2 * (n - i) - 1))\n",
        "  else:\n",
        "    i -= n - 1\n",
        "    print(\" \" * (n - i - 1) + \"*\" * (2 * (i + 1) - 1))"
      ],
      "metadata": {
        "colab": {
          "base_uri": "https://localhost:8080/"
        },
        "id": "maZRWb_X0aQ8",
        "outputId": "c6ecdb07-97af-4825-9161-943740e22e48"
      },
      "execution_count": 14,
      "outputs": [
        {
          "output_type": "stream",
          "name": "stdout",
          "text": [
            "5\n",
            "*********\n",
            " *******\n",
            "  *****\n",
            "   ***\n",
            "    *\n",
            "   ***\n",
            "  *****\n",
            " *******\n",
            "*********\n"
          ]
        }
      ]
    }
  ]
}