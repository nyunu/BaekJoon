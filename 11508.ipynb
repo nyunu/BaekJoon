{
  "nbformat": 4,
  "nbformat_minor": 0,
  "metadata": {
    "colab": {
      "provenance": [],
      "authorship_tag": "ABX9TyOPGI0/mXDtVvj4oadINgbf",
      "include_colab_link": true
    },
    "kernelspec": {
      "name": "python3",
      "display_name": "Python 3"
    },
    "language_info": {
      "name": "python"
    }
  },
  "cells": [
    {
      "cell_type": "markdown",
      "metadata": {
        "id": "view-in-github",
        "colab_type": "text"
      },
      "source": [
        "<a href=\"https://colab.research.google.com/github/nyunu/BaekJoon/blob/main/11508.ipynb\" target=\"_parent\"><img src=\"https://colab.research.google.com/assets/colab-badge.svg\" alt=\"Open In Colab\"/></a>"
      ]
    },
    {
      "cell_type": "code",
      "source": [
        "import sys\n",
        "input = sys.stdin.readline\n",
        "\n",
        "n = int(input())\n",
        "lst = [int(input()) for _ in range(n)]\n",
        "lst.sort(reverse = True)\n",
        "answer = 0\n",
        "\n",
        "for i in range(0, n, 3):\n",
        "  if n - i <= 2:\n",
        "    answer += sum(lst[i:])\n",
        "    break;\n",
        "  answer += sum(lst[i : i + 2])\n",
        "\n",
        "print(answer)"
      ],
      "metadata": {
        "colab": {
          "base_uri": "https://localhost:8080/"
        },
        "id": "mED1yVJrloo4",
        "outputId": "0cec0812-6271-4689-82f6-07a7072fb9e6"
      },
      "execution_count": 3,
      "outputs": [
        {
          "output_type": "stream",
          "name": "stdout",
          "text": [
            "3\n",
            "3\n",
            "2\n",
            "3\n",
            "5\n"
          ]
        }
      ]
    },
    {
      "cell_type": "code",
      "source": [
        "import sys\n",
        "input = sys.stdin.readline\n",
        "\n",
        "n = int(input())\n",
        "lst = [int(input()) for _ in range(n)]\n",
        "lst.sort(reverse = True)\n",
        "answer = 0\n",
        "\n",
        "for i in range(2, n, 3):\n",
        "  answer += lst[i]\n",
        "\n",
        "print(sum(lst) - answer)"
      ],
      "metadata": {
        "id": "HHdePO_btVkf"
      },
      "execution_count": null,
      "outputs": []
    }
  ]
}