{
  "cells": [
    {
      "cell_type": "markdown",
      "metadata": {
        "id": "view-in-github",
        "colab_type": "text"
      },
      "source": [
        "<a href=\"https://colab.research.google.com/github/nyunu/BaekJoon/blob/main/2941.ipynb\" target=\"_parent\"><img src=\"https://colab.research.google.com/assets/colab-badge.svg\" alt=\"Open In Colab\"/></a>"
      ]
    },
    {
      "cell_type": "markdown",
      "source": [
        "* 1"
      ],
      "metadata": {
        "id": "WZxkITLq4FQc"
      }
    },
    {
      "cell_type": "code",
      "source": [
        "alpha = ['c=', 'c-', 'dz=', 'd-', 'lj', 'nj', 's=', 'z=']\n",
        "word = input()\n",
        "cnt = 0\n",
        "\n",
        "for i in alpha :\n",
        "  while i in word:\n",
        "    idx = word.index(i)\n",
        "    word = list(word)\n",
        "    word[idx : idx + len(i)] = '.' * len(i)\n",
        "    word = \"\".join(word)\n",
        "    cnt += 1\n",
        "\n",
        "word = word.replace(\".\", \"\").strip()\n",
        "\n",
        "print(len(word) + cnt)"
      ],
      "metadata": {
        "colab": {
          "base_uri": "https://localhost:8080/"
        },
        "id": "HToVsxwAxpAM",
        "outputId": "fa64ee1f-d8cb-4469-ad2c-830bf8b2f1f1"
      },
      "execution_count": 37,
      "outputs": [
        {
          "output_type": "stream",
          "name": "stdout",
          "text": [
            "ljes=njak\n",
            "6\n"
          ]
        }
      ]
    },
    {
      "cell_type": "markdown",
      "source": [
        "* 2"
      ],
      "metadata": {
        "id": "4fg-u_td4JUH"
      }
    },
    {
      "cell_type": "code",
      "source": [
        "alpha = ['c=', 'c-', 'dz=', 'd-', 'lj', 'nj', 's=', 'z=']\n",
        "word = input()\n",
        "cnt = 0\n",
        "\n",
        "for i in alpha:\n",
        "  word = word.replace(i, \".\")\n",
        "\n",
        "print(len(word))"
      ],
      "metadata": {
        "colab": {
          "base_uri": "https://localhost:8080/"
        },
        "id": "ITe9_1jJ3n0E",
        "outputId": "e3fd81c0-d1cd-48a2-e50b-d8776f87d764"
      },
      "execution_count": 39,
      "outputs": [
        {
          "output_type": "stream",
          "name": "stdout",
          "text": [
            "ljes=njak\n",
            "6\n"
          ]
        }
      ]
    }
  ],
  "metadata": {
    "colab": {
      "provenance": [],
      "authorship_tag": "ABX9TyMMVth+wfqzzMHbFS6tBXlt",
      "include_colab_link": true
    },
    "kernelspec": {
      "display_name": "Python 3",
      "name": "python3"
    },
    "language_info": {
      "name": "python"
    }
  },
  "nbformat": 4,
  "nbformat_minor": 0
}