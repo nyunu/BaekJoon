{
  "nbformat": 4,
  "nbformat_minor": 0,
  "metadata": {
    "colab": {
      "provenance": [],
      "authorship_tag": "ABX9TyM9xZUPpqc0ZUbqg1MR99Zb",
      "include_colab_link": true
    },
    "kernelspec": {
      "name": "python3",
      "display_name": "Python 3"
    },
    "language_info": {
      "name": "python"
    }
  },
  "cells": [
    {
      "cell_type": "markdown",
      "metadata": {
        "id": "view-in-github",
        "colab_type": "text"
      },
      "source": [
        "<a href=\"https://colab.research.google.com/github/nyunu/BaekJoon/blob/main/11659.ipynb\" target=\"_parent\"><img src=\"https://colab.research.google.com/assets/colab-badge.svg\" alt=\"Open In Colab\"/></a>"
      ]
    },
    {
      "cell_type": "markdown",
      "source": [
        "- input -> sys.stdin.readline 으로 대체하여 사용\n",
        "- input은 시간초과"
      ],
      "metadata": {
        "id": "Jty6hzJZcnWA"
      }
    },
    {
      "cell_type": "code",
      "source": [
        "n, m = map(int, input().split())\n",
        "arr = list(map(int, input().split()))\n",
        "\n",
        "for i in range(1, n):\n",
        "  arr[i] = arr[i - 1] + arr[i]\n",
        "arr.insert(0, 0)\n",
        "\n",
        "for i in range(m):\n",
        "  a, b = map(int, input().split())\n",
        "  print(arr[b] - arr[a - 1])"
      ],
      "metadata": {
        "colab": {
          "base_uri": "https://localhost:8080/"
        },
        "id": "KWNOqlr7WQka",
        "outputId": "866edfda-bc98-499b-92c9-b9e160d4a22b"
      },
      "execution_count": 13,
      "outputs": [
        {
          "output_type": "stream",
          "name": "stdout",
          "text": [
            "5 3\n",
            "5 4 3 2 1\n",
            "1 3\n",
            "12\n",
            "2 4\n",
            "9\n",
            "5 5\n",
            "1\n"
          ]
        }
      ]
    }
  ]
}