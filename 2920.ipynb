{
  "nbformat": 4,
  "nbformat_minor": 0,
  "metadata": {
    "colab": {
      "provenance": [],
      "authorship_tag": "ABX9TyOjLzD9SkaoUqhKuCZd5bQh",
      "include_colab_link": true
    },
    "kernelspec": {
      "name": "python3",
      "display_name": "Python 3"
    },
    "language_info": {
      "name": "python"
    }
  },
  "cells": [
    {
      "cell_type": "markdown",
      "metadata": {
        "id": "view-in-github",
        "colab_type": "text"
      },
      "source": [
        "<a href=\"https://colab.research.google.com/github/nyunu/BaekJoon/blob/main/2920.ipynb\" target=\"_parent\"><img src=\"https://colab.research.google.com/assets/colab-badge.svg\" alt=\"Open In Colab\"/></a>"
      ]
    },
    {
      "cell_type": "code",
      "source": [
        "t = int(input())\n",
        "\n",
        "for i in range(t):\n",
        "  answer = list(input())\n",
        "  \n",
        "  idx = 1\n",
        "  plus = 1\n",
        "  score = []\n",
        "\n",
        "  for ans in answer:\n",
        "    if ans == 'O':\n",
        "      if (idx != 1) & (answer[idx - 1] == \"O\"):\n",
        "        idx += 1\n",
        "        plus += 1\n",
        "        score.append(plus)\n",
        "      else:\n",
        "        score.append(1)\n",
        "        idx += 1\n",
        "  \n",
        "    else:\n",
        "      score.append(0)\n",
        "      plus = 0\n",
        "      idx += 1 \n",
        "  \n",
        "  print(sum(score))"
      ],
      "metadata": {
        "colab": {
          "base_uri": "https://localhost:8080/"
        },
        "id": "8SLmNeLprMBk",
        "outputId": "6f0627eb-a9a3-4d7d-a513-98243f0dffd0"
      },
      "execution_count": 14,
      "outputs": [
        {
          "output_type": "stream",
          "name": "stdout",
          "text": [
            "5\n",
            "OOXXOXXOOO\n",
            "10\n",
            "OOXXOOXXOO\n",
            "9\n",
            "OXOXOXOXOXOXOX\n",
            "7\n",
            "OOOOOOOOOO\n",
            "55\n",
            "OOOOXOOOOXOOOOX\n",
            "30\n"
          ]
        }
      ]
    },
    {
      "cell_type": "code",
      "source": [
        "t = int(input())\n",
        "\n",
        "for i in range(t):\n",
        "  answer = list(input())\n",
        "\n",
        "  score = 0\n",
        "  total_score = 0\n",
        "\n",
        "  for ans in answer:\n",
        "    if ans == 'O':\n",
        "      score += 1\n",
        "      total_score += score\n",
        "    else:\n",
        "      score = 0\n",
        "\n",
        "  print(total_score)"
      ],
      "metadata": {
        "colab": {
          "base_uri": "https://localhost:8080/"
        },
        "id": "kQzl-gVL0_Jo",
        "outputId": "b423ec68-a664-4f1b-d718-1c8afc250ce3"
      },
      "execution_count": 16,
      "outputs": [
        {
          "output_type": "stream",
          "name": "stdout",
          "text": [
            "5\n",
            "OOXXOXXOOO\n",
            "10\n",
            "OOXXOOXXOO\n",
            "9\n",
            "OXOXOXOXOXOXOX\n",
            "7\n",
            "OOOOOOOOOO\n",
            "55\n",
            "OOOOXOOOOXOOOOX\n",
            "30\n"
          ]
        }
      ]
    }
  ]
}