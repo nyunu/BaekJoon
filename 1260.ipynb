{
  "nbformat": 4,
  "nbformat_minor": 0,
  "metadata": {
    "colab": {
      "provenance": [],
      "authorship_tag": "ABX9TyMBDi5gjWYz/Mzg4UiFo71B",
      "include_colab_link": true
    },
    "kernelspec": {
      "name": "python3",
      "display_name": "Python 3"
    },
    "language_info": {
      "name": "python"
    }
  },
  "cells": [
    {
      "cell_type": "markdown",
      "metadata": {
        "id": "view-in-github",
        "colab_type": "text"
      },
      "source": [
        "<a href=\"https://colab.research.google.com/github/nyunu/BaekJoon/blob/main/1260.ipynb\" target=\"_parent\"><img src=\"https://colab.research.google.com/assets/colab-badge.svg\" alt=\"Open In Colab\"/></a>"
      ]
    },
    {
      "cell_type": "code",
      "source": [
        "n, m, v = map(int, input().split())\n",
        "graph = [[] for i in range(n + 1)]\n",
        "queue = []\n",
        "visit_dfs = []\n",
        "visit_bfs = []\n",
        "\n",
        "for _ in range(m):\n",
        "  a, b = map(int, input().split())\n",
        "  graph[a].append(b)\n",
        "  graph[b].append(a)\n",
        "\n",
        "for i in graph:\n",
        "  i.sort()\n",
        "\n",
        "def dfs(idx):\n",
        "  print(idx, end = ' ')\n",
        "  visit_dfs.append(idx)\n",
        "  for i in graph[idx]:\n",
        "    if i not in visit_dfs:\n",
        "      dfs(i)\n",
        "\n",
        "def bfs(idx):\n",
        "  visit_bfs.append(idx)\n",
        "  print(idx, end = ' ')\n",
        "  while True:\n",
        "    for i in graph[idx]:\n",
        "      if i not in visit_bfs:\n",
        "        queue.append(i)\n",
        "        visit_bfs.append(i)\n",
        "        print(i, end = ' ')\n",
        "    if len(queue) == 0:\n",
        "      break;\n",
        "    idx = queue.pop(0)\n",
        "\n",
        "\n",
        "dfs(v)\n",
        "print()\n",
        "bfs(v)"
      ],
      "metadata": {
        "colab": {
          "base_uri": "https://localhost:8080/"
        },
        "id": "3Vt_MndhUIrC",
        "outputId": "0dd04ceb-5f1e-4a39-9886-db7c01168f31"
      },
      "execution_count": 11,
      "outputs": [
        {
          "output_type": "stream",
          "name": "stdout",
          "text": [
            "5 5 3\n",
            "5 4\n",
            "5 2\n",
            "1 2\n",
            "3 4\n",
            "3 1\n",
            "3 1 2 5 4 \n",
            "3 1 4 2 5 "
          ]
        }
      ]
    }
  ]
}