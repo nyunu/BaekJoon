{
  "nbformat": 4,
  "nbformat_minor": 0,
  "metadata": {
    "colab": {
      "provenance": [],
      "authorship_tag": "ABX9TyPmDvJckLsPMGtBzlCudDgq",
      "include_colab_link": true
    },
    "kernelspec": {
      "name": "python3",
      "display_name": "Python 3"
    },
    "language_info": {
      "name": "python"
    }
  },
  "cells": [
    {
      "cell_type": "markdown",
      "metadata": {
        "id": "view-in-github",
        "colab_type": "text"
      },
      "source": [
        "<a href=\"https://colab.research.google.com/github/nyunu/BaekJoon/blob/main/%ED%83%9D%EB%B0%B0%EC%83%81%EC%9E%90.ipynb\" target=\"_parent\"><img src=\"https://colab.research.google.com/assets/colab-badge.svg\" alt=\"Open In Colab\"/></a>"
      ]
    },
    {
      "cell_type": "code",
      "execution_count": null,
      "metadata": {
        "id": "cOJeOeN_3hbB"
      },
      "outputs": [],
      "source": [
        "def solution(order):\n",
        "    answer = 0\n",
        "    basic = [i for i in range(1, len(order) + 1)]\n",
        "    con = []\n",
        "    idx = 0\n",
        "\n",
        "    for i in basic:\n",
        "        if i == order[idx]:\n",
        "            answer += 1\n",
        "            idx += 1\n",
        "            while con and con[-1] == order[idx]:\n",
        "                con.pop()\n",
        "                answer += 1\n",
        "                idx += 1\n",
        "        else:\n",
        "            con.append(i)\n",
        "\n",
        "        if con and con[-1] > order[idx]:\n",
        "            break\n",
        "\n",
        "    return answer"
      ]
    }
  ]
}