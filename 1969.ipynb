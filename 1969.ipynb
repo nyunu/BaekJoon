{
  "nbformat": 4,
  "nbformat_minor": 0,
  "metadata": {
    "colab": {
      "provenance": [],
      "authorship_tag": "ABX9TyOV/Vj9DBGaHjgIVMNhHZoq",
      "include_colab_link": true
    },
    "kernelspec": {
      "name": "python3",
      "display_name": "Python 3"
    },
    "language_info": {
      "name": "python"
    }
  },
  "cells": [
    {
      "cell_type": "markdown",
      "metadata": {
        "id": "view-in-github",
        "colab_type": "text"
      },
      "source": [
        "<a href=\"https://colab.research.google.com/github/nyunu/BaekJoon/blob/main/1969.ipynb\" target=\"_parent\"><img src=\"https://colab.research.google.com/assets/colab-badge.svg\" alt=\"Open In Colab\"/></a>"
      ]
    },
    {
      "cell_type": "code",
      "source": [
        "n, m = map(int, input().split())\n",
        "dna = []\n",
        "answer = ''\n",
        "value = 0\n",
        "\n",
        "for _ in range(n):\n",
        "  dna.append(input())\n",
        "\n",
        "for i in range(m):\n",
        "  dic = {'A':0, 'C':0, 'G':0, 'T':0}\n",
        "  for j in range(n):\n",
        "    dic[dna[j][i]] += 1\n",
        "  answer += max(dic, key=dic.get)\n",
        "  a = answer[-1]\n",
        "  if a == 'A':\n",
        "    value += dic['C'] + dic['G'] + dic['T']\n",
        "  elif a == 'C':\n",
        "    value += dic['A'] + dic['G'] + dic['T']\n",
        "  elif a == 'G':\n",
        "    value += dic['A'] + dic['C'] + dic['T']\n",
        "  else:\n",
        "    value += dic['A'] + dic['C'] + dic['G']\n",
        "\n",
        "print(answer)\n",
        "print(value)"
      ],
      "metadata": {
        "colab": {
          "base_uri": "https://localhost:8080/"
        },
        "id": "P2nFo7JRptC2",
        "outputId": "818373e7-d7ec-4a1f-8a63-78bdab17f210"
      },
      "execution_count": 10,
      "outputs": [
        {
          "output_type": "stream",
          "name": "stdout",
          "text": [
            "5 8\n",
            "TATGATAC\n",
            "TAAGCTAC\n",
            "AAAGATCC\n",
            "TGAGATAC\n",
            "TAAGATGT\n",
            "TAAGATAC\n",
            "7\n"
          ]
        }
      ]
    }
  ]
}