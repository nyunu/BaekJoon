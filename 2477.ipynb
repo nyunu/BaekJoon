{
  "nbformat": 4,
  "nbformat_minor": 0,
  "metadata": {
    "colab": {
      "provenance": [],
      "authorship_tag": "ABX9TyOIopq1BhHhyAKealDNq7Zw",
      "include_colab_link": true
    },
    "kernelspec": {
      "name": "python3",
      "display_name": "Python 3"
    },
    "language_info": {
      "name": "python"
    }
  },
  "cells": [
    {
      "cell_type": "markdown",
      "metadata": {
        "id": "view-in-github",
        "colab_type": "text"
      },
      "source": [
        "<a href=\"https://colab.research.google.com/github/nyunu/BaekJoon/blob/main/2477.ipynb\" target=\"_parent\"><img src=\"https://colab.research.google.com/assets/colab-badge.svg\" alt=\"Open In Colab\"/></a>"
      ]
    },
    {
      "cell_type": "code",
      "source": [
        "n = int(input())\n",
        "\n",
        "dx = []\n",
        "dy = []\n",
        "total = []\n",
        "for _ in range(6):\n",
        "  dir, move = map(int, input().split())\n",
        "  if dir in [1, 2]:\n",
        "    dx.append(move)\n",
        "  else:\n",
        "    dy.append(move)\n",
        "  total.append(move)\n",
        "\n",
        "x_idx = total.index(max(dx))\n",
        "y_idx = total.index(max(dy))\n",
        "\n",
        "small_x = abs(total[x_idx - 1] - total[(0 if x_idx == 5 else x_idx + 1)])\n",
        "small_y = abs(total[y_idx - 1] - total[(0 if y_idx == 5 else y_idx + 1)])\n",
        "\n",
        "print(((max(dx) * max(dy)) - (small_x * small_y)) * n)"
      ],
      "metadata": {
        "colab": {
          "base_uri": "https://localhost:8080/"
        },
        "id": "Qu6qznvu7yaU",
        "outputId": "5778f985-31fd-43ce-cac1-1a023a68f3cc"
      },
      "execution_count": 5,
      "outputs": [
        {
          "output_type": "stream",
          "name": "stdout",
          "text": [
            "7\n",
            "4 50\n",
            "2 160\n",
            "3 30\n",
            "1 60\n",
            "3 20\n",
            "1 100\n",
            "6800\n"
          ]
        }
      ]
    }
  ]
}