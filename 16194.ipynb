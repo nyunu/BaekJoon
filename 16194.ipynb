{
  "nbformat": 4,
  "nbformat_minor": 0,
  "metadata": {
    "colab": {
      "provenance": [],
      "authorship_tag": "ABX9TyM+Cp+58MomjsFj6htv55/b",
      "include_colab_link": true
    },
    "kernelspec": {
      "name": "python3",
      "display_name": "Python 3"
    },
    "language_info": {
      "name": "python"
    }
  },
  "cells": [
    {
      "cell_type": "markdown",
      "metadata": {
        "id": "view-in-github",
        "colab_type": "text"
      },
      "source": [
        "<a href=\"https://colab.research.google.com/github/nyunu/BaekJoon/blob/main/16194.ipynb\" target=\"_parent\"><img src=\"https://colab.research.google.com/assets/colab-badge.svg\" alt=\"Open In Colab\"/></a>"
      ]
    },
    {
      "cell_type": "code",
      "source": [
        "n = int(input())\n",
        "card = [0] + list(map(int, input().split()))\n",
        "\n",
        "for i in range(2, n + 1):\n",
        "  for j in range(1, i // 2 + 1):\n",
        "    if card[i] > card[j] + card[i - j]:\n",
        "      card[i] = card[j] + card[i - j]\n",
        "\n",
        "print(card[n])"
      ],
      "metadata": {
        "colab": {
          "base_uri": "https://localhost:8080/"
        },
        "id": "KgT2RAfj3qsF",
        "outputId": "0a84b037-5481-4db7-9de9-d4e95b50d770"
      },
      "execution_count": 9,
      "outputs": [
        {
          "output_type": "stream",
          "name": "stdout",
          "text": [
            "10\n",
            "1 1 2 3 5 8 13 21 34 55\n",
            "5\n"
          ]
        }
      ]
    },
    {
      "cell_type": "code",
      "source": [
        "n = int(input())\n",
        "card = [0] + list(map(int, input().split()))\n",
        "\n",
        "for i in range(2, n + 1):\n",
        "  for j in range(1, i // 2 + 1):\n",
        "    card[i] = min(card[j] + card[i - j], card[i])\n",
        "\n",
        "print(card[n])"
      ],
      "metadata": {
        "id": "G6kX15NRuKg7"
      },
      "execution_count": null,
      "outputs": []
    }
  ]
}