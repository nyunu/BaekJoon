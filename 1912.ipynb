{
  "nbformat": 4,
  "nbformat_minor": 0,
  "metadata": {
    "colab": {
      "provenance": [],
      "authorship_tag": "ABX9TyMEvy5mLSMBlZtCgmKpdUFF",
      "include_colab_link": true
    },
    "kernelspec": {
      "name": "python3",
      "display_name": "Python 3"
    },
    "language_info": {
      "name": "python"
    }
  },
  "cells": [
    {
      "cell_type": "markdown",
      "metadata": {
        "id": "view-in-github",
        "colab_type": "text"
      },
      "source": [
        "<a href=\"https://colab.research.google.com/github/nyunu/BaekJoon/blob/main/1912.ipynb\" target=\"_parent\"><img src=\"https://colab.research.google.com/assets/colab-badge.svg\" alt=\"Open In Colab\"/></a>"
      ]
    },
    {
      "cell_type": "code",
      "execution_count": null,
      "metadata": {
        "colab": {
          "base_uri": "https://localhost:8080/"
        },
        "id": "AOAej6y160YP",
        "outputId": "117d32da-9163-48af-86e6-0321d86a7263"
      },
      "outputs": [
        {
          "output_type": "stream",
          "name": "stdout",
          "text": [
            "10\n",
            "10 -4 3 1 5 6 -35 12 21 -1\n",
            "33\n"
          ]
        }
      ],
      "source": [
        "n = int(input())\n",
        "arr = list(map(int, input().split()))\n",
        "\n",
        "for i in range(1, n):\n",
        "  arr[i] = max(arr[i], arr[i] + arr[i - 1])\n",
        "\n",
        "print(max(arr))"
      ]
    }
  ]
}