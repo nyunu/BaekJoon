{
  "nbformat": 4,
  "nbformat_minor": 0,
  "metadata": {
    "colab": {
      "provenance": [],
      "authorship_tag": "ABX9TyP4AUVjjpaYfdpwTcxySH2e",
      "include_colab_link": true
    },
    "kernelspec": {
      "name": "python3",
      "display_name": "Python 3"
    },
    "language_info": {
      "name": "python"
    }
  },
  "cells": [
    {
      "cell_type": "markdown",
      "metadata": {
        "id": "view-in-github",
        "colab_type": "text"
      },
      "source": [
        "<a href=\"https://colab.research.google.com/github/nyunu/BaekJoon/blob/main/%EB%B2%A0%EC%8A%A4%ED%8A%B8_%EC%95%A8%EB%B2%94.ipynb\" target=\"_parent\"><img src=\"https://colab.research.google.com/assets/colab-badge.svg\" alt=\"Open In Colab\"/></a>"
      ]
    },
    {
      "cell_type": "code",
      "source": [
        "def solution(genres, plays):\n",
        "    dic = {}\n",
        "    idx = 0\n",
        "    # {'장르' : [[[실행횟수, 고유번호], ...], 장르의 총실행횟수]} 딕셔너리\n",
        "    for g, p in zip(genres, plays):\n",
        "        if g not in dic:\n",
        "            dic[g] = [[[p, idx]], p]\n",
        "        else:\n",
        "            dic[g][0].append([p, idx])\n",
        "            dic[g][1] += p\n",
        "        idx += 1\n",
        "    # 총 실행횟수 기준 정렬\n",
        "    dic = sorted(dic.items(), key= lambda item:item[1][1], reverse=True)\n",
        "\n",
        "    # 장르에 노래가 하나만 있을 때, 그대로 추가\n",
        "    # 두 개 이상이면 실행횟수에 내림차순, 고유번호에 오름차순으로 정렬 후\n",
        "    # 두 개 추가\n",
        "    answer = []\n",
        "    for i in dic:\n",
        "        if len(i[1][0]) == 1:\n",
        "            answer.append(i[1][0][0][1])\n",
        "        else:\n",
        "            i[1][0].sort(key = lambda x: (-x[0], x[1]))\n",
        "            answer.append(i[1][0][0][1])\n",
        "            answer.append(i[1][0][1][1])\n",
        "\n",
        "    return answer\n",
        "\n",
        "solution([\"classic\", \"pop\", \"classic\", \"classic\", \"pop\"], [500, 600, 150, 800, 2500])"
      ],
      "metadata": {
        "colab": {
          "base_uri": "https://localhost:8080/"
        },
        "id": "kT6f_65nedZF",
        "outputId": "0f6f637b-6874-4177-b46a-4554ff6e417a"
      },
      "execution_count": null,
      "outputs": [
        {
          "output_type": "execute_result",
          "data": {
            "text/plain": [
              "[4, 1, 3, 0]"
            ]
          },
          "metadata": {},
          "execution_count": 14
        }
      ]
    }
  ]
}