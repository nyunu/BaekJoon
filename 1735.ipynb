{
  "nbformat": 4,
  "nbformat_minor": 0,
  "metadata": {
    "colab": {
      "provenance": [],
      "authorship_tag": "ABX9TyPx3T2CYnpXIoIdAMGijG8A",
      "include_colab_link": true
    },
    "kernelspec": {
      "name": "python3",
      "display_name": "Python 3"
    },
    "language_info": {
      "name": "python"
    }
  },
  "cells": [
    {
      "cell_type": "markdown",
      "metadata": {
        "id": "view-in-github",
        "colab_type": "text"
      },
      "source": [
        "<a href=\"https://colab.research.google.com/github/nyunu/BaekJoon/blob/main/1735.ipynb\" target=\"_parent\"><img src=\"https://colab.research.google.com/assets/colab-badge.svg\" alt=\"Open In Colab\"/></a>"
      ]
    },
    {
      "cell_type": "code",
      "source": [
        "a1, a2 = map(int, input().split())\n",
        "b1, b2 = map(int, input().split())\n",
        "\n",
        "under = a2 * b2\n",
        "up = (a1 * b2) + (a2 * b1)\n",
        "\n",
        "def GCD(a, b):\n",
        "  if b == 0: return a\n",
        "  else: return GCD(b, a % b)\n",
        "\n",
        "gcd = GCD(max(under, up), min(under, up))\n",
        "\n",
        "print(up//gcd, under//gcd)"
      ],
      "metadata": {
        "colab": {
          "base_uri": "https://localhost:8080/"
        },
        "id": "3ZQXFZQsavQs",
        "outputId": "6f3c4f09-3524-4ae0-85aa-dcd8494d1189"
      },
      "execution_count": 4,
      "outputs": [
        {
          "output_type": "stream",
          "name": "stdout",
          "text": [
            "2 7\n",
            "3 5\n",
            "31 35\n"
          ]
        }
      ]
    }
  ]
}