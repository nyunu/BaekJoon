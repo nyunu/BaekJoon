{
  "nbformat": 4,
  "nbformat_minor": 0,
  "metadata": {
    "colab": {
      "provenance": [],
      "authorship_tag": "ABX9TyN3giac/Waa6ah0j0w/MAyc",
      "include_colab_link": true
    },
    "kernelspec": {
      "name": "python3",
      "display_name": "Python 3"
    },
    "language_info": {
      "name": "python"
    }
  },
  "cells": [
    {
      "cell_type": "markdown",
      "metadata": {
        "id": "view-in-github",
        "colab_type": "text"
      },
      "source": [
        "<a href=\"https://colab.research.google.com/github/nyunu/BaekJoon/blob/main/2606.ipynb\" target=\"_parent\"><img src=\"https://colab.research.google.com/assets/colab-badge.svg\" alt=\"Open In Colab\"/></a>"
      ]
    },
    {
      "cell_type": "markdown",
      "source": [
        "- DFS"
      ],
      "metadata": {
        "id": "Rtr-ycddeCJ3"
      }
    },
    {
      "cell_type": "code",
      "source": [
        "num = int(input())\n",
        "pair = int(input())\n",
        "dic = dict()\n",
        "\n",
        "for _ in range(pair):\n",
        "  a, b = map(int, input().split())\n",
        "  if a not in dic.keys():\n",
        "    dic[a] = []\n",
        "  dic[a].append(b)\n",
        "  dic[a].sort()\n",
        "  if b not in dic.keys():\n",
        "    dic[b] = []\n",
        "  dic[b].append(a)\n",
        "  dic[b].sort()\n",
        "\n",
        "def dfs(idx):\n",
        "  visit.append(idx)\n",
        "  for i in dic[idx]:\n",
        "    if i not in visit:\n",
        "      dfs(i)\n",
        "\n",
        "if 1 not in dic.keys():\n",
        "  print(0)\n",
        "else:\n",
        "  visit = []\n",
        "  dfs(1)\n",
        "  print(len(visit) - 1)"
      ],
      "metadata": {
        "colab": {
          "base_uri": "https://localhost:8080/"
        },
        "id": "3ZQXFZQsavQs",
        "outputId": "8ad34a9b-b3e1-4977-8592-4f6c6012dcf1"
      },
      "execution_count": 7,
      "outputs": [
        {
          "output_type": "stream",
          "name": "stdout",
          "text": [
            "5\n",
            "3\n",
            "1 2\n",
            "1 3\n",
            "2 4\n",
            "3\n"
          ]
        }
      ]
    },
    {
      "cell_type": "markdown",
      "source": [
        "- BFS"
      ],
      "metadata": {
        "id": "_FLKEzV-eE4v"
      }
    },
    {
      "cell_type": "code",
      "source": [
        "num = int(input())\n",
        "pair = int(input())\n",
        "dic = dict()\n",
        "queue = []\n",
        "\n",
        "for _ in range(pair):\n",
        "  a, b = map(int, input().split())\n",
        "  if a not in dic.keys():\n",
        "    dic[a] = []\n",
        "  dic[a].append(b)\n",
        "  if b not in dic.keys():\n",
        "    dic[b] = []\n",
        "  dic[b].append(a)\n",
        "\n",
        "def bfs(idx):\n",
        "  while True:\n",
        "    for i in dic[idx]:\n",
        "      if i not in visit:\n",
        "        queue.append(i)\n",
        "        visit.append(i)\n",
        "    if len(queue) == 0:\n",
        "      break;\n",
        "    idx = queue.pop(0)\n",
        "\n",
        "if 1 not in dic.keys():\n",
        "  print(0)\n",
        "else:\n",
        "  visit = [1]\n",
        "  queue = [1]\n",
        "  bfs(1)\n",
        "  print(len(visit) - 1)"
      ],
      "metadata": {
        "colab": {
          "base_uri": "https://localhost:8080/"
        },
        "id": "xY-c5gg0eHWZ",
        "outputId": "60f214ea-0168-4e35-9f06-63d72cc3af8a"
      },
      "execution_count": 6,
      "outputs": [
        {
          "output_type": "stream",
          "name": "stdout",
          "text": [
            "5\n",
            "3\n",
            "1 2\n",
            "1 3\n",
            "2 4\n",
            "3\n"
          ]
        }
      ]
    }
  ]
}