{
  "nbformat": 4,
  "nbformat_minor": 0,
  "metadata": {
    "colab": {
      "provenance": [],
      "authorship_tag": "ABX9TyN+GCul0niHFD+IyVE0/rvi",
      "include_colab_link": true
    },
    "kernelspec": {
      "name": "python3",
      "display_name": "Python 3"
    },
    "language_info": {
      "name": "python"
    }
  },
  "cells": [
    {
      "cell_type": "markdown",
      "metadata": {
        "id": "view-in-github",
        "colab_type": "text"
      },
      "source": [
        "<a href=\"https://colab.research.google.com/github/nyunu/BaekJoon/blob/main/%EC%9D%B4%EC%BD%94%ED%85%8C_%EC%83%81%ED%95%98%EC%A2%8C%EC%9A%B0.ipynb\" target=\"_parent\"><img src=\"https://colab.research.google.com/assets/colab-badge.svg\" alt=\"Open In Colab\"/></a>"
      ]
    },
    {
      "cell_type": "markdown",
      "source": [
        "- 내 풀이 -> 중첩 for문을 쓰지 않고, 비교문을 사용해서 시간 복잡도를 낮추는게 좋다고 생각했음"
      ],
      "metadata": {
        "id": "Icau_0CrNdmw"
      }
    },
    {
      "cell_type": "code",
      "execution_count": 7,
      "metadata": {
        "colab": {
          "base_uri": "https://localhost:8080/"
        },
        "id": "INZB4oc8yypZ",
        "outputId": "becef4f0-7191-437a-9acb-4822cd383d64"
      },
      "outputs": [
        {
          "output_type": "stream",
          "name": "stdout",
          "text": [
            "5\n",
            "R R R U D D\n",
            "3 4\n"
          ]
        }
      ],
      "source": [
        "n = int(input())\n",
        "arr = list(map(str, input().split()))\n",
        "dx, dy = 1, 1\n",
        "\n",
        "x_lst = ['R', 'L']\n",
        "dic = {'R':1, 'L': -1, 'U':-1, 'D':1}\n",
        "\n",
        "for i in arr:\n",
        "  if (i in x_lst) and (1 <= dx + dic[i]) and (dx + dic[i] <= n):\n",
        "    dx += dic[i]\n",
        "  elif (1 <= dy + dic[i]) and (dy + dic[i] <= n):\n",
        "    dy += dic[i]\n",
        "\n",
        "print(dy, dx)"
      ]
    },
    {
      "cell_type": "markdown",
      "source": [
        "- 도서 내 풀이 -> 근데 중첩 for문 사용해도 괜찮나봄"
      ],
      "metadata": {
        "id": "hoLmwoiFNlC8"
      }
    },
    {
      "cell_type": "code",
      "source": [
        "n = int(input())\n",
        "arr = list(map(str, input().split()))\n",
        "x, y = 1, 1\n",
        "\n",
        "dx = [1, -1, 0, 0]\n",
        "dy = [0, 0, 1, -1]\n",
        "move_types = ['R', 'L', 'D', 'U']\n",
        "\n",
        "for i in arr:\n",
        "  for j in range(len(move_types)):\n",
        "    if i == move_types[j]:\n",
        "      nx = x + dx[j]\n",
        "      ny = y + dy[j]\n",
        "  if nx > n or nx < 1 or ny > n or ny < 1:\n",
        "    continue;\n",
        "  x, y = nx, ny\n",
        "\n",
        "print(y, x)"
      ],
      "metadata": {
        "colab": {
          "base_uri": "https://localhost:8080/"
        },
        "id": "JNvVPAH5M3FF",
        "outputId": "7cc5b45a-7ce4-47fb-be0b-d74d185ce579"
      },
      "execution_count": 9,
      "outputs": [
        {
          "output_type": "stream",
          "name": "stdout",
          "text": [
            "5\n",
            "R R R U D D\n",
            "3 4\n"
          ]
        }
      ]
    }
  ]
}