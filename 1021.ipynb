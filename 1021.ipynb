{
  "nbformat": 4,
  "nbformat_minor": 0,
  "metadata": {
    "colab": {
      "provenance": [],
      "authorship_tag": "ABX9TyN0ot0Mx4BoIrV0OOOJ7+bq",
      "include_colab_link": true
    },
    "kernelspec": {
      "name": "python3",
      "display_name": "Python 3"
    },
    "language_info": {
      "name": "python"
    }
  },
  "cells": [
    {
      "cell_type": "markdown",
      "metadata": {
        "id": "view-in-github",
        "colab_type": "text"
      },
      "source": [
        "<a href=\"https://colab.research.google.com/github/nyunu/BaekJoon/blob/main/1021.ipynb\" target=\"_parent\"><img src=\"https://colab.research.google.com/assets/colab-badge.svg\" alt=\"Open In Colab\"/></a>"
      ]
    },
    {
      "cell_type": "code",
      "execution_count": null,
      "metadata": {
        "colab": {
          "base_uri": "https://localhost:8080/"
        },
        "id": "9fk3QmkTzAKs",
        "outputId": "306495e7-e4d8-48a8-87b6-1719708a6a8e"
      },
      "outputs": [
        {
          "output_type": "stream",
          "name": "stdout",
          "text": [
            "10 10\n",
            "1 6 3 2 7 9 8 4 10 5\n",
            "14\n"
          ]
        }
      ],
      "source": [
        "N, m = map(int, input().split())\n",
        "lst = list(map(int, input().split()))\n",
        "queue = list(range(1, N + 1))\n",
        "cnt = 0\n",
        "\n",
        "for i in lst:\n",
        "  while True:\n",
        "    if queue[0] == i:\n",
        "      queue.pop(0)\n",
        "      break\n",
        "    else:\n",
        "      if queue.index(i) <= len(queue) // 2:\n",
        "        while queue[0] != i:\n",
        "          queue.append(queue.pop(0))\n",
        "          cnt += 1\n",
        "      else:\n",
        "        while queue[0] != i:\n",
        "          queue.insert(0, queue.pop(-1))\n",
        "          cnt += 1\n",
        "\n",
        "print(cnt)"
      ]
    }
  ]
}