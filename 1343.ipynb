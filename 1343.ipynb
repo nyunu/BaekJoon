{
  "cells": [
    {
      "cell_type": "markdown",
      "metadata": {
        "id": "view-in-github",
        "colab_type": "text"
      },
      "source": [
        "<a href=\"https://colab.research.google.com/github/nyunu/BaekJoon/blob/main/1343.ipynb\" target=\"_parent\"><img src=\"https://colab.research.google.com/assets/colab-badge.svg\" alt=\"Open In Colab\"/></a>"
      ]
    },
    {
      "cell_type": "code",
      "source": [
        "ipt = input()\n",
        "\n",
        "ipt = ipt.replace(\"XXXX\", \"AAAA\")\n",
        "ipt = ipt.replace(\"XX\", \"BB\")\n",
        "\n",
        "if 'X' in ipt:\n",
        "    print(-1)\n",
        "else:\n",
        "    print(ipt)"
      ],
      "metadata": {
        "colab": {
          "base_uri": "https://localhost:8080/"
        },
        "id": "WgkCwyquydYk",
        "outputId": "9f12bc3b-524d-43db-f591-cc1f2f633a73"
      },
      "execution_count": 39,
      "outputs": [
        {
          "output_type": "stream",
          "name": "stdout",
          "text": [
            "XXXX....XXX.....XX\n",
            "-1\n"
          ]
        }
      ]
    }
  ],
  "metadata": {
    "colab": {
      "provenance": [],
      "authorship_tag": "ABX9TyMxEegDjs2msh5/k5fKilel",
      "include_colab_link": true
    },
    "kernelspec": {
      "display_name": "Python 3",
      "name": "python3"
    },
    "language_info": {
      "name": "python"
    }
  },
  "nbformat": 4,
  "nbformat_minor": 0
}