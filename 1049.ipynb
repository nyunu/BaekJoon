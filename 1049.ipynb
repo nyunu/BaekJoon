{
  "cells": [
    {
      "cell_type": "markdown",
      "metadata": {
        "id": "view-in-github",
        "colab_type": "text"
      },
      "source": [
        "<a href=\"https://colab.research.google.com/github/nyunu/BaekJoon/blob/main/1049.ipynb\" target=\"_parent\"><img src=\"https://colab.research.google.com/assets/colab-badge.svg\" alt=\"Open In Colab\"/></a>"
      ]
    },
    {
      "cell_type": "code",
      "source": [
        "n, m = map(int, input().split())\n",
        "set_cost = []\n",
        "ind_cost = []\n",
        "cost = []\n",
        "\n",
        "for _ in range(m):\n",
        "  a, b = map(int, input().split())\n",
        "  set_cost.append(a)\n",
        "  ind_cost.append(b)\n",
        "\n",
        "cost.append(min(set_cost) * (n // 6) + min(ind_cost) * (n % 6))\n",
        "cost.append(min(set_cost) * ((n // 6) + 1))\n",
        "cost.append(min(ind_cost) * n)\n",
        "print(min(cost))"
      ],
      "metadata": {
        "colab": {
          "base_uri": "https://localhost:8080/"
        },
        "id": "O7KC2Rp9nqEF",
        "outputId": "dec3ede0-666e-492d-ad57-b3baf17611e0"
      },
      "execution_count": 7,
      "outputs": [
        {
          "output_type": "stream",
          "name": "stdout",
          "text": [
            "17 1\n",
            "12 3\n",
            "36\n"
          ]
        }
      ]
    },
    {
      "cell_type": "code",
      "source": [
        "n, m = map(int, input().split())\n",
        "set_cost = []\n",
        "ind_cost = []\n",
        "\n",
        "for _ in range(m):\n",
        "  a, b = map(int, input().split())\n",
        "  set_cost.append(a)\n",
        "  ind_cost.append(b)\n",
        "\n",
        "min_set = min(set_cost)\n",
        "min_ind = min(ind_cost)\n",
        "\n",
        "if min_set < min_ind * 6:\n",
        "  if min_set < (n % 6) * min_ind:\n",
        "    print(min_set * ((n // 6) + 1))\n",
        "  else:\n",
        "    print(min_set * (n // 6) + min_ind * (n % 6))\n",
        "else :\n",
        "  print(min_ind * n)"
      ],
      "metadata": {
        "colab": {
          "base_uri": "https://localhost:8080/"
        },
        "id": "3r5XC16EawC7",
        "outputId": "55c3c845-c215-40e7-e9d2-8a983a292675"
      },
      "execution_count": 8,
      "outputs": [
        {
          "output_type": "stream",
          "name": "stdout",
          "text": [
            "17 1\n",
            "12 3\n",
            "36\n"
          ]
        }
      ]
    }
  ],
  "metadata": {
    "colab": {
      "provenance": [],
      "authorship_tag": "ABX9TyM0c9u/vXBDC/uk600VLPdw",
      "include_colab_link": true
    },
    "kernelspec": {
      "display_name": "Python 3",
      "name": "python3"
    },
    "language_info": {
      "name": "python"
    }
  },
  "nbformat": 4,
  "nbformat_minor": 0
}