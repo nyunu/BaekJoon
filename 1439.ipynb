{
  "nbformat": 4,
  "nbformat_minor": 0,
  "metadata": {
    "colab": {
      "provenance": [],
      "authorship_tag": "ABX9TyPKLHviyyP3yzARNuDJKoMF",
      "include_colab_link": true
    },
    "kernelspec": {
      "name": "python3",
      "display_name": "Python 3"
    },
    "language_info": {
      "name": "python"
    }
  },
  "cells": [
    {
      "cell_type": "markdown",
      "metadata": {
        "id": "view-in-github",
        "colab_type": "text"
      },
      "source": [
        "<a href=\"https://colab.research.google.com/github/nyunu/BaekJoon/blob/main/1439.ipynb\" target=\"_parent\"><img src=\"https://colab.research.google.com/assets/colab-badge.svg\" alt=\"Open In Colab\"/></a>"
      ]
    },
    {
      "cell_type": "code",
      "source": [
        "word = str(input())\n",
        "cnt = 0\n",
        "\n",
        "for i in range(1, len(word)):\n",
        "  if word[i - 1] != word[i]:\n",
        "    cnt += 1\n",
        "\n",
        "print((cnt + 1) // 2)"
      ],
      "metadata": {
        "colab": {
          "base_uri": "https://localhost:8080/"
        },
        "id": "dEDNGZhJHQse",
        "outputId": "de295ab0-f4de-4b2a-b3db-10e3ea14bb7c"
      },
      "execution_count": 54,
      "outputs": [
        {
          "output_type": "stream",
          "name": "stdout",
          "text": [
            "00011110010101000\n",
            "4\n"
          ]
        }
      ]
    }
  ]
}