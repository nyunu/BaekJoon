{
  "nbformat": 4,
  "nbformat_minor": 0,
  "metadata": {
    "colab": {
      "provenance": [],
      "authorship_tag": "ABX9TyO41vp64fseWyNBzZHms0Hv",
      "include_colab_link": true
    },
    "kernelspec": {
      "name": "python3",
      "display_name": "Python 3"
    },
    "language_info": {
      "name": "python"
    }
  },
  "cells": [
    {
      "cell_type": "markdown",
      "metadata": {
        "id": "view-in-github",
        "colab_type": "text"
      },
      "source": [
        "<a href=\"https://colab.research.google.com/github/nyunu/BaekJoon/blob/main/1247.ipynb\" target=\"_parent\"><img src=\"https://colab.research.google.com/assets/colab-badge.svg\" alt=\"Open In Colab\"/></a>"
      ]
    },
    {
      "cell_type": "markdown",
      "source": [
        "* 시간초과 코드"
      ],
      "metadata": {
        "id": "_hJZEgL4F4y2"
      }
    },
    {
      "cell_type": "code",
      "source": [
        "for i in range(3):\n",
        "  t = int(input())\n",
        "  lst = []\n",
        "\n",
        "  for i in range(t):\n",
        "    x = int(input())\n",
        "    lst.append(x)\n",
        "\n",
        "  if sum(lst) == 0 :\n",
        "    print(\"0\")\n",
        "  elif sum(lst) > 0 :\n",
        "    print(\"+\")\n",
        "  else :\n",
        "    print(\"-\")"
      ],
      "metadata": {
        "id": "LMckutozyiqM"
      },
      "execution_count": null,
      "outputs": []
    },
    {
      "cell_type": "markdown",
      "source": [
        "* sys 사용 -> 시간초과 해결 (colab에서는 작동 X)"
      ],
      "metadata": {
        "id": "pRAcsSImF7tq"
      }
    },
    {
      "cell_type": "code",
      "source": [
        "from sys import stdin\n",
        "\n",
        "for i in range(3):\n",
        "  t = int(stdin.readline())\n",
        "  lst = []\n",
        "\n",
        "  for i in range(t):\n",
        "    x = int(stdin.readline())\n",
        "    lst.append(x)\n",
        "\n",
        "  if sum(lst) == 0 :\n",
        "    print(\"0\")\n",
        "  elif sum(lst) > 0 :\n",
        "    print(\"+\")\n",
        "  else :\n",
        "    print(\"-\")"
      ],
      "metadata": {
        "id": "6-yJedXFFjpF"
      },
      "execution_count": null,
      "outputs": []
    }
  ]
}