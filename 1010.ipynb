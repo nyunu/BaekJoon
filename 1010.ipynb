{
  "nbformat": 4,
  "nbformat_minor": 0,
  "metadata": {
    "colab": {
      "provenance": [],
      "authorship_tag": "ABX9TyMsRLUG+0F07XNfxFfoAiEo",
      "include_colab_link": true
    },
    "kernelspec": {
      "name": "python3",
      "display_name": "Python 3"
    },
    "language_info": {
      "name": "python"
    }
  },
  "cells": [
    {
      "cell_type": "markdown",
      "metadata": {
        "id": "view-in-github",
        "colab_type": "text"
      },
      "source": [
        "<a href=\"https://colab.research.google.com/github/nyunu/BaekJoon/blob/main/1010.ipynb\" target=\"_parent\"><img src=\"https://colab.research.google.com/assets/colab-badge.svg\" alt=\"Open In Colab\"/></a>"
      ]
    },
    {
      "cell_type": "markdown",
      "source": [
        "### **math** 라이브러리 -> math.comb"
      ],
      "metadata": {
        "id": "1NCh8kLFMhtN"
      }
    },
    {
      "cell_type": "code",
      "source": [
        "import math\n",
        "t = int(input())\n",
        "\n",
        "for _ in range(t):\n",
        "  r, n = map(int, input().split())\n",
        "  print(math.comb(n, r))"
      ],
      "metadata": {
        "colab": {
          "base_uri": "https://localhost:8080/"
        },
        "id": "zfuzz2cq6L93",
        "outputId": "be7d04a2-c29a-44d7-d36a-38a6ebe2256d"
      },
      "execution_count": 14,
      "outputs": [
        {
          "output_type": "stream",
          "name": "stdout",
          "text": [
            "3\n",
            "2 2\n",
            "1\n",
            "1 5\n",
            "5\n",
            "13 29\n",
            "67863915\n"
          ]
        }
      ]
    },
    {
      "cell_type": "markdown",
      "source": [
        "### **math** 라이브러리 -> math.factorial (조합 식 구현)"
      ],
      "metadata": {
        "id": "luTOICXjMnhs"
      }
    },
    {
      "cell_type": "code",
      "source": [
        "import math\n",
        "t = int(input())\n",
        "\n",
        "for _ in range(t):\n",
        "  r, n = map(int, input().split())\n",
        "  print(int(math.factorial(n) / (math.factorial(n - r) * math.factorial(r))))"
      ],
      "metadata": {
        "colab": {
          "base_uri": "https://localhost:8080/"
        },
        "id": "7rAkJOR1MAJL",
        "outputId": "2909ea22-a07d-48b7-f307-2a87e6cfc045"
      },
      "execution_count": 28,
      "outputs": [
        {
          "output_type": "stream",
          "name": "stdout",
          "text": [
            "1\n",
            "13 29\n",
            "67863915\n"
          ]
        }
      ]
    },
    {
      "cell_type": "markdown",
      "source": [
        "### **DP** 사용"
      ],
      "metadata": {
        "id": "8V41ag9pMrQJ"
      }
    },
    {
      "cell_type": "code",
      "source": [
        "t = int(input())\n",
        "\n",
        "for _ in range(t):\n",
        "  n, m = map(int, input().split())\n",
        "  dp = [[0] * (m + 1) for _ in range(n + 1)]\n",
        "\n",
        "  for i in range(1, n + 1):\n",
        "    for j in range(1, m + 1):\n",
        "      if i == 1:\n",
        "        dp[i][j] = j\n",
        "      elif i == j:\n",
        "        dp[i][j] = 1\n",
        "      elif i <= j:\n",
        "        dp[i][j] = dp[i - 1][j - 1] + dp[i][j - 1]\n",
        "\n",
        "  print(dp[n][m])"
      ],
      "metadata": {
        "colab": {
          "base_uri": "https://localhost:8080/"
        },
        "id": "PaUaubh_LPvB",
        "outputId": "4fc1fef4-25ae-4e95-a418-9fc41863fb89"
      },
      "execution_count": 24,
      "outputs": [
        {
          "output_type": "stream",
          "name": "stdout",
          "text": [
            "1\n",
            "13 29\n",
            "67863915\n"
          ]
        }
      ]
    }
  ]
}