{
  "cells": [
    {
      "cell_type": "markdown",
      "metadata": {
        "id": "view-in-github",
        "colab_type": "text"
      },
      "source": [
        "<a href=\"https://colab.research.google.com/github/nyunu/BaekJoon/blob/main/2037.ipynb\" target=\"_parent\"><img src=\"https://colab.research.google.com/assets/colab-badge.svg\" alt=\"Open In Colab\"/></a>"
      ]
    },
    {
      "cell_type": "code",
      "source": [
        "p, w = map(int, input().split())\n",
        "sen = list(input())\n",
        "dic = {1:\" \", 2:['A', 'B', 'C'], 3:['D', 'E', 'F'], 4:['G', 'H', 'I'],\n",
        "       5:['J', 'K', 'L'], 6:['M', 'N', 'O'], 7:['P', 'Q', 'R', 'S'],\n",
        "       8:['T', 'U', 'V'], 9:['W', 'X', 'Y', 'Z']}\n",
        "button_lst = []\n",
        "time = len(sen) * p\n",
        "\n",
        "for i in sen: # 문장을 알파벳별로 불러와서\n",
        "  for key in dic: # dic의 키를 for문으로 이용\n",
        "    if i in dic[key]: # 불러온 알파벳이 dic value인 리스트에 있을 때\n",
        "      button_lst.append(key) # button_lst에 키패드 번호를 저장\n",
        "      if dic[key].index(i) != 0: # index가 0이 아니라면\n",
        "        time += p * dic[key].index(i) # 한번 이상 버튼을 연속해서 눌러야한다는 의미이므로 그만큼의 시간을 더해줌\n",
        "      break; # for문 탈출\n",
        "\n",
        "for i in range(0, len(button_lst) - 1): # AB처럼 같은 버튼을 연속으로 두번 눌러야 할 때 중간에 w만큼의 시긴을 쉬어주어야 하므로 그것을 더해주기 위한 for문\n",
        "  if button_lst[i] == button_lst[i + 1]: # 키패드 번호가 다음 것과 동일하고\n",
        "    if button_lst[i] != 1: # 공백이 아니라면\n",
        "      time += w # w만큼의 시간을 더해줌\n",
        "\n",
        "print(time)"
      ],
      "metadata": {
        "colab": {
          "base_uri": "https://localhost:8080/"
        },
        "id": "Q_HhMwrEgtVl",
        "outputId": "674977e0-2705-4858-f307-e35769ffa91e"
      },
      "execution_count": 6,
      "outputs": [
        {
          "output_type": "stream",
          "name": "stdout",
          "text": [
            "2 10\n",
            "ABBAS SALAM\n",
            "72\n"
          ]
        }
      ]
    }
  ],
  "metadata": {
    "colab": {
      "provenance": [],
      "authorship_tag": "ABX9TyMHz78ISeJ8xNthAlCL9Q39",
      "include_colab_link": true
    },
    "kernelspec": {
      "display_name": "Python 3",
      "name": "python3"
    },
    "language_info": {
      "name": "python"
    }
  },
  "nbformat": 4,
  "nbformat_minor": 0
}