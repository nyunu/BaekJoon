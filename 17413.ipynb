{
  "nbformat": 4,
  "nbformat_minor": 0,
  "metadata": {
    "colab": {
      "provenance": [],
      "authorship_tag": "ABX9TyPEVeOkq9545wNXUvVCeCjw",
      "include_colab_link": true
    },
    "kernelspec": {
      "name": "python3",
      "display_name": "Python 3"
    },
    "language_info": {
      "name": "python"
    }
  },
  "cells": [
    {
      "cell_type": "markdown",
      "metadata": {
        "id": "view-in-github",
        "colab_type": "text"
      },
      "source": [
        "<a href=\"https://colab.research.google.com/github/nyunu/BaekJoon/blob/main/17413.ipynb\" target=\"_parent\"><img src=\"https://colab.research.google.com/assets/colab-badge.svg\" alt=\"Open In Colab\"/></a>"
      ]
    },
    {
      "cell_type": "code",
      "source": [
        "s = list(input())\n",
        "\n",
        "start = 0\n",
        "flag = 1\n",
        "for i in range(len(s)):\n",
        "  if s[i] == '<':\n",
        "    flag = 0\n",
        "    s[start:i] = s[start:i][::-1]\n",
        "  elif s[i] == '>':\n",
        "    start = i + 1\n",
        "    flag = 1\n",
        "  elif s[i] == ' ' and flag:\n",
        "    s[start:i] = s[start:i][::-1]\n",
        "    start = i + 1\n",
        "  elif i == len(s) - 1:\n",
        "    s[start:i + 1] = s[start:i + 1][::-1]\n",
        "\n",
        "print(''.join(s))"
      ],
      "metadata": {
        "colab": {
          "base_uri": "https://localhost:8080/"
        },
        "id": "Qu6qznvu7yaU",
        "outputId": "afc6fe58-40a7-49a1-dbe1-949f03a85a1d"
      },
      "execution_count": 32,
      "outputs": [
        {
          "output_type": "stream",
          "name": "stdout",
          "text": [
            "one1 two2 three3 4fourr 5five 6six\n",
            "1eno 2owt 3eerht rruof4 evif5 xis6\n"
          ]
        }
      ]
    }
  ]
}