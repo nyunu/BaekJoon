{
  "nbformat": 4,
  "nbformat_minor": 0,
  "metadata": {
    "colab": {
      "provenance": [],
      "authorship_tag": "ABX9TyN38EpAeohrHIeY26Zx1ZzU",
      "include_colab_link": true
    },
    "kernelspec": {
      "name": "python3",
      "display_name": "Python 3"
    },
    "language_info": {
      "name": "python"
    }
  },
  "cells": [
    {
      "cell_type": "markdown",
      "metadata": {
        "id": "view-in-github",
        "colab_type": "text"
      },
      "source": [
        "<a href=\"https://colab.research.google.com/github/nyunu/BaekJoon/blob/main/1547.ipynb\" target=\"_parent\"><img src=\"https://colab.research.google.com/assets/colab-badge.svg\" alt=\"Open In Colab\"/></a>"
      ]
    },
    {
      "cell_type": "code",
      "source": [
        "m = int(input())\n",
        "lst = [\"bingo\", \"*\", \"*\"]\n",
        "\n",
        "for _ in range(m):\n",
        "  x, y = map(int, input().split())\n",
        "  lst[x-1], lst[y-1] = lst[y-1], lst[x-1]\n",
        "\n",
        "print(int(lst.index(\"bingo\")) + 1)"
      ],
      "metadata": {
        "colab": {
          "base_uri": "https://localhost:8080/"
        },
        "id": "vGs8qB97GwPB",
        "outputId": "a301725c-0871-42f5-f1d1-bea3583f8ab0"
      },
      "execution_count": 16,
      "outputs": [
        {
          "output_type": "stream",
          "name": "stdout",
          "text": [
            "4\n",
            "3 1\n",
            "2 3\n",
            "3 1\n",
            "3 2\n",
            "3\n"
          ]
        }
      ]
    }
  ]
}