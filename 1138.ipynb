{
  "nbformat": 4,
  "nbformat_minor": 0,
  "metadata": {
    "colab": {
      "provenance": [],
      "authorship_tag": "ABX9TyPAMLAEU7xWvTEqh+cYEVdf",
      "include_colab_link": true
    },
    "kernelspec": {
      "name": "python3",
      "display_name": "Python 3"
    },
    "language_info": {
      "name": "python"
    }
  },
  "cells": [
    {
      "cell_type": "markdown",
      "metadata": {
        "id": "view-in-github",
        "colab_type": "text"
      },
      "source": [
        "<a href=\"https://colab.research.google.com/github/nyunu/BaekJoon/blob/main/1138.ipynb\" target=\"_parent\"><img src=\"https://colab.research.google.com/assets/colab-badge.svg\" alt=\"Open In Colab\"/></a>"
      ]
    },
    {
      "cell_type": "code",
      "source": [
        "n = int(input())\n",
        "h = list(map(int, input().split()))[::-1]\n",
        "\n",
        "idx = 0\n",
        "answer = []\n",
        "for i in range(n, 0, -1):\n",
        "  answer.insert(h[idx], i)\n",
        "  idx += 1\n",
        "\n",
        "print(' '.join(map(str, answer)))"
      ],
      "metadata": {
        "colab": {
          "base_uri": "https://localhost:8080/"
        },
        "id": "bvfan27x08_r",
        "outputId": "d1d2e7bd-ef62-481a-9e6e-675eaf26e572"
      },
      "execution_count": 28,
      "outputs": [
        {
          "output_type": "stream",
          "name": "stdout",
          "text": [
            "4\n",
            "2 1 1 0\n",
            "4 2 1 3\n"
          ]
        }
      ]
    }
  ]
}