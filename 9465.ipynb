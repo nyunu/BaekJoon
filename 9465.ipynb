{
  "nbformat": 4,
  "nbformat_minor": 0,
  "metadata": {
    "colab": {
      "provenance": [],
      "authorship_tag": "ABX9TyMsLbCyiIscWFqM+p27jnGr",
      "include_colab_link": true
    },
    "kernelspec": {
      "name": "python3",
      "display_name": "Python 3"
    },
    "language_info": {
      "name": "python"
    }
  },
  "cells": [
    {
      "cell_type": "markdown",
      "metadata": {
        "id": "view-in-github",
        "colab_type": "text"
      },
      "source": [
        "<a href=\"https://colab.research.google.com/github/nyunu/BaekJoon/blob/main/9465.ipynb\" target=\"_parent\"><img src=\"https://colab.research.google.com/assets/colab-badge.svg\" alt=\"Open In Colab\"/></a>"
      ]
    },
    {
      "cell_type": "code",
      "source": [
        "t = int(input())\n",
        "\n",
        "for _ in range(t):\n",
        "  n = int(input())\n",
        "  sticker = [list(map(int, input().split())) for _ in range(2)]\n",
        "  dp = [[0] * n for _ in range(2)]\n",
        "  dp[0][0] = sticker[0][0]\n",
        "  dp[1][0] = sticker[1][0]\n",
        "\n",
        "  for i in range(n - 1):\n",
        "    dp[0][i + 1] = max(dp[0][i + 1], dp[1][i] + sticker[0][i + 1])\n",
        "    dp[1][i + 1] = max(dp[1][i + 1], dp[0][i] + sticker[1][i + 1])\n",
        "    if i == n - 2:\n",
        "      continue\n",
        "    dp[0][i + 2] = max(dp[0][i + 2], dp[1][i] + sticker[0][i + 2])\n",
        "    dp[1][i + 2] = max(dp[1][i + 2], dp[0][i] + sticker[1][i + 2])\n",
        "\n",
        "  if max(dp[0]) > max(dp[1]):\n",
        "    print(max(dp[0]))\n",
        "  else:\n",
        "    print(max(dp[1]))"
      ],
      "metadata": {
        "colab": {
          "base_uri": "https://localhost:8080/"
        },
        "id": "Gy4QxmJIzAur",
        "outputId": "89c69342-69c9-4fbd-9b86-3dc73be7637e"
      },
      "execution_count": 12,
      "outputs": [
        {
          "output_type": "stream",
          "name": "stdout",
          "text": [
            "2\n",
            "5\n",
            "50 10 100 20 40\n",
            "30 50 70 10 60\n",
            "260\n",
            "7\n",
            "10 30 10 50 100 20 40\n",
            "20 40 30 50 60 20 80\n",
            "290\n"
          ]
        }
      ]
    },
    {
      "cell_type": "code",
      "source": [
        "t = int(input())\n",
        "\n",
        "for _ in range(t) :\n",
        "    n = int(input())\n",
        "    dp = [list(map(int,input().split())) for _ in range(2)]\n",
        "\n",
        "    if n > 1 :\n",
        "        dp[0][1] += dp[1][0]\n",
        "        dp[1][1] += dp[0][0]\n",
        "\n",
        "    for i in range(2, n) :\n",
        "        dp[0][i] += max(dp[1][i - 1],dp[1][i - 2])\n",
        "        dp[1][i] += max(dp[0][i - 1],dp[0][i - 2])\n",
        "\n",
        "    print(max(dp[0][n - 1],dp[1][n - 1]))"
      ],
      "metadata": {
        "id": "aW9EqG56FNSv"
      },
      "execution_count": null,
      "outputs": []
    }
  ]
}