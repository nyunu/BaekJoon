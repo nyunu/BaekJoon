{
  "nbformat": 4,
  "nbformat_minor": 0,
  "metadata": {
    "colab": {
      "provenance": [],
      "authorship_tag": "ABX9TyMNFOTnud7fySf5s7meLA29",
      "include_colab_link": true
    },
    "kernelspec": {
      "name": "python3",
      "display_name": "Python 3"
    },
    "language_info": {
      "name": "python"
    }
  },
  "cells": [
    {
      "cell_type": "markdown",
      "metadata": {
        "id": "view-in-github",
        "colab_type": "text"
      },
      "source": [
        "<a href=\"https://colab.research.google.com/github/nyunu/BaekJoon/blob/main/1309.ipynb\" target=\"_parent\"><img src=\"https://colab.research.google.com/assets/colab-badge.svg\" alt=\"Open In Colab\"/></a>"
      ]
    },
    {
      "cell_type": "code",
      "source": [
        "n = int(input())\n",
        "dp = [[0] * 3 for _ in range(n)]\n",
        "dp[0] = [1, 1, 1]\n",
        "\n",
        "for i in range(1, n):\n",
        "  dp[i][0] = dp[i - 1][2] + dp[i - 1][1] % 9901\n",
        "  dp[i][1] = dp[i - 1][2] + dp[i - 1][0] % 9901\n",
        "  dp[i][2] = dp[i - 1][0] + dp[i - 1][1] % 9901\n",
        "\n",
        "print(sum(dp[n - 1]) % 9901)"
      ],
      "metadata": {
        "id": "6dRAYb5EGBcn",
        "colab": {
          "base_uri": "https://localhost:8080/"
        },
        "outputId": "6a8e5d4b-dd86-4455-8478-faab53aa952f"
      },
      "execution_count": 16,
      "outputs": [
        {
          "output_type": "stream",
          "name": "stdout",
          "text": [
            "1\n",
            "3\n"
          ]
        }
      ]
    }
  ]
}