{
  "nbformat": 4,
  "nbformat_minor": 0,
  "metadata": {
    "colab": {
      "provenance": [],
      "authorship_tag": "ABX9TyMGNr0XB1J95FaohEjtS5bi",
      "include_colab_link": true
    },
    "kernelspec": {
      "name": "python3",
      "display_name": "Python 3"
    },
    "language_info": {
      "name": "python"
    }
  },
  "cells": [
    {
      "cell_type": "markdown",
      "metadata": {
        "id": "view-in-github",
        "colab_type": "text"
      },
      "source": [
        "<a href=\"https://colab.research.google.com/github/nyunu/BaekJoon/blob/main/12865.ipynb\" target=\"_parent\"><img src=\"https://colab.research.google.com/assets/colab-badge.svg\" alt=\"Open In Colab\"/></a>"
      ]
    },
    {
      "cell_type": "code",
      "source": [
        "n, k = map(int, input().split())\n",
        "bag = [list(map(int, input().split())) for _ in range(n)]\n",
        "dp = [0 for _ in range(k + 1)]\n",
        "\n",
        "for i in bag:\n",
        "  w, v = i[0], i[1]\n",
        "  for i in range(k, w - 1, -1):\n",
        "    dp[i] = max(dp[i], dp[i - w] + v)\n",
        "\n",
        "print(max(dp))"
      ],
      "metadata": {
        "colab": {
          "base_uri": "https://localhost:8080/"
        },
        "id": "MLrPVcuGytB5",
        "outputId": "be2fd4a7-41e4-4dca-cf47-233be3467485"
      },
      "execution_count": 19,
      "outputs": [
        {
          "output_type": "stream",
          "name": "stdout",
          "text": [
            "1 3\n",
            "2 4\n",
            "4\n"
          ]
        }
      ]
    }
  ]
}