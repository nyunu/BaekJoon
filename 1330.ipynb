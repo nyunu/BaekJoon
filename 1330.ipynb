{
  "nbformat": 4,
  "nbformat_minor": 0,
  "metadata": {
    "colab": {
      "provenance": [],
      "authorship_tag": "ABX9TyPedMrbu8dsK+iuY7Mh9Dba",
      "include_colab_link": true
    },
    "kernelspec": {
      "name": "python3",
      "display_name": "Python 3"
    },
    "language_info": {
      "name": "python"
    }
  },
  "cells": [
    {
      "cell_type": "markdown",
      "metadata": {
        "id": "view-in-github",
        "colab_type": "text"
      },
      "source": [
        "<a href=\"https://colab.research.google.com/github/nyunu/BaekJoon/blob/main/1330.ipynb\" target=\"_parent\"><img src=\"https://colab.research.google.com/assets/colab-badge.svg\" alt=\"Open In Colab\"/></a>"
      ]
    },
    {
      "cell_type": "code",
      "execution_count": 22,
      "metadata": {
        "colab": {
          "base_uri": "https://localhost:8080/"
        },
        "id": "sw0HIn-xjIGt",
        "outputId": "86009f0d-5908-4642-8775-3f26cd18fed7"
      },
      "outputs": [
        {
          "output_type": "stream",
          "name": "stdout",
          "text": [
            "1 2\n",
            "<\n"
          ]
        }
      ],
      "source": [
        "a, b = map(int, input().split())\n",
        "\n",
        "if a > b :\n",
        "  print(\">\")\n",
        "elif a < b :\n",
        "  print(\"<\")\n",
        "else :\n",
        "  print(\"==\")"
      ]
    }
  ]
}