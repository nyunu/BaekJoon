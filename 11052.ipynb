{
  "nbformat": 4,
  "nbformat_minor": 0,
  "metadata": {
    "colab": {
      "provenance": [],
      "authorship_tag": "ABX9TyMdvqbOc6ykCEtO54AovCdq",
      "include_colab_link": true
    },
    "kernelspec": {
      "name": "python3",
      "display_name": "Python 3"
    },
    "language_info": {
      "name": "python"
    }
  },
  "cells": [
    {
      "cell_type": "markdown",
      "metadata": {
        "id": "view-in-github",
        "colab_type": "text"
      },
      "source": [
        "<a href=\"https://colab.research.google.com/github/nyunu/BaekJoon/blob/main/11052.ipynb\" target=\"_parent\"><img src=\"https://colab.research.google.com/assets/colab-badge.svg\" alt=\"Open In Colab\"/></a>"
      ]
    },
    {
      "cell_type": "code",
      "source": [
        "n = int(input())\n",
        "card = [0] + list(map(int, input().split()))\n",
        "\n",
        "for i in range(1, n + 1):\n",
        "  for j in range(1, i // 2 + 1):\n",
        "    if card[i] < card[i - j] + card[j]:\n",
        "      card[i] = card[i - j] + card[j]\n",
        "\n",
        "print(card[n])"
      ],
      "metadata": {
        "colab": {
          "base_uri": "https://localhost:8080/"
        },
        "id": "CKLRmWcE4aTX",
        "outputId": "3e51b630-c836-4c44-83a3-854779e73689"
      },
      "execution_count": 23,
      "outputs": [
        {
          "output_type": "stream",
          "name": "stdout",
          "text": [
            "4\n",
            "3 5 15 16\n",
            "18\n"
          ]
        }
      ]
    }
  ]
}