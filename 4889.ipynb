{
  "nbformat": 4,
  "nbformat_minor": 0,
  "metadata": {
    "colab": {
      "provenance": [],
      "authorship_tag": "ABX9TyPgQ1e7jb8Ai9T1WHcMnXMf",
      "include_colab_link": true
    },
    "kernelspec": {
      "name": "python3",
      "display_name": "Python 3"
    },
    "language_info": {
      "name": "python"
    }
  },
  "cells": [
    {
      "cell_type": "markdown",
      "metadata": {
        "id": "view-in-github",
        "colab_type": "text"
      },
      "source": [
        "<a href=\"https://colab.research.google.com/github/nyunu/BaekJoon/blob/main/4889.ipynb\" target=\"_parent\"><img src=\"https://colab.research.google.com/assets/colab-badge.svg\" alt=\"Open In Colab\"/></a>"
      ]
    },
    {
      "cell_type": "code",
      "source": [
        "cnt = 0\n",
        "while True:\n",
        "  cnt += 1\n",
        "  sen = input()\n",
        "  if '-' in sen: break\n",
        "\n",
        "  stack = sen[0]\n",
        "  for i in sen[1:]:\n",
        "    if stack and stack[-1] + i == '{}':\n",
        "      stack = stack[:-1]\n",
        "    else:\n",
        "      stack += i\n",
        "\n",
        "  answer = 0\n",
        "  for i in range(0, len(stack), 2):\n",
        "    if stack[i] != stack[i + 1]:\n",
        "      answer += 2\n",
        "    else:\n",
        "      answer += 1\n",
        "\n",
        "  print(f'{cnt}. {answer}')"
      ],
      "metadata": {
        "colab": {
          "base_uri": "https://localhost:8080/"
        },
        "id": "jfM4GFk0pptE",
        "outputId": "e54254bd-9232-4c42-b377-b2a73e331ce9"
      },
      "execution_count": 47,
      "outputs": [
        {
          "name": "stdout",
          "output_type": "stream",
          "text": [
            "}{\n",
            "1. 2\n",
            "{}{}{}\n",
            "2. 0\n",
            "{{{}\n",
            "3. 1\n",
            "---\n"
          ]
        }
      ]
    },
    {
      "cell_type": "code",
      "source": [
        "cnt = 0\n",
        "while True:\n",
        "  cnt += 1\n",
        "  sen = input()\n",
        "  if '-' in sen: break\n",
        "\n",
        "  answer = 0\n",
        "  stack = []\n",
        "  for i in sen:\n",
        "    if i == '{':\n",
        "      stack.append(i)\n",
        "    else:\n",
        "      if stack:\n",
        "        stack.pop()\n",
        "      else:\n",
        "        answer += 1\n",
        "        stack.append('{')\n",
        "\n",
        "  answer += len(stack) // 2\n",
        "  print(f'{cnt}. {answer}')"
      ],
      "metadata": {
        "colab": {
          "base_uri": "https://localhost:8080/"
        },
        "id": "C5MGyNlB8tSo",
        "outputId": "3e48077c-557c-454a-b920-4edc4defe852"
      },
      "execution_count": 48,
      "outputs": [
        {
          "name": "stdout",
          "output_type": "stream",
          "text": [
            "}{\n",
            "1. 2\n",
            "---\n"
          ]
        }
      ]
    }
  ]
}