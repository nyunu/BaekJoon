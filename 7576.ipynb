{
  "nbformat": 4,
  "nbformat_minor": 0,
  "metadata": {
    "colab": {
      "provenance": [],
      "authorship_tag": "ABX9TyNuFGVtWeW3cZRZCt2+lo3r",
      "include_colab_link": true
    },
    "kernelspec": {
      "name": "python3",
      "display_name": "Python 3"
    },
    "language_info": {
      "name": "python"
    }
  },
  "cells": [
    {
      "cell_type": "markdown",
      "metadata": {
        "id": "view-in-github",
        "colab_type": "text"
      },
      "source": [
        "<a href=\"https://colab.research.google.com/github/nyunu/BaekJoon/blob/main/7576.ipynb\" target=\"_parent\"><img src=\"https://colab.research.google.com/assets/colab-badge.svg\" alt=\"Open In Colab\"/></a>"
      ]
    },
    {
      "cell_type": "code",
      "source": [
        "from collections import deque\n",
        "\n",
        "m, n = map(int, input().split())\n",
        "graph = []\n",
        "for _ in range(n):\n",
        "  graph.append(list(map(int, input().split())))\n",
        "\n",
        "queue = deque([])\n",
        "for i in range(n):\n",
        "  for j in range(m):\n",
        "    if graph[i][j] == 1:\n",
        "      queue.append([i, j])\n",
        "\n",
        "dx = [0, 0, -1, 1]\n",
        "dy = [1, -1, 0, 0]\n",
        "\n",
        "def bfs():\n",
        "  while queue:\n",
        "    x, y = queue.popleft()\n",
        "    for i in range(len(dx)):\n",
        "      nx = x + dx[i]\n",
        "      ny = y + dy[i]\n",
        "      if 0 <= nx < n and 0 <= ny < m and graph[nx][ny] == 0:\n",
        "        graph[nx][ny] = graph[x][y] + 1\n",
        "        queue.append([nx, ny])\n",
        "\n",
        "bfs()\n",
        "\n",
        "res = 0\n",
        "for i in graph:\n",
        "  if 0 in i:\n",
        "    print(-1)\n",
        "    exit(0)\n",
        "  res = max(res, max(i))\n",
        "\n",
        "print(res - 1)"
      ],
      "metadata": {
        "colab": {
          "base_uri": "https://localhost:8080/"
        },
        "id": "L6V9BvxFNit6",
        "outputId": "c1188b6b-61b0-4f82-e52f-5deeca9fe6b4"
      },
      "execution_count": 134,
      "outputs": [
        {
          "output_type": "stream",
          "name": "stdout",
          "text": [
            "6 4\n",
            "0 0 0 0 0 0\n",
            "0 0 0 0 0 0\n",
            "0 0 0 0 0 0\n",
            "0 0 0 0 0 1\n",
            "8\n"
          ]
        }
      ]
    }
  ]
}