{
  "nbformat": 4,
  "nbformat_minor": 0,
  "metadata": {
    "colab": {
      "provenance": [],
      "authorship_tag": "ABX9TyOByxPCsyjDdAI37++uzNuh",
      "include_colab_link": true
    },
    "kernelspec": {
      "name": "python3",
      "display_name": "Python 3"
    },
    "language_info": {
      "name": "python"
    }
  },
  "cells": [
    {
      "cell_type": "markdown",
      "metadata": {
        "id": "view-in-github",
        "colab_type": "text"
      },
      "source": [
        "<a href=\"https://colab.research.google.com/github/nyunu/BaekJoon/blob/main/10973.ipynb\" target=\"_parent\"><img src=\"https://colab.research.google.com/assets/colab-badge.svg\" alt=\"Open In Colab\"/></a>"
      ]
    },
    {
      "cell_type": "code",
      "source": [
        "n = int(input())\n",
        "per = list(map(int, input().split()))\n",
        "\n",
        "for i in range(n - 1, 0, -1):\n",
        "  if per[i] < per[i - 1]:\n",
        "    for j in range(n - 1, 0, -1):\n",
        "      if per[j] < per[i - 1]:\n",
        "        per[j], per[i - 1] = per[i - 1], per[j]\n",
        "        per = per[:i] + sorted(per[i:], reverse = True)\n",
        "        print(*per)\n",
        "        exit(0)\n",
        "\n",
        "print(-1)"
      ],
      "metadata": {
        "colab": {
          "base_uri": "https://localhost:8080/"
        },
        "id": "Qu6qznvu7yaU",
        "outputId": "32aa4caa-14ca-4e1c-8cf4-fb582c5fdd8f"
      },
      "execution_count": 6,
      "outputs": [
        {
          "output_type": "stream",
          "name": "stdout",
          "text": [
            "5\n",
            "5 4 3 2 1\n",
            "5 4 3 1 2\n",
            "5 4 2 3 1\n",
            "5 1 4 3 2\n",
            "2 5 4 3 1\n",
            "-1\n"
          ]
        }
      ]
    }
  ]
}