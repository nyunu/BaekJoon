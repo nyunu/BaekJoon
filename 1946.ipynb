{
  "nbformat": 4,
  "nbformat_minor": 0,
  "metadata": {
    "colab": {
      "provenance": [],
      "authorship_tag": "ABX9TyMqY4IREtNZjcCuVEqaeuAe",
      "include_colab_link": true
    },
    "kernelspec": {
      "name": "python3",
      "display_name": "Python 3"
    },
    "language_info": {
      "name": "python"
    }
  },
  "cells": [
    {
      "cell_type": "markdown",
      "metadata": {
        "id": "view-in-github",
        "colab_type": "text"
      },
      "source": [
        "<a href=\"https://colab.research.google.com/github/nyunu/BaekJoon/blob/main/1946.ipynb\" target=\"_parent\"><img src=\"https://colab.research.google.com/assets/colab-badge.svg\" alt=\"Open In Colab\"/></a>"
      ]
    },
    {
      "cell_type": "markdown",
      "source": [
        "- 시간초과"
      ],
      "metadata": {
        "id": "HzhZpExHFCa6"
      }
    },
    {
      "cell_type": "code",
      "source": [
        "import sys\n",
        "\n",
        "t = int(sys.stdin.readline())\n",
        "\n",
        "for _ in range(t):\n",
        "  n = int(sys.stdin.readline())\n",
        "  lst = []\n",
        "  cnt = 1\n",
        "  for _ in range(n):\n",
        "    ipt = list(map(int, sys.stdin.readline().split()))\n",
        "    lst.append(ipt)\n",
        "  lst.sort()\n",
        "  for i in range(1, len(lst)):\n",
        "    for j in range(0, i):\n",
        "      if lst[i][1] > lst[j][1]:\n",
        "        break\n",
        "    else:\n",
        "      cnt += 1\n",
        "  print(cnt)"
      ],
      "metadata": {
        "id": "WQyZpbHWFJ2q"
      },
      "execution_count": null,
      "outputs": []
    },
    {
      "cell_type": "markdown",
      "source": [
        "- 정답"
      ],
      "metadata": {
        "id": "tPm-I_NfFEq6"
      }
    },
    {
      "cell_type": "code",
      "source": [
        "import sys\n",
        "\n",
        "t = int(sys.stdin.readline())\n",
        "\n",
        "for _ in range(t):\n",
        "  n = int(sys.stdin.readline())\n",
        "  lst = []\n",
        "  cnt = 1\n",
        "  for _ in range(n):\n",
        "    ipt = list(map(int, sys.stdin.readline().split()))\n",
        "    lst.append(ipt)\n",
        "  lst.sort()\n",
        "  minn = lst[0][1]\n",
        "  for i in range(1, len(lst)):\n",
        "    if lst[i][1] < minn:\n",
        "      minn = lst[i][1]\n",
        "      cnt += 1\n",
        "  print(cnt)"
      ],
      "metadata": {
        "id": "ETLqOROIFL16"
      },
      "execution_count": null,
      "outputs": []
    }
  ]
}