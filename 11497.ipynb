{
  "nbformat": 4,
  "nbformat_minor": 0,
  "metadata": {
    "colab": {
      "provenance": [],
      "authorship_tag": "ABX9TyPphGt2Emr63jTeUi6f74N/",
      "include_colab_link": true
    },
    "kernelspec": {
      "name": "python3",
      "display_name": "Python 3"
    },
    "language_info": {
      "name": "python"
    }
  },
  "cells": [
    {
      "cell_type": "markdown",
      "metadata": {
        "id": "view-in-github",
        "colab_type": "text"
      },
      "source": [
        "<a href=\"https://colab.research.google.com/github/nyunu/BaekJoon/blob/main/11497.ipynb\" target=\"_parent\"><img src=\"https://colab.research.google.com/assets/colab-badge.svg\" alt=\"Open In Colab\"/></a>"
      ]
    },
    {
      "cell_type": "code",
      "source": [
        "t = int(input())\n",
        "\n",
        "for _ in range(t):\n",
        "  n = int(input())\n",
        "  h = list(map(int, input().split()))\n",
        "  h.sort(reverse = True)\n",
        "  val1, val2 = h[0], h[0]\n",
        "  answer = 0\n",
        "\n",
        "  for i in range(1, n - 1, 2):\n",
        "    answer = max(val1 - h[i], val2 - h[i + 1], answer)\n",
        "    val1 = h[i]\n",
        "    val2 = h[i +1]\n",
        "\n",
        "  if i != n-2 :\n",
        "    answer = max(val1 - h[-1], answer)\n",
        "\n",
        "  print(answer)"
      ],
      "metadata": {
        "colab": {
          "base_uri": "https://localhost:8080/"
        },
        "id": "v-0mLWKAuFIC",
        "outputId": "22deb72a-f9ce-4fb9-aa93-f90ab96c05db"
      },
      "execution_count": 23,
      "outputs": [
        {
          "output_type": "stream",
          "name": "stdout",
          "text": [
            "1\n",
            "9\n",
            "37 43 2 16 40 10 32 29 41\n",
            "19\n"
          ]
        }
      ]
    },
    {
      "cell_type": "code",
      "source": [
        "t = int(input())\n",
        "\n",
        "for _ in range(t):\n",
        "  n = int(input())\n",
        "  h = list(map(int, input().split()))\n",
        "  h.sort()\n",
        "  answer = 0\n",
        "\n",
        "  for i in range(2, n):\n",
        "    answer = max(h[i] - h[i - 2], answer)\n",
        "\n",
        "  print(answer)"
      ],
      "metadata": {
        "colab": {
          "base_uri": "https://localhost:8080/"
        },
        "id": "bh3JrOF7c3pg",
        "outputId": "01dc5f2e-e0fb-4e14-ee28-24f098393c86"
      },
      "execution_count": 12,
      "outputs": [
        {
          "output_type": "stream",
          "name": "stdout",
          "text": [
            "1\n",
            "5\n",
            "2 4 5 7 9\n",
            "4\n"
          ]
        }
      ]
    }
  ]
}