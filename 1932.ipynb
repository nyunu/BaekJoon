{
  "nbformat": 4,
  "nbformat_minor": 0,
  "metadata": {
    "colab": {
      "provenance": [],
      "authorship_tag": "ABX9TyM0xLX44KGY9IXpZywnOl8j",
      "include_colab_link": true
    },
    "kernelspec": {
      "name": "python3",
      "display_name": "Python 3"
    },
    "language_info": {
      "name": "python"
    }
  },
  "cells": [
    {
      "cell_type": "markdown",
      "metadata": {
        "id": "view-in-github",
        "colab_type": "text"
      },
      "source": [
        "<a href=\"https://colab.research.google.com/github/nyunu/BaekJoon/blob/main/1932.ipynb\" target=\"_parent\"><img src=\"https://colab.research.google.com/assets/colab-badge.svg\" alt=\"Open In Colab\"/></a>"
      ]
    },
    {
      "cell_type": "code",
      "source": [
        "n = int(input())\n",
        "tri = [list(map(int, input().split())) for _ in range(n)]\n",
        "\n",
        "dp = [tri[0]]\n",
        "for i in range(n - 1):\n",
        "  lst = []\n",
        "  for j in range(len(tri[i + 1]) - 1):\n",
        "    if j == 0:\n",
        "      lst.append(dp[i][j] + tri[i + 1][j])\n",
        "    else:\n",
        "      lst.append(max(dp[i][j - 1], dp[i][j]) + tri[i + 1][j])\n",
        "  lst.append(dp[i][j] + tri[i + 1][j + 1])\n",
        "  dp.append(lst)\n",
        "\n",
        "print(max(dp[n - 1]))"
      ],
      "metadata": {
        "colab": {
          "base_uri": "https://localhost:8080/"
        },
        "id": "zfuzz2cq6L93",
        "outputId": "48b863e8-93a3-4acb-eb5a-7be39325801e"
      },
      "execution_count": null,
      "outputs": [
        {
          "output_type": "stream",
          "name": "stdout",
          "text": [
            "5\n",
            "7\n",
            "3 8\n",
            "8 1 0\n",
            "2 7 4 4\n",
            "4 5 2 6 5\n",
            "30\n"
          ]
        }
      ]
    }
  ]
}