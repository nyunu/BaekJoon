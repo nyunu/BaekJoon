{
  "nbformat": 4,
  "nbformat_minor": 0,
  "metadata": {
    "colab": {
      "provenance": [],
      "authorship_tag": "ABX9TyN9u1VA5PgA//CdNKcgzSIb",
      "include_colab_link": true
    },
    "kernelspec": {
      "name": "python3",
      "display_name": "Python 3"
    },
    "language_info": {
      "name": "python"
    }
  },
  "cells": [
    {
      "cell_type": "markdown",
      "metadata": {
        "id": "view-in-github",
        "colab_type": "text"
      },
      "source": [
        "<a href=\"https://colab.research.google.com/github/nyunu/BaekJoon/blob/main/%EC%9D%B4%EC%BD%94%ED%85%8C_%ED%81%B0%EC%88%98%EC%9D%98%EB%B2%95%EC%B9%99.ipynb\" target=\"_parent\"><img src=\"https://colab.research.google.com/assets/colab-badge.svg\" alt=\"Open In Colab\"/></a>"
      ]
    },
    {
      "cell_type": "code",
      "execution_count": 9,
      "metadata": {
        "colab": {
          "base_uri": "https://localhost:8080/"
        },
        "id": "UrY7g3ECy2j0",
        "outputId": "4ca5a2c7-66ee-4c76-e7a1-d13604bfa15c"
      },
      "outputs": [
        {
          "output_type": "stream",
          "name": "stdout",
          "text": [
            "5 7 2\n",
            "3 4 3 4 3\n",
            "28\n"
          ]
        }
      ],
      "source": [
        "n, m, k = map(int, input().split())\n",
        "arr = list(map(int, input().split()))\n",
        "arr.sort()\n",
        "cnt = 0\n",
        "result = 0\n",
        "\n",
        "for i in range(m):\n",
        "  if cnt == k:\n",
        "    result += arr[-2]\n",
        "    cnt = 0\n",
        "  else:\n",
        "    result += arr[-1]\n",
        "    cnt += 1\n",
        "\n",
        "print(result)"
      ]
    }
  ]
}