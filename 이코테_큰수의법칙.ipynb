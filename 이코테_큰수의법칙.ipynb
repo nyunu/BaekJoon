{
  "nbformat": 4,
  "nbformat_minor": 0,
  "metadata": {
    "colab": {
      "provenance": [],
      "authorship_tag": "ABX9TyNJGEpna3S3XHi/doD+Vj9f",
      "include_colab_link": true
    },
    "kernelspec": {
      "name": "python3",
      "display_name": "Python 3"
    },
    "language_info": {
      "name": "python"
    }
  },
  "cells": [
    {
      "cell_type": "markdown",
      "metadata": {
        "id": "view-in-github",
        "colab_type": "text"
      },
      "source": [
        "<a href=\"https://colab.research.google.com/github/nyunu/BaekJoon/blob/main/%EC%9D%B4%EC%BD%94%ED%85%8C_%ED%81%B0%EC%88%98%EC%9D%98%EB%B2%95%EC%B9%99.ipynb\" target=\"_parent\"><img src=\"https://colab.research.google.com/assets/colab-badge.svg\" alt=\"Open In Colab\"/></a>"
      ]
    },
    {
      "cell_type": "code",
      "execution_count": 9,
      "metadata": {
        "colab": {
          "base_uri": "https://localhost:8080/"
        },
        "id": "UrY7g3ECy2j0",
        "outputId": "4ca5a2c7-66ee-4c76-e7a1-d13604bfa15c"
      },
      "outputs": [
        {
          "output_type": "stream",
          "name": "stdout",
          "text": [
            "5 7 2\n",
            "3 4 3 4 3\n",
            "28\n"
          ]
        }
      ],
      "source": [
        "n, m, k = map(int, input().split())\n",
        "arr = list(map(int, input().split()))\n",
        "arr.sort()\n",
        "cnt = 0\n",
        "result = 0\n",
        "\n",
        "for i in range(m):\n",
        "  if cnt == k:\n",
        "    result += arr[-2]\n",
        "    cnt = 0\n",
        "  else:\n",
        "    result += arr[-1]\n",
        "    cnt += 1\n",
        "\n",
        "print(result)"
      ]
    },
    {
      "cell_type": "code",
      "source": [
        "n, m, k = map(int, input().split())\n",
        "arr = list(map(int, input().split()))\n",
        "arr.sort()\n",
        "max_1 = arr[-1]\n",
        "max_2 = arr[-2]\n",
        "set_val = max_1 * k + max_2\n",
        "result = (set_val * (m // (k + 1))) + (max_1 * (m % (k + 1)))\n",
        "print(result)"
      ],
      "metadata": {
        "colab": {
          "base_uri": "https://localhost:8080/"
        },
        "id": "H8pq23Iu0vpe",
        "outputId": "f7eadb6f-9060-4809-86f4-c0c092704ed1"
      },
      "execution_count": 24,
      "outputs": [
        {
          "output_type": "stream",
          "name": "stdout",
          "text": [
            "5 7 2\n",
            "3 4 3 4 3\n",
            "28\n"
          ]
        }
      ]
    }
  ]
}