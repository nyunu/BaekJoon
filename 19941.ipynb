{
  "nbformat": 4,
  "nbformat_minor": 0,
  "metadata": {
    "colab": {
      "provenance": [],
      "authorship_tag": "ABX9TyN1KVHYFo2lFqN9xO8HCFpG",
      "include_colab_link": true
    },
    "kernelspec": {
      "name": "python3",
      "display_name": "Python 3"
    },
    "language_info": {
      "name": "python"
    }
  },
  "cells": [
    {
      "cell_type": "markdown",
      "metadata": {
        "id": "view-in-github",
        "colab_type": "text"
      },
      "source": [
        "<a href=\"https://colab.research.google.com/github/nyunu/BaekJoon/blob/main/19941.ipynb\" target=\"_parent\"><img src=\"https://colab.research.google.com/assets/colab-badge.svg\" alt=\"Open In Colab\"/></a>"
      ]
    },
    {
      "cell_type": "code",
      "source": [
        "n, k = map(int, input().split())\n",
        "ham = list(input())\n",
        "answer = 0\n",
        "\n",
        "for i in range(n):\n",
        "  if ham[i] == 'P':\n",
        "    for j in range(max(i - k, 0), min(i + k + 1, n)):\n",
        "      if ham[j] == 'H':\n",
        "        ham[j] = '0'\n",
        "        answer += 1\n",
        "        break\n",
        "\n",
        "print(answer)"
      ],
      "metadata": {
        "colab": {
          "base_uri": "https://localhost:8080/"
        },
        "id": "mED1yVJrloo4",
        "outputId": "c48fb0ba-77b7-4809-bd9b-dbc1c88cf5a0"
      },
      "execution_count": 14,
      "outputs": [
        {
          "output_type": "stream",
          "name": "stdout",
          "text": [
            "20 1\n",
            "HHPHPPHHPPHPPPHPHPHP\n",
            "8\n"
          ]
        }
      ]
    }
  ]
}