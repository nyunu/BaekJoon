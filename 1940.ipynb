{
  "cells": [
    {
      "cell_type": "markdown",
      "metadata": {
        "id": "view-in-github",
        "colab_type": "text"
      },
      "source": [
        "<a href=\"https://colab.research.google.com/github/nyunu/BaekJoon/blob/main/1940.ipynb\" target=\"_parent\"><img src=\"https://colab.research.google.com/assets/colab-badge.svg\" alt=\"Open In Colab\"/></a>"
      ]
    },
    {
      "cell_type": "markdown",
      "source": [
        "- 정답"
      ],
      "metadata": {
        "id": "0zF77I_XjGWm"
      }
    },
    {
      "cell_type": "code",
      "source": [
        "n = int(input())\n",
        "m = int(input())\n",
        "num = list(map(int, input().split()))\n",
        "cnt = 0\n",
        "\n",
        "for i in num:\n",
        "  if (m - i) in num:\n",
        "    cnt += 1\n",
        "\n",
        "print(cnt // 2)"
      ],
      "metadata": {
        "colab": {
          "base_uri": "https://localhost:8080/"
        },
        "id": "wByDcb3vihAu",
        "outputId": "43ee65a6-a4f7-4d41-d9e0-44fa7babddf2"
      },
      "execution_count": 30,
      "outputs": [
        {
          "output_type": "stream",
          "name": "stdout",
          "text": [
            "6\n",
            "9\n",
            "2 7 4 1 5 3\n",
            "2\n"
          ]
        }
      ]
    },
    {
      "cell_type": "markdown",
      "source": [
        "- 시간초과"
      ],
      "metadata": {
        "id": "uUWu83g9jIOV"
      }
    },
    {
      "cell_type": "code",
      "source": [
        "n = int(input())\n",
        "m = int(input())\n",
        "num = list(map(int, input().split()))\n",
        "cnt = 0\n",
        "\n",
        "for i in range(len(num)):\n",
        "  for k in range(i + 1, len(num)):\n",
        "    if num[i] + num[k] == m :\n",
        "      cnt += 1\n",
        "      break;\n",
        "\n",
        "print(cnt)"
      ],
      "metadata": {
        "colab": {
          "base_uri": "https://localhost:8080/"
        },
        "id": "OEGSO2z2cpvg",
        "outputId": "40cfa206-f4e2-4224-e98e-3539ac9d142c"
      },
      "execution_count": 12,
      "outputs": [
        {
          "output_type": "stream",
          "name": "stdout",
          "text": [
            "6\n",
            "9\n",
            "2 7 4 1 5 3\n",
            "2\n"
          ]
        }
      ]
    },
    {
      "cell_type": "markdown",
      "source": [
        "- 시간초과"
      ],
      "metadata": {
        "id": "HZw4EES5jJjd"
      }
    },
    {
      "cell_type": "code",
      "source": [
        "n = int(input())\n",
        "m = int(input())\n",
        "num = list(map(int, input().split()))\n",
        "add_lst = []\n",
        "cnt = 0\n",
        "\n",
        "if m % 2 == 0:\n",
        "  for i in range(1, (m // 2)):\n",
        "    add_lst.append([i, m-i])\n",
        "else:\n",
        "  for i in range(1, (m // 2) + 1):\n",
        "    add_lst.append([i, m-i])\n",
        "\n",
        "for i in add_lst:\n",
        "  if (i[0] in num) and (i[1] in num):\n",
        "    cnt += 1\n",
        "\n",
        "print(cnt)"
      ],
      "metadata": {
        "colab": {
          "base_uri": "https://localhost:8080/"
        },
        "id": "-py_CeQOfpZX",
        "outputId": "f060158f-7151-406a-e037-1f8de44a92e9"
      },
      "execution_count": 27,
      "outputs": [
        {
          "output_type": "stream",
          "name": "stdout",
          "text": [
            "6\n",
            "9\n",
            "2 7 4 1 5 3\n",
            "2\n"
          ]
        }
      ]
    }
  ],
  "metadata": {
    "colab": {
      "provenance": [],
      "authorship_tag": "ABX9TyMSkZynGGwxVgddTK/5ayRI",
      "include_colab_link": true
    },
    "kernelspec": {
      "display_name": "Python 3",
      "name": "python3"
    },
    "language_info": {
      "name": "python"
    }
  },
  "nbformat": 4,
  "nbformat_minor": 0
}