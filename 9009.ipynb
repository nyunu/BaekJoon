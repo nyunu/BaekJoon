{
  "nbformat": 4,
  "nbformat_minor": 0,
  "metadata": {
    "colab": {
      "provenance": [],
      "authorship_tag": "ABX9TyOyDZF+OQ/IZT8VzM5f3lt7",
      "include_colab_link": true
    },
    "kernelspec": {
      "name": "python3",
      "display_name": "Python 3"
    },
    "language_info": {
      "name": "python"
    }
  },
  "cells": [
    {
      "cell_type": "markdown",
      "metadata": {
        "id": "view-in-github",
        "colab_type": "text"
      },
      "source": [
        "<a href=\"https://colab.research.google.com/github/nyunu/BaekJoon/blob/main/9009.ipynb\" target=\"_parent\"><img src=\"https://colab.research.google.com/assets/colab-badge.svg\" alt=\"Open In Colab\"/></a>"
      ]
    },
    {
      "cell_type": "code",
      "source": [
        "t = int(input())\n",
        "\n",
        "fibo = [0 for _ in range(45)]\n",
        "fibo[1] = 1\n",
        "for i in range(2, 45):\n",
        "  fibo[i] = fibo[i - 1] + fibo[i - 2]\n",
        "\n",
        "for _ in range(t):\n",
        "  n = int(input())\n",
        "  answer = []\n",
        "\n",
        "  for i in fibo[::-1]:\n",
        "    if i <= n:\n",
        "      answer.append(i)\n",
        "      n -= i\n",
        "\n",
        "    if n == 0:\n",
        "      answer.sort()\n",
        "      print(*answer)\n",
        "      break"
      ],
      "metadata": {
        "colab": {
          "base_uri": "https://localhost:8080/"
        },
        "id": "u9CccrYij4G7",
        "outputId": "8487541d-a8a3-4cb8-ee18-fe9e1ad97103"
      },
      "execution_count": 35,
      "outputs": [
        {
          "output_type": "stream",
          "name": "stdout",
          "text": [
            "4\n",
            "100\n",
            "3 8 89\n",
            "200\n",
            "1 55 144\n",
            "12345\n",
            "1 34 377 987 10946\n",
            "1003\n",
            "3 13 987\n"
          ]
        }
      ]
    }
  ]
}