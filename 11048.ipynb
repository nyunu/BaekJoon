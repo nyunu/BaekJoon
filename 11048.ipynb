{
  "nbformat": 4,
  "nbformat_minor": 0,
  "metadata": {
    "colab": {
      "provenance": [],
      "authorship_tag": "ABX9TyPU+Z8fYIgs61vF8PHYwYDC",
      "include_colab_link": true
    },
    "kernelspec": {
      "name": "python3",
      "display_name": "Python 3"
    },
    "language_info": {
      "name": "python"
    }
  },
  "cells": [
    {
      "cell_type": "markdown",
      "metadata": {
        "id": "view-in-github",
        "colab_type": "text"
      },
      "source": [
        "<a href=\"https://colab.research.google.com/github/nyunu/BaekJoon/blob/main/11048.ipynb\" target=\"_parent\"><img src=\"https://colab.research.google.com/assets/colab-badge.svg\" alt=\"Open In Colab\"/></a>"
      ]
    },
    {
      "cell_type": "code",
      "source": [
        "from collections import deque\n",
        "\n",
        "n, m = map(int, input().split())\n",
        "miro = [[0 for _ in range(m)]] + [[0] + list(map(int, input().split())) for _ in range(n)]\n",
        "dp = [[0] * (m + 1) for _ in range(n + 1)]\n",
        "\n",
        "for i in range(1, n + 1):\n",
        "  for j in range(1, m + 1):\n",
        "    dp[i][j] = max(dp[i - 1][j], dp[i][j - 1]) + miro[i][j]\n",
        "\n",
        "print(dp[n][m])"
      ],
      "metadata": {
        "colab": {
          "base_uri": "https://localhost:8080/"
        },
        "id": "0iJI1zxhyJaB",
        "outputId": "28ddced3-1b25-4205-b714-38a73848bfe0"
      },
      "execution_count": 31,
      "outputs": [
        {
          "output_type": "stream",
          "name": "stdout",
          "text": [
            "3 4\n",
            "1 2 3 4\n",
            "0 0 0 5\n",
            "9 8 7 6\n",
            "31\n"
          ]
        }
      ]
    }
  ]
}