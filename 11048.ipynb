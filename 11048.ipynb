{
  "nbformat": 4,
  "nbformat_minor": 0,
  "metadata": {
    "colab": {
      "provenance": [],
      "authorship_tag": "ABX9TyNDz8vN0PWc5LjokHJ2jHgW",
      "include_colab_link": true
    },
    "kernelspec": {
      "name": "python3",
      "display_name": "Python 3"
    },
    "language_info": {
      "name": "python"
    }
  },
  "cells": [
    {
      "cell_type": "markdown",
      "metadata": {
        "id": "view-in-github",
        "colab_type": "text"
      },
      "source": [
        "<a href=\"https://colab.research.google.com/github/nyunu/BaekJoon/blob/main/11048.ipynb\" target=\"_parent\"><img src=\"https://colab.research.google.com/assets/colab-badge.svg\" alt=\"Open In Colab\"/></a>"
      ]
    },
    {
      "cell_type": "code",
      "source": [
        "n, m = map(int, input().split())\n",
        "miro = [[0] * (m + 1)] + [[0] + list(map(int, input().split())) for _ in range(n)]\n",
        "\n",
        "for i in range(1, n + 1):\n",
        "  for j in range(1, m + 1):\n",
        "    miro[i][j] = max(miro[i - 1][j], miro[i][j - 1]) + miro[i][j]\n",
        "\n",
        "print(miro[n][m])"
      ],
      "metadata": {
        "id": "6dRAYb5EGBcn",
        "colab": {
          "base_uri": "https://localhost:8080/"
        },
        "outputId": "962ff785-2f56-4d71-828e-774c224f3cb7"
      },
      "execution_count": 10,
      "outputs": [
        {
          "output_type": "stream",
          "name": "stdout",
          "text": [
            "3 4\n",
            "1 2 3 4\n",
            "0 0 0 5\n",
            "9 8 7 6\n",
            "31\n"
          ]
        }
      ]
    }
  ]
}