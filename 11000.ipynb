{
  "nbformat": 4,
  "nbformat_minor": 0,
  "metadata": {
    "colab": {
      "provenance": [],
      "authorship_tag": "ABX9TyM+VGZbGjOexs3dKhIEuJVl",
      "include_colab_link": true
    },
    "kernelspec": {
      "name": "python3",
      "display_name": "Python 3"
    },
    "language_info": {
      "name": "python"
    }
  },
  "cells": [
    {
      "cell_type": "markdown",
      "metadata": {
        "id": "view-in-github",
        "colab_type": "text"
      },
      "source": [
        "<a href=\"https://colab.research.google.com/github/nyunu/BaekJoon/blob/main/11000.ipynb\" target=\"_parent\"><img src=\"https://colab.research.google.com/assets/colab-badge.svg\" alt=\"Open In Colab\"/></a>"
      ]
    },
    {
      "cell_type": "markdown",
      "source": [
        "- 우선순위 Q 사용 -> 정답 !!!!!!"
      ],
      "metadata": {
        "id": "UCQ1E-8Jl00y"
      }
    },
    {
      "cell_type": "code",
      "source": [
        "import heapq\n",
        "\n",
        "time = []\n",
        "n = int(input())\n",
        "\n",
        "for _ in range(n):\n",
        "  time.append(list(map(int, input().split())))\n",
        "\n",
        "time.sort()\n",
        "\n",
        "room = []\n",
        "heapq.heappush(room, time[0][1])\n",
        "\n",
        "for i in range(1, n):\n",
        "  if time[i][0] >= room[0]:\n",
        "    heapq.heappop(room)\n",
        "  heapq.heappush(room, time[i][1])\n",
        "\n",
        "print(len(room))"
      ],
      "metadata": {
        "colab": {
          "base_uri": "https://localhost:8080/"
        },
        "id": "sD8SBwCdi7jR",
        "outputId": "6d2f47b4-3797-45b0-93ab-7087316faad3"
      },
      "execution_count": 29,
      "outputs": [
        {
          "output_type": "stream",
          "name": "stdout",
          "text": [
            "3\n",
            "1 3\n",
            "2 4\n",
            "3 5\n",
            "2\n"
          ]
        }
      ]
    },
    {
      "cell_type": "markdown",
      "source": [
        "- 시간초과1"
      ],
      "metadata": {
        "id": "XM3ttBKDhCxf"
      }
    },
    {
      "cell_type": "code",
      "source": [
        "n = int(input())\n",
        "lst = []\n",
        "cnt = 0\n",
        "\n",
        "for _ in range(n):\n",
        "  lst.append(list(map(int, input().split())))\n",
        "\n",
        "lst.sort()\n",
        "\n",
        "idx = 0\n",
        "while lst:\n",
        "  finish = lst[idx][1]\n",
        "  if idx + 1 <= len(lst) - 1:\n",
        "    lst_new = lst[idx + 1:]\n",
        "    for i in lst_new:\n",
        "      if i[0] >= finish:\n",
        "        flag = 1\n",
        "        idx = lst.index(i) - 1\n",
        "        lst.remove(i)\n",
        "        break;\n",
        "      else:\n",
        "        flag = 0\n",
        "  else:\n",
        "    flag = 0\n",
        "\n",
        "  if flag == 0:\n",
        "    del lst[0]\n",
        "    idx = 0\n",
        "    cnt += 1\n",
        "\n",
        "print(cnt)"
      ],
      "metadata": {
        "id": "4a8xco0O-OJd",
        "colab": {
          "base_uri": "https://localhost:8080/"
        },
        "outputId": "94ae3348-06c6-469c-f8d8-5599168e63d7"
      },
      "execution_count": 26,
      "outputs": [
        {
          "output_type": "stream",
          "name": "stdout",
          "text": [
            "3\n",
            "1 3\n",
            "2 4\n",
            "3 5\n",
            "2\n"
          ]
        }
      ]
    },
    {
      "cell_type": "markdown",
      "source": [
        "- 시간초과2"
      ],
      "metadata": {
        "id": "7XiIFO14i4j1"
      }
    },
    {
      "cell_type": "code",
      "source": [
        "n = int(input())\n",
        "lst = []\n",
        "result = []\n",
        "cnt = 0\n",
        "\n",
        "for _ in range(n):\n",
        "  lst.append(list(map(int, input().split())))\n",
        "\n",
        "lst.sort()\n",
        "result.append(lst[0])\n",
        "lst.remove(lst[0])\n",
        "\n",
        "for i in lst:\n",
        "  for j in result:\n",
        "    if i[0] >= j[1]:\n",
        "      flag = 0\n",
        "      idx = result.index(j)\n",
        "      result[idx] = i\n",
        "      break;\n",
        "    else:\n",
        "      flag = 1\n",
        "  if flag == 1:\n",
        "    result.append(i)\n",
        "\n",
        "print(len(result))"
      ],
      "metadata": {
        "colab": {
          "base_uri": "https://localhost:8080/"
        },
        "id": "QI_mxbibhKnr",
        "outputId": "effc019f-81d2-460c-94d7-e9a907309319"
      },
      "execution_count": 27,
      "outputs": [
        {
          "output_type": "stream",
          "name": "stdout",
          "text": [
            "3\n",
            "1 3\n",
            "2 4\n",
            "3 5\n",
            "2\n"
          ]
        }
      ]
    }
  ]
}