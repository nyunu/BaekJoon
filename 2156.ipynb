{
  "nbformat": 4,
  "nbformat_minor": 0,
  "metadata": {
    "colab": {
      "provenance": [],
      "authorship_tag": "ABX9TyN4kibYzqAOhIttk3Qt78UX",
      "include_colab_link": true
    },
    "kernelspec": {
      "name": "python3",
      "display_name": "Python 3"
    },
    "language_info": {
      "name": "python"
    }
  },
  "cells": [
    {
      "cell_type": "markdown",
      "metadata": {
        "id": "view-in-github",
        "colab_type": "text"
      },
      "source": [
        "<a href=\"https://colab.research.google.com/github/nyunu/BaekJoon/blob/main/2156.ipynb\" target=\"_parent\"><img src=\"https://colab.research.google.com/assets/colab-badge.svg\" alt=\"Open In Colab\"/></a>"
      ]
    },
    {
      "cell_type": "code",
      "source": [
        "n = int(input())\n",
        "grape = [0] + [int(input()) for _ in range(n)]\n",
        "dp = [0] * 10001\n",
        "dp[1] = grape[1]\n",
        "dp[2] = grape[1] + grape[2]\n",
        "\n",
        "for i in range(3, n + 1):\n",
        "  dp[i] = max(dp[i - 1], grape[i] + dp[i - 2], grape[i] + grape[i - 1] + dp[i - 3])\n",
        "\n",
        "print(dp[n])"
      ],
      "metadata": {
        "colab": {
          "base_uri": "https://localhost:8080/"
        },
        "id": "wl7OZQrnNBkj",
        "outputId": "ccd0eb3d-e7db-4eeb-f37a-bf98d901eec4"
      },
      "execution_count": 38,
      "outputs": [
        {
          "output_type": "stream",
          "name": "stdout",
          "text": [
            "6\n",
            "6\n",
            "10\n",
            "13\n",
            "9\n",
            "8\n",
            "1\n",
            "33\n"
          ]
        }
      ]
    }
  ]
}