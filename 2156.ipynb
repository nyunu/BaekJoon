{
  "nbformat": 4,
  "nbformat_minor": 0,
  "metadata": {
    "colab": {
      "provenance": [],
      "authorship_tag": "ABX9TyNQrqcK2LIAbqSqpdvak2LE",
      "include_colab_link": true
    },
    "kernelspec": {
      "name": "python3",
      "display_name": "Python 3"
    },
    "language_info": {
      "name": "python"
    }
  },
  "cells": [
    {
      "cell_type": "markdown",
      "metadata": {
        "id": "view-in-github",
        "colab_type": "text"
      },
      "source": [
        "<a href=\"https://colab.research.google.com/github/nyunu/BaekJoon/blob/main/2156.ipynb\" target=\"_parent\"><img src=\"https://colab.research.google.com/assets/colab-badge.svg\" alt=\"Open In Colab\"/></a>"
      ]
    },
    {
      "cell_type": "code",
      "source": [
        "n = int(input())\n",
        "\n",
        "grape = [0] + [int(input()) for _ in range(n)] + [0]\n",
        "dp = [0] * 10001\n",
        "dp[1] = grape[1]\n",
        "dp[2] = grape[1] + grape[2]\n",
        "\n",
        "for i in range(3, n + 1):\n",
        "  dp[i] = max(dp[i - 1], grape[i] + grape[i - 1] + dp[i - 3], grape[i] + dp[i - 2])\n",
        "\n",
        "print(dp[n])"
      ],
      "metadata": {
        "colab": {
          "base_uri": "https://localhost:8080/"
        },
        "id": "wl7OZQrnNBkj",
        "outputId": "53a0d7d4-def1-4bce-c3aa-d4fcf4de538f"
      },
      "execution_count": 45,
      "outputs": [
        {
          "output_type": "stream",
          "name": "stdout",
          "text": [
            "2\n",
            "1\n",
            "3\n",
            "4\n"
          ]
        }
      ]
    }
  ]
}