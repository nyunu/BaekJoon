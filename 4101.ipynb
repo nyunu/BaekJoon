{
  "nbformat": 4,
  "nbformat_minor": 0,
  "metadata": {
    "colab": {
      "provenance": [],
      "authorship_tag": "ABX9TyOBCwxTphYFHXQ6ag0N7myp",
      "include_colab_link": true
    },
    "kernelspec": {
      "name": "python3",
      "display_name": "Python 3"
    },
    "language_info": {
      "name": "python"
    }
  },
  "cells": [
    {
      "cell_type": "markdown",
      "metadata": {
        "id": "view-in-github",
        "colab_type": "text"
      },
      "source": [
        "<a href=\"https://colab.research.google.com/github/nyunu/BaekJoon/blob/main/4101.ipynb\" target=\"_parent\"><img src=\"https://colab.research.google.com/assets/colab-badge.svg\" alt=\"Open In Colab\"/></a>"
      ]
    },
    {
      "cell_type": "code",
      "execution_count": 14,
      "metadata": {
        "colab": {
          "base_uri": "https://localhost:8080/"
        },
        "id": "sw0HIn-xjIGt",
        "outputId": "681960e1-5acb-4618-c2c4-42598568e0fd"
      },
      "outputs": [
        {
          "output_type": "stream",
          "name": "stdout",
          "text": [
            "1 19\n",
            "4 4\n",
            "23 14\n",
            "0 0\n",
            "No\n",
            "No\n",
            "Yes\n"
          ]
        }
      ],
      "source": [
        "lst = list()\n",
        "\n",
        "while True:\n",
        "  a, b = map(int, input().split())\n",
        "  if a == 0 & b == 0:\n",
        "    break;\n",
        "  elif a > b:\n",
        "    lst.append(\"Yes\")\n",
        "  else:\n",
        "    lst.append(\"No\")\n",
        "\n",
        "for i in lst:\n",
        "  print(i)"
      ]
    }
  ]
}