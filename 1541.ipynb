{
  "nbformat": 4,
  "nbformat_minor": 0,
  "metadata": {
    "colab": {
      "provenance": [],
      "authorship_tag": "ABX9TyNbonAt4fnnpp/X9zMTJURc",
      "include_colab_link": true
    },
    "kernelspec": {
      "name": "python3",
      "display_name": "Python 3"
    },
    "language_info": {
      "name": "python"
    }
  },
  "cells": [
    {
      "cell_type": "markdown",
      "metadata": {
        "id": "view-in-github",
        "colab_type": "text"
      },
      "source": [
        "<a href=\"https://colab.research.google.com/github/nyunu/BaekJoon/blob/main/1541.ipynb\" target=\"_parent\"><img src=\"https://colab.research.google.com/assets/colab-badge.svg\" alt=\"Open In Colab\"/></a>"
      ]
    },
    {
      "cell_type": "code",
      "source": [
        "t = int(input())\n",
        "\n",
        "for _ in range(t):\n",
        "  n = int(input())\n",
        "  arr = list(map(int, input().split()))\n",
        "\n",
        "  loss = 0 # 구매 금액\n",
        "  cnt = 0 # 구매 개수\n",
        "  profit = 0 # 이익\n",
        "\n",
        "  for i in range(n - 1):\n",
        "    maxx = max(arr[i + 1:])\n",
        "    if arr[i] > maxx:\n",
        "      profit += cnt * arr[i] - loss\n",
        "      loss = 0\n",
        "      cnt = 0\n",
        "    elif arr[i] < maxx:\n",
        "      loss += arr[i]\n",
        "      cnt += 1\n",
        "\n",
        "  profit += cnt * arr[n-1] - loss\n",
        "  print(profit)"
      ],
      "metadata": {
        "colab": {
          "base_uri": "https://localhost:8080/"
        },
        "id": "cTSyphas6Okb",
        "outputId": "e9da5bd6-9510-440d-b2b5-715df61cc79a"
      },
      "execution_count": 84,
      "outputs": [
        {
          "name": "stdout",
          "output_type": "stream",
          "text": [
            "1\n",
            "3\n",
            "3 5 9\n"
          ]
        }
      ]
    },
    {
      "cell_type": "code",
      "source": [
        "t = int(input())\n",
        "\n",
        "for _ in range(t):\n",
        "  n = int(input())\n",
        "  arr = list(map(int, input().split()))\n",
        "\n",
        "  profit = 0 # 이익\n",
        "  idx = 0\n",
        "\n",
        "  while idx <= n - 1:\n",
        "    maxx = arr.index(max(arr[idx:]))\n",
        "    profit += (maxx - idx) * arr[maxx] - sum(arr[idx:maxx])\n",
        "    idx = maxx + 1\n",
        "\n",
        "  print(profit)"
      ],
      "metadata": {
        "colab": {
          "base_uri": "https://localhost:8080/"
        },
        "id": "1VlcK4XFg7Px",
        "outputId": "bed80e59-90b2-47aa-d9af-198b08f26cc7"
      },
      "execution_count": 86,
      "outputs": [
        {
          "output_type": "stream",
          "name": "stdout",
          "text": [
            "3\n",
            "3\n",
            "10 7 6\n",
            "0\n",
            "3\n",
            "3 5 9\n",
            "10\n",
            "5\n",
            "1 1 3 1 2\n",
            "5\n"
          ]
        }
      ]
    },
    {
      "cell_type": "markdown",
      "source": [
        "- 미래의 일은 알 수 없다 ... >> 뒤에서부터"
      ],
      "metadata": {
        "id": "WAd1YN5Qn8kd"
      }
    },
    {
      "cell_type": "code",
      "source": [
        "t = int(input())\n",
        "\n",
        "for _ in range(t):\n",
        "  n = int(input())\n",
        "  arr = list(map(int, input().split()))\n",
        "  arr.reverse()\n",
        "\n",
        "  profit = 0\n",
        "  maxx = arr[0]\n",
        "\n",
        "  for i in range(1, n):\n",
        "    if maxx < arr[i]:\n",
        "      maxx = arr[i]\n",
        "      continue\n",
        "    else:\n",
        "      profit += maxx - arr[i]\n",
        "\n",
        "  print(profit)"
      ],
      "metadata": {
        "colab": {
          "base_uri": "https://localhost:8080/"
        },
        "id": "bBvqt3VLk5U2",
        "outputId": "134625ab-dc3b-478d-ef10-ee08270fa595"
      },
      "execution_count": 91,
      "outputs": [
        {
          "output_type": "stream",
          "name": "stdout",
          "text": [
            "1\n",
            "3\n",
            "10 7 6\n",
            "0\n"
          ]
        }
      ]
    }
  ]
}