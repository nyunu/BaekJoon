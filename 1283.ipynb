{
  "nbformat": 4,
  "nbformat_minor": 0,
  "metadata": {
    "colab": {
      "provenance": [],
      "authorship_tag": "ABX9TyOCuDDPoFfGJZYwCQ4kMKkU",
      "include_colab_link": true
    },
    "kernelspec": {
      "name": "python3",
      "display_name": "Python 3"
    },
    "language_info": {
      "name": "python"
    }
  },
  "cells": [
    {
      "cell_type": "markdown",
      "metadata": {
        "id": "view-in-github",
        "colab_type": "text"
      },
      "source": [
        "<a href=\"https://colab.research.google.com/github/nyunu/BaekJoon/blob/main/1283.ipynb\" target=\"_parent\"><img src=\"https://colab.research.google.com/assets/colab-badge.svg\" alt=\"Open In Colab\"/></a>"
      ]
    },
    {
      "cell_type": "code",
      "source": [
        "n = int(input())\n",
        "words = [input() for _ in range(n)]\n",
        "key = []\n",
        "\n",
        "for i in words:\n",
        "  i_lst = i.split()\n",
        "  for j in range(len(i_lst)):\n",
        "    if i_lst[j][0].lower() not in key:\n",
        "      key += [i_lst[j][0].lower()]\n",
        "      ans = ' '.join(i_lst[:j]) + ' [' + i_lst[j][0] + ']' + i_lst[j][1:] + ' ' +  ' '.join(i_lst[j + 1:])\n",
        "      print(ans.lstrip())\n",
        "      break\n",
        "  else:\n",
        "    for k in range(len(i)):\n",
        "      if (i[k] != ' ') and i[k].lower() not in key:\n",
        "        key += [i[k].lower()]\n",
        "        print(i[:k] + '['+ i[k] + ']' + i[k + 1:])\n",
        "        break\n",
        "    else:\n",
        "      print(i)"
      ],
      "metadata": {
        "colab": {
          "base_uri": "https://localhost:8080/"
        },
        "id": "-9VH5_VO_xtk",
        "outputId": "0f227cc7-c345-4a10-f65b-4d0b678ff5e4"
      },
      "execution_count": 80,
      "outputs": [
        {
          "output_type": "stream",
          "name": "stdout",
          "text": [
            "8\n",
            "New window\n",
            "New file\n",
            "Copy\n",
            "Undo\n",
            "Format\n",
            "Font\n",
            "Cut\n",
            "Paste\n",
            "[N]ew window\n",
            "New [f]ile \n",
            "[C]opy \n",
            "[U]ndo \n",
            "F[o]rmat\n",
            "Fon[t]\n",
            "Cut\n",
            "[P]aste \n"
          ]
        }
      ]
    },
    {
      "cell_type": "code",
      "source": [
        "n = int(input())\n",
        "key = []\n",
        "\n",
        "for _ in range(n):\n",
        "  word = input().rstrip()\n",
        "  word_lst = word.split()\n",
        "  for j in range(len(word_lst)):\n",
        "    if word_lst[j][0].lower() not in key:\n",
        "      key += [word_lst[j][0].lower()]\n",
        "      ans = ' '.join(word_lst[:j]) + ' [' + word_lst[j][0] + ']' + word_lst[j][1:] + ' ' +  ' '.join(word_lst[j + 1:])\n",
        "      print(ans.lstrip())\n",
        "      break\n",
        "  else:\n",
        "    for k in range(len(word)):\n",
        "      if (word[k] != ' ') and word[k].lower() not in key:\n",
        "        key += [word[k].lower()]\n",
        "        print(word[:k] + '['+ word[k] + ']' + word[k + 1:])\n",
        "        break\n",
        "    else:\n",
        "      print(word)"
      ],
      "metadata": {
        "id": "6KCwh7CJEocI"
      },
      "execution_count": null,
      "outputs": []
    }
  ]
}