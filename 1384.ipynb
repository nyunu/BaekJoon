{
  "cells": [
    {
      "cell_type": "markdown",
      "metadata": {
        "id": "view-in-github",
        "colab_type": "text"
      },
      "source": [
        "<a href=\"https://colab.research.google.com/github/nyunu/BaekJoon/blob/main/1384.ipynb\" target=\"_parent\"><img src=\"https://colab.research.google.com/assets/colab-badge.svg\" alt=\"Open In Colab\"/></a>"
      ]
    },
    {
      "cell_type": "code",
      "source": [
        "order = 1\n",
        "\n",
        "while True:\n",
        "  n = int(input())\n",
        "  name_lst = []\n",
        "  sen_lst = []\n",
        "  cnt = 0\n",
        "  \n",
        "  if n == 0:\n",
        "    break;\n",
        "  \n",
        "  else:\n",
        "    for i in range(n):\n",
        "      paper_lst = list(input().split())\n",
        "      name_lst.append(paper_lst[0])\n",
        "      sen_lst.append(paper_lst[1:])\n",
        "    \n",
        "    print(\"Group\", order)\n",
        "\n",
        "    idx = 0\n",
        "    for i in sen_lst:\n",
        "      if \"N\" in i:\n",
        "        cnt += 1\n",
        "        for k in range(len(i)):\n",
        "          if i[k] == \"N\":\n",
        "            print(f\"{name_lst[idx - k - 1]} was nasty about {name_lst[idx]}\")\n",
        "      idx += 1\n",
        "\n",
        "  if cnt == 0:\n",
        "    print(\"Nobody was nasty\")\n",
        "\n",
        "  order += 1\n",
        "  print(\"\")"
      ],
      "metadata": {
        "id": "dh7WAJuzXWlG",
        "colab": {
          "base_uri": "https://localhost:8080/"
        },
        "outputId": "2d409cef-40fe-4a2e-a303-ce22e246da99"
      },
      "execution_count": 18,
      "outputs": [
        {
          "name": "stdout",
          "output_type": "stream",
          "text": [
            "5\n",
            "Ann P N P P\n",
            "Bob P P P P\n",
            "Clive P P P P\n",
            "Debby P N P P\n",
            "Eunice P P P P\n",
            "Group 1\n",
            "Debby was nasty about Ann\n",
            "Bob was nasty about Debby\n",
            "\n",
            "0\n"
          ]
        }
      ]
    }
  ],
  "metadata": {
    "colab": {
      "provenance": [],
      "authorship_tag": "ABX9TyNINg+Jg4vEQWqH21aUEr3O",
      "include_colab_link": true
    },
    "kernelspec": {
      "display_name": "Python 3",
      "name": "python3"
    },
    "language_info": {
      "name": "python"
    }
  },
  "nbformat": 4,
  "nbformat_minor": 0
}