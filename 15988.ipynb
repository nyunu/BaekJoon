{
  "nbformat": 4,
  "nbformat_minor": 0,
  "metadata": {
    "colab": {
      "provenance": [],
      "authorship_tag": "ABX9TyMt3TzNOAMadZg94x1PYVEh",
      "include_colab_link": true
    },
    "kernelspec": {
      "name": "python3",
      "display_name": "Python 3"
    },
    "language_info": {
      "name": "python"
    }
  },
  "cells": [
    {
      "cell_type": "markdown",
      "metadata": {
        "id": "view-in-github",
        "colab_type": "text"
      },
      "source": [
        "<a href=\"https://colab.research.google.com/github/nyunu/BaekJoon/blob/main/15988.ipynb\" target=\"_parent\"><img src=\"https://colab.research.google.com/assets/colab-badge.svg\" alt=\"Open In Colab\"/></a>"
      ]
    },
    {
      "cell_type": "code",
      "source": [
        "t = int(input())\n",
        "n_lst = [int(input()) for _ in range(t)]\n",
        "maxx_n = max(n_lst)\n",
        "dp = [1, 2, 4, 7]\n",
        "\n",
        "for i in range(4, maxx_n):\n",
        "    dp.append((dp[i - 3] + dp[i - 2] + dp[i - 1]) % 1000000009)\n",
        "\n",
        "for i in n_lst:\n",
        "  print(dp[i - 1])"
      ],
      "metadata": {
        "colab": {
          "base_uri": "https://localhost:8080/"
        },
        "id": "MCXAwYX59JlT",
        "outputId": "730b26f0-5847-4456-ff24-896f3ea6416a"
      },
      "execution_count": 12,
      "outputs": [
        {
          "output_type": "stream",
          "name": "stdout",
          "text": [
            "3\n",
            "4\n",
            "7\n",
            "10\n",
            "7\n",
            "44\n",
            "274\n"
          ]
        }
      ]
    },
    {
      "cell_type": "code",
      "source": [
        "t = int(input())\n",
        "\n",
        "dp = [1, 2, 4, 7]\n",
        "for _ in range(t):\n",
        "  n = int(input())\n",
        "  for i in range(len(dp), n):\n",
        "    dp.append((dp[i - 3] + dp[i - 2] + dp[i - 1]) % 1000000009)\n",
        "  print(dp[n - 1])"
      ],
      "metadata": {
        "colab": {
          "base_uri": "https://localhost:8080/"
        },
        "id": "FAb6f9s4vro5",
        "outputId": "9abad7d4-8cf9-4bc3-e271-4606cce83342"
      },
      "execution_count": 10,
      "outputs": [
        {
          "output_type": "stream",
          "name": "stdout",
          "text": [
            "3\n",
            "4\n",
            "7\n",
            "7\n",
            "44\n",
            "10\n",
            "274\n"
          ]
        }
      ]
    }
  ]
}