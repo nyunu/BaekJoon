{
  "nbformat": 4,
  "nbformat_minor": 0,
  "metadata": {
    "colab": {
      "provenance": [],
      "authorship_tag": "ABX9TyMgnVVcKq2P7m05fMjNwsDZ",
      "include_colab_link": true
    },
    "kernelspec": {
      "name": "python3",
      "display_name": "Python 3"
    },
    "language_info": {
      "name": "python"
    }
  },
  "cells": [
    {
      "cell_type": "markdown",
      "metadata": {
        "id": "view-in-github",
        "colab_type": "text"
      },
      "source": [
        "<a href=\"https://colab.research.google.com/github/nyunu/BaekJoon/blob/main/1697.ipynb\" target=\"_parent\"><img src=\"https://colab.research.google.com/assets/colab-badge.svg\" alt=\"Open In Colab\"/></a>"
      ]
    },
    {
      "cell_type": "code",
      "source": [
        "n, k = map(int, input().split())\n",
        "dp = [0 for _ in range(100003)]\n",
        "\n",
        "for i in range(n):\n",
        "  dp[i] = n - i\n",
        "\n",
        "for i in range(n + 1, k + 1):\n",
        "  if i % 2 == 0:\n",
        "    dp[i] = min(dp[i // 2], dp[i - 1]) + 1\n",
        "  else:\n",
        "    dp[i] = min(dp[(i + 1) // 2] + 2, dp[i - 1] + 1)\n",
        "\n",
        "print(dp[k])"
      ],
      "metadata": {
        "colab": {
          "base_uri": "https://localhost:8080/"
        },
        "id": "MLrPVcuGytB5",
        "outputId": "48fa5c74-da22-46a8-e0c7-b4fef244d859"
      },
      "execution_count": 41,
      "outputs": [
        {
          "output_type": "stream",
          "name": "stdout",
          "text": [
            "5 17\n",
            "4\n"
          ]
        }
      ]
    },
    {
      "cell_type": "code",
      "source": [
        "from collections import deque\n",
        "\n",
        "n, k = map(int, input().split())\n",
        "\n",
        "def bfs(n, k):\n",
        "  if n >= k :\n",
        "    return n - k\n",
        "\n",
        "  q = deque()\n",
        "  q.append([0, n])\n",
        "  visited = [False] * (k * 2 + 1)\n",
        "\n",
        "  while q:\n",
        "    cost, pos = q.popleft()\n",
        "    if pos == k:\n",
        "      return cost\n",
        "\n",
        "    for next in [pos - 1, pos + 1, pos * 2]:\n",
        "      if 0 <= next <= k + 1 and not visited[next]:\n",
        "        visited[next] = True\n",
        "        q.append([cost + 1, next])\n",
        "\n",
        "bfs(n, k)"
      ],
      "metadata": {
        "colab": {
          "base_uri": "https://localhost:8080/"
        },
        "id": "pvNlsDwlbHK2",
        "outputId": "923e2750-fac7-4bfb-b23c-9790e46aca7d"
      },
      "execution_count": 46,
      "outputs": [
        {
          "name": "stdout",
          "output_type": "stream",
          "text": [
            "5 17\n"
          ]
        },
        {
          "output_type": "execute_result",
          "data": {
            "text/plain": [
              "4"
            ]
          },
          "metadata": {},
          "execution_count": 46
        }
      ]
    }
  ]
}