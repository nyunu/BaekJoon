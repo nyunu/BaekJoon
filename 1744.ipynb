{
  "nbformat": 4,
  "nbformat_minor": 0,
  "metadata": {
    "colab": {
      "provenance": [],
      "authorship_tag": "ABX9TyPRKf4caHh17oEGdBZ6GRFj",
      "include_colab_link": true
    },
    "kernelspec": {
      "name": "python3",
      "display_name": "Python 3"
    },
    "language_info": {
      "name": "python"
    }
  },
  "cells": [
    {
      "cell_type": "markdown",
      "metadata": {
        "id": "view-in-github",
        "colab_type": "text"
      },
      "source": [
        "<a href=\"https://colab.research.google.com/github/nyunu/BaekJoon/blob/main/1744.ipynb\" target=\"_parent\"><img src=\"https://colab.research.google.com/assets/colab-badge.svg\" alt=\"Open In Colab\"/></a>"
      ]
    },
    {
      "cell_type": "code",
      "source": [
        "n = int(input())\n",
        "plus = []\n",
        "minus = []\n",
        "result = 0\n",
        "\n",
        "for _ in range(n):\n",
        "  x = int(input())\n",
        "  if x <= 0 :\n",
        "    minus.append(x)\n",
        "  elif x > 1\n",
        "    plus.append(x)\n",
        "  else:\n",
        "    result.append\n",
        "\n",
        "minus.sort()\n",
        "plus.sort(reverse = True)\n",
        "\n",
        "if 0 in minus:\n",
        "  if (len(minus) - 1) % 2 != 0:\n",
        "    del minus[-2]\n",
        "  minus.remove(0)\n",
        "\n",
        "if 1 in plus:\n",
        "  result += plus.count(1)\n",
        "  plus = [i for i in plus if i != 1]\n",
        "\n",
        "final = [minus, plus]\n",
        "\n",
        "for i in final:\n",
        "  if len(i) != 0:\n",
        "    for j in range(0, len(i), 2):\n",
        "      if j == len(i) - 1:\n",
        "        result += i[j]\n",
        "      else:\n",
        "        result += i[j] * i[j + 1]\n",
        "\n",
        "print(result)"
      ],
      "metadata": {
        "colab": {
          "base_uri": "https://localhost:8080/"
        },
        "id": "b5_bxYfj324m",
        "outputId": "7d84452a-800d-4ccf-b30d-c18139d7363e"
      },
      "execution_count": 71,
      "outputs": [
        {
          "name": "stdout",
          "output_type": "stream",
          "text": [
            "3\n",
            "-1\n",
            "-2\n",
            "0\n"
          ]
        }
      ]
    },
    {
      "cell_type": "code",
      "source": [
        "n = int(input())\n",
        "plus = []\n",
        "minus = []\n",
        "result = []\n",
        "\n",
        "for _ in range(n):\n",
        "  x = int(input())\n",
        "  if x <= 0 :\n",
        "    minus.append(x)\n",
        "  elif x > 1:\n",
        "    plus.append(x)\n",
        "  else:\n",
        "    result.append(x)\n",
        "\n",
        "minus.sort()\n",
        "plus.sort(reverse = True)\n",
        "\n",
        "final = [minus, plus]\n",
        "\n",
        "for i in final:\n",
        "  for j in range(0, len(i), 2):\n",
        "    if j >= len(i) - 1:\n",
        "      result.append(i[j])\n",
        "    else:\n",
        "      result.append(i[j] * i[j + 1])\n",
        "\n",
        "print(sum(result))"
      ],
      "metadata": {
        "colab": {
          "base_uri": "https://localhost:8080/"
        },
        "id": "FlUiw1cp8eus",
        "outputId": "891790d6-c93e-44ff-ff53-845dcdedab64"
      },
      "execution_count": 76,
      "outputs": [
        {
          "output_type": "stream",
          "name": "stdout",
          "text": [
            "4\n",
            "-1\n",
            "2\n",
            "1\n",
            "3\n",
            "6\n"
          ]
        }
      ]
    }
  ]
}