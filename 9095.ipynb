{
  "nbformat": 4,
  "nbformat_minor": 0,
  "metadata": {
    "colab": {
      "provenance": [],
      "authorship_tag": "ABX9TyP26wFiP2CaBUeCNca/Q9Zb",
      "include_colab_link": true
    },
    "kernelspec": {
      "name": "python3",
      "display_name": "Python 3"
    },
    "language_info": {
      "name": "python"
    }
  },
  "cells": [
    {
      "cell_type": "markdown",
      "metadata": {
        "id": "view-in-github",
        "colab_type": "text"
      },
      "source": [
        "<a href=\"https://colab.research.google.com/github/nyunu/BaekJoon/blob/main/9095.ipynb\" target=\"_parent\"><img src=\"https://colab.research.google.com/assets/colab-badge.svg\" alt=\"Open In Colab\"/></a>"
      ]
    },
    {
      "cell_type": "code",
      "source": [
        "t = int(input())\n",
        "fn = [0, 1, 2, 4]\n",
        "\n",
        "for _ in range(t):\n",
        "  n = int(input())\n",
        "  if n <= 3:\n",
        "    print(fn[n])\n",
        "  else:\n",
        "    dp = fn + [0] * (n - 3)\n",
        "    for i in range(4, n + 1):\n",
        "      dp[i] = dp[i - 1] + dp[i - 2] + dp[i - 3]\n",
        "    print(dp[n])"
      ],
      "metadata": {
        "colab": {
          "base_uri": "https://localhost:8080/"
        },
        "id": "fyRRNaZ910r8",
        "outputId": "f5dbe6b8-01fb-4d6a-ecdb-c7195f64915a"
      },
      "execution_count": 13,
      "outputs": [
        {
          "output_type": "stream",
          "name": "stdout",
          "text": [
            "3\n",
            "4\n",
            "7\n",
            "7\n",
            "44\n",
            "10\n",
            "274\n"
          ]
        }
      ]
    },
    {
      "cell_type": "code",
      "source": [
        "t = int(input())\n",
        "\n",
        "for _ in range(t):\n",
        "  n = int(input())\n",
        "  fn = [0, 1, 2, 4]\n",
        "  if n <= 3:\n",
        "    print(fn[n])\n",
        "  else:\n",
        "    for i in range(4, n + 1):\n",
        "      fn.append(fn[i - 1] + fn[i - 2] + fn[i - 3])\n",
        "    print(fn[n])"
      ],
      "metadata": {
        "colab": {
          "base_uri": "https://localhost:8080/"
        },
        "id": "qYAEuQPtGKFf",
        "outputId": "fdf51767-0b83-470d-e0ea-c9f2c5302c13"
      },
      "execution_count": 14,
      "outputs": [
        {
          "output_type": "stream",
          "name": "stdout",
          "text": [
            "3\n",
            "4\n",
            "7\n",
            "7\n",
            "44\n",
            "10\n",
            "274\n"
          ]
        }
      ]
    }
  ]
}