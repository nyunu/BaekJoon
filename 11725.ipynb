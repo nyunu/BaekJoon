{
  "nbformat": 4,
  "nbformat_minor": 0,
  "metadata": {
    "colab": {
      "provenance": [],
      "authorship_tag": "ABX9TyPp+g5iRaPfd2h3DDXSW0ap",
      "include_colab_link": true
    },
    "kernelspec": {
      "name": "python3",
      "display_name": "Python 3"
    },
    "language_info": {
      "name": "python"
    }
  },
  "cells": [
    {
      "cell_type": "markdown",
      "metadata": {
        "id": "view-in-github",
        "colab_type": "text"
      },
      "source": [
        "<a href=\"https://colab.research.google.com/github/nyunu/BaekJoon/blob/main/11725.ipynb\" target=\"_parent\"><img src=\"https://colab.research.google.com/assets/colab-badge.svg\" alt=\"Open In Colab\"/></a>"
      ]
    },
    {
      "cell_type": "markdown",
      "source": [
        "### **DFS (Recursion) : 65708 KB / 312 ms**"
      ],
      "metadata": {
        "id": "70c3eDluuPo-"
      }
    },
    {
      "cell_type": "code",
      "source": [
        "import sys\n",
        "input = sys.stdin.readline\n",
        "sys.setrecursionlimit(1000000)\n",
        "\n",
        "n = int(input())\n",
        "graph = [[] for i in range(n + 1)]\n",
        "\n",
        "for _ in range(n - 1):\n",
        "  a, b = map(int, input().split())\n",
        "  graph[a].append(b)\n",
        "  graph[b].append(a)\n",
        "\n",
        "visit = [False] * (n + 1)\n",
        "parent = [0 for _ in range(n + 1)]\n",
        "\n",
        "def dfs(node):\n",
        "  visit[node] = True\n",
        "  for i in graph[node]:\n",
        "    if not visit[i]:\n",
        "      parent[i] = node\n",
        "      dfs(i)\n",
        "\n",
        "dfs(1)\n",
        "\n",
        "print(*parent[2:], sep = '\\n')"
      ],
      "metadata": {
        "colab": {
          "base_uri": "https://localhost:8080/"
        },
        "id": "tX0EM3x4nqEK",
        "outputId": "4b101d2c-4c4d-4652-9f9f-80d9d883f065"
      },
      "execution_count": 72,
      "outputs": [
        {
          "output_type": "stream",
          "name": "stdout",
          "text": [
            "7\n",
            "1 6\n",
            "6 3\n",
            "3 5\n",
            "4 1\n",
            "2 4\n",
            "4 7\n",
            "4\n",
            "6\n",
            "1\n",
            "3\n",
            "1\n",
            "4\n"
          ]
        }
      ]
    },
    {
      "cell_type": "markdown",
      "source": [
        "### **DFS (stack) : 52196 KB / 284 ms**\n",
        "-> 가장 시간 & 메모리 측면에서 우수함"
      ],
      "metadata": {
        "id": "DFqFgKIPv_w1"
      }
    },
    {
      "cell_type": "code",
      "source": [
        "import sys\n",
        "from collections import deque\n",
        "input = sys.stdin.readline\n",
        "sys.setrecursionlimit(1000000)\n",
        "\n",
        "n = int(input())\n",
        "graph = [[] for i in range(n + 1)]\n",
        "\n",
        "for _ in range(n - 1):\n",
        "  a, b = map(int, input().split())\n",
        "  graph[a].append(b)\n",
        "  graph[b].append(a)\n",
        "\n",
        "visit = [False] * (n + 1)\n",
        "parent = [0 for _ in range(n + 1)]\n",
        "\n",
        "def dfs(node):\n",
        "  visit[node] = True\n",
        "  stack = deque([node])\n",
        "  while stack:\n",
        "    v = stack.pop()\n",
        "    for i in graph[v]:\n",
        "      if not visit[i]:\n",
        "        stack.append(i)\n",
        "        visit[i] = True\n",
        "        parent[i] = v\n",
        "\n",
        "dfs(1)\n",
        "\n",
        "print(*parent[2:], sep = '\\n')"
      ],
      "metadata": {
        "colab": {
          "base_uri": "https://localhost:8080/"
        },
        "id": "SAIOydpgwDmF",
        "outputId": "f9023af2-6a9c-4d1e-ba09-b4a6b28081b0"
      },
      "execution_count": 2,
      "outputs": [
        {
          "output_type": "stream",
          "name": "stdout",
          "text": [
            "7\n",
            "1 6\n",
            "6 3\n",
            "3 5\n",
            "4 1\n",
            "2 4\n",
            "4 7\n",
            "4\n",
            "6\n",
            "1\n",
            "3\n",
            "1\n",
            "4\n"
          ]
        }
      ]
    },
    {
      "cell_type": "markdown",
      "source": [
        "## **BFS : 52480 KB / 292 ms**"
      ],
      "metadata": {
        "id": "KokxrBM1uS5v"
      }
    },
    {
      "cell_type": "code",
      "source": [
        "import sys\n",
        "from collections import deque\n",
        "input = sys.stdin.readline\n",
        "sys.setrecursionlimit(1000000)\n",
        "\n",
        "n = int(input())\n",
        "graph = [[] for i in range(n + 1)]\n",
        "\n",
        "for _ in range(n - 1):\n",
        "  a, b = map(int, input().split())\n",
        "  graph[a].append(b)\n",
        "  graph[b].append(a)\n",
        "\n",
        "visit = [False] * (n + 1)\n",
        "parent = [0 for _ in range(n + 1)]\n",
        "\n",
        "def bfs(node):\n",
        "  visit[node] = True\n",
        "  queue = deque([node])\n",
        "  while queue:\n",
        "    v = queue.popleft()\n",
        "    for i in graph[v]:\n",
        "      if not visit[i]:\n",
        "        queue.append(i)\n",
        "        parent[i] = v\n",
        "        visit[i] = True\n",
        "\n",
        "bfs(1)\n",
        "\n",
        "print(*parent[2:], sep = '\\n')"
      ],
      "metadata": {
        "colab": {
          "base_uri": "https://localhost:8080/"
        },
        "id": "9_AhpnjduU3b",
        "outputId": "5d089bcf-c2d9-4c1c-9021-2c0657d57032"
      },
      "execution_count": 75,
      "outputs": [
        {
          "output_type": "stream",
          "name": "stdout",
          "text": [
            "7\n",
            "1 6\n",
            "6 3\n",
            "3 5\n",
            "4 1\n",
            "2 4\n",
            "4 7\n",
            "4\n",
            "6\n",
            "1\n",
            "3\n",
            "1\n",
            "4\n"
          ]
        }
      ]
    }
  ]
}