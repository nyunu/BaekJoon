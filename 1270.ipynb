{
  "nbformat": 4,
  "nbformat_minor": 0,
  "metadata": {
    "colab": {
      "provenance": [],
      "authorship_tag": "ABX9TyP6C1RX/Re11DUvK+vw3G2M",
      "include_colab_link": true
    },
    "kernelspec": {
      "name": "python3",
      "display_name": "Python 3"
    },
    "language_info": {
      "name": "python"
    }
  },
  "cells": [
    {
      "cell_type": "markdown",
      "metadata": {
        "id": "view-in-github",
        "colab_type": "text"
      },
      "source": [
        "<a href=\"https://colab.research.google.com/github/nyunu/BaekJoon/blob/main/1270.ipynb\" target=\"_parent\"><img src=\"https://colab.research.google.com/assets/colab-badge.svg\" alt=\"Open In Colab\"/></a>"
      ]
    },
    {
      "cell_type": "code",
      "source": [
        "from collections import Counter\n",
        "import sys\n",
        "\n",
        "input = sys.stdin.readline\n",
        "\n",
        "n = int(input())\n",
        "for _ in range(n):\n",
        "  lst = list(map(int, input().split()))\n",
        "  land = sorted(Counter(lst).items(), key = lambda x : x[1], reverse = True)\n",
        "  if land[0][1] >= (len(lst) - 1) // 2 + 1:\n",
        "    print(land[0][0])\n",
        "  else:\n",
        "    print(\"SYJKGW\")"
      ],
      "metadata": {
        "colab": {
          "base_uri": "https://localhost:8080/"
        },
        "id": "Qu6qznvu7yaU",
        "outputId": "e329747c-46e8-4617-a588-1b0dcb5bb5db"
      },
      "execution_count": 16,
      "outputs": [
        {
          "output_type": "stream",
          "name": "stdout",
          "text": [
            "4\n",
            "10 1 2 3 1 2 3 1 2 3 1\n",
            "SYJKGW\n",
            "5 1 1 1 2 2\n",
            "1\n",
            "6 10 10 2 10 10 2\n",
            "10\n",
            "6 1 1 1 2 2 2 \n",
            "SYJKGW\n"
          ]
        }
      ]
    }
  ]
}