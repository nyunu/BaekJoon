{
  "nbformat": 4,
  "nbformat_minor": 0,
  "metadata": {
    "colab": {
      "provenance": [],
      "authorship_tag": "ABX9TyM29AEyh0eKKq85Q+cdODdU",
      "include_colab_link": true
    },
    "kernelspec": {
      "name": "python3",
      "display_name": "Python 3"
    },
    "language_info": {
      "name": "python"
    }
  },
  "cells": [
    {
      "cell_type": "markdown",
      "metadata": {
        "id": "view-in-github",
        "colab_type": "text"
      },
      "source": [
        "<a href=\"https://colab.research.google.com/github/nyunu/BaekJoon/blob/main/2644.ipynb\" target=\"_parent\"><img src=\"https://colab.research.google.com/assets/colab-badge.svg\" alt=\"Open In Colab\"/></a>"
      ]
    },
    {
      "cell_type": "code",
      "source": [
        "n = int(input())\n",
        "a, b = map(int, input().split())\n",
        "m = int(input())\n",
        "\n",
        "graph = [[] for _ in range(n + 1)]\n",
        "for _ in range(m):\n",
        "  x, y = map(int, input().split())\n",
        "  graph[x].append(y)\n",
        "  graph[y].append(x)\n",
        "\n",
        "visit = [False for _ in range(n + 1)]\n",
        "\n",
        "global flag\n",
        "flag = False\n",
        "\n",
        "def dfs(cnt, node):\n",
        "  global flag\n",
        "  visit[node] = True\n",
        "  if node == b:\n",
        "    flag = True\n",
        "    print(cnt)\n",
        "    return\n",
        "  for i in graph[node]:\n",
        "    if not visit[i]:\n",
        "      dfs(cnt + 1, i)\n",
        "\n",
        "dfs(0, a)\n",
        "\n",
        "if not flag:\n",
        "  print(-1)"
      ],
      "metadata": {
        "id": "7vzg8e6GJ4Dl"
      },
      "execution_count": null,
      "outputs": []
    },
    {
      "cell_type": "code",
      "source": [
        "from collections import deque\n",
        "import sys\n",
        "input = sys.stdin.readline\n",
        "sys.setrecursionlimit(1000000)\n",
        "\n",
        "n = int(input())\n",
        "a, b = map(int, input().split())\n",
        "m = int(input())\n",
        "\n",
        "graph = [[] for _ in range(n + 1)]\n",
        "for _ in range(m):\n",
        "  x, y = map(int, input().split())\n",
        "  graph[x].append(y)\n",
        "  graph[y].append(x)\n",
        "\n",
        "visit = [False for _ in range(n + 1)]\n",
        "stack = deque([a])\n",
        "\n",
        "flag = False\n",
        "cnt = 0\n",
        "while stack:\n",
        "  v = stack.pop()\n",
        "  cnt += 1\n",
        "  if v == b:\n",
        "    print(cnt - 1)\n",
        "    flag = True\n",
        "    break\n",
        "  for i in graph[v]:\n",
        "    stack.append(i)\n",
        "    visit[i] = True\n",
        "\n",
        "if not flag:\n",
        "  print(-1)"
      ],
      "metadata": {
        "id": "5WW5fSdSkSUa"
      },
      "execution_count": null,
      "outputs": []
    }
  ]
}