{
  "nbformat": 4,
  "nbformat_minor": 0,
  "metadata": {
    "colab": {
      "provenance": [],
      "authorship_tag": "ABX9TyMG1c/xsENl5l1c5tEyswF/",
      "include_colab_link": true
    },
    "kernelspec": {
      "name": "python3",
      "display_name": "Python 3"
    },
    "language_info": {
      "name": "python"
    }
  },
  "cells": [
    {
      "cell_type": "markdown",
      "metadata": {
        "id": "view-in-github",
        "colab_type": "text"
      },
      "source": [
        "<a href=\"https://colab.research.google.com/github/nyunu/BaekJoon/blob/main/1931.ipynb\" target=\"_parent\"><img src=\"https://colab.research.google.com/assets/colab-badge.svg\" alt=\"Open In Colab\"/></a>"
      ]
    },
    {
      "cell_type": "code",
      "execution_count": 24,
      "metadata": {
        "colab": {
          "base_uri": "https://localhost:8080/"
        },
        "id": "tp6q2ZuBUYXd",
        "outputId": "8d94439b-9cf9-455f-b9a3-939b2aae5a90"
      },
      "outputs": [
        {
          "output_type": "stream",
          "name": "stdout",
          "text": [
            "4\n",
            "2 4\n",
            "1 3\n",
            "2 2\n",
            "1 5\n",
            "2\n"
          ]
        }
      ],
      "source": [
        "n = int(input())\n",
        "lst = []\n",
        "cnt = 0\n",
        "time = 0\n",
        "\n",
        "for _ in range(n):\n",
        "  lst.append(list(map(int, input().split())))\n",
        "\n",
        "lst.sort(key = lambda x : (x[1], x[0]))\n",
        "\n",
        "for i in range(0, len(lst)):\n",
        "  if lst[i][0] >= time:\n",
        "    cnt += 1\n",
        "    time = lst[i][1]\n",
        "\n",
        "print(cnt)"
      ]
    }
  ]
}