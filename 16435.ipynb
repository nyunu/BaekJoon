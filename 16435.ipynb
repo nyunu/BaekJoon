{
  "nbformat": 4,
  "nbformat_minor": 0,
  "metadata": {
    "colab": {
      "provenance": [],
      "authorship_tag": "ABX9TyOhllyFqosV2jpT/HiBkhBY",
      "include_colab_link": true
    },
    "kernelspec": {
      "name": "python3",
      "display_name": "Python 3"
    },
    "language_info": {
      "name": "python"
    }
  },
  "cells": [
    {
      "cell_type": "markdown",
      "metadata": {
        "id": "view-in-github",
        "colab_type": "text"
      },
      "source": [
        "<a href=\"https://colab.research.google.com/github/nyunu/BaekJoon/blob/main/16435.ipynb\" target=\"_parent\"><img src=\"https://colab.research.google.com/assets/colab-badge.svg\" alt=\"Open In Colab\"/></a>"
      ]
    },
    {
      "cell_type": "code",
      "source": [
        "n, l = map(int, input().split())\n",
        "h = sorted(list(map(int, input().split())))\n",
        "\n",
        "for i in range(n):\n",
        "  if l >= h[i]:\n",
        "    l += 1\n",
        "\n",
        "print(l)"
      ],
      "metadata": {
        "colab": {
          "base_uri": "https://localhost:8080/"
        },
        "id": "P2nFo7JRptC2",
        "outputId": "7decbec8-0549-4242-aaf6-03a333c9dd52"
      },
      "execution_count": 94,
      "outputs": [
        {
          "output_type": "stream",
          "name": "stdout",
          "text": [
            "9 1\n",
            "9 5 8 1 3 2 7 6 4\n",
            "10\n"
          ]
        }
      ]
    }
  ]
}