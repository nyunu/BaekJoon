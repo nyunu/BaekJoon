{
  "nbformat": 4,
  "nbformat_minor": 0,
  "metadata": {
    "colab": {
      "provenance": [],
      "authorship_tag": "ABX9TyNDVZBz/l78xu4CHYv4DpaO",
      "include_colab_link": true
    },
    "kernelspec": {
      "name": "python3",
      "display_name": "Python 3"
    },
    "language_info": {
      "name": "python"
    }
  },
  "cells": [
    {
      "cell_type": "markdown",
      "metadata": {
        "id": "view-in-github",
        "colab_type": "text"
      },
      "source": [
        "<a href=\"https://colab.research.google.com/github/nyunu/BaekJoon/blob/main/2884.ipynb\" target=\"_parent\"><img src=\"https://colab.research.google.com/assets/colab-badge.svg\" alt=\"Open In Colab\"/></a>"
      ]
    },
    {
      "cell_type": "code",
      "source": [
        "h, m = map(int, input().split())\n",
        "\n",
        "if (m < 45) & (h > 0):\n",
        "  print(h - 1, 60 - abs(m-45))\n",
        "elif m > 44 :\n",
        "  print(h, m - 44)\n",
        "else :\n",
        "  print(23, 60 - abs(m-45))"
      ],
      "metadata": {
        "id": "-yR1A1t7ntYK"
      },
      "execution_count": null,
      "outputs": []
    }
  ]
}