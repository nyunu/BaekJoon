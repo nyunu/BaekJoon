{
  "nbformat": 4,
  "nbformat_minor": 0,
  "metadata": {
    "colab": {
      "provenance": [],
      "authorship_tag": "ABX9TyNLd28QvFrjPzHcZokEert6",
      "include_colab_link": true
    },
    "kernelspec": {
      "name": "python3",
      "display_name": "Python 3"
    },
    "language_info": {
      "name": "python"
    }
  },
  "cells": [
    {
      "cell_type": "markdown",
      "metadata": {
        "id": "view-in-github",
        "colab_type": "text"
      },
      "source": [
        "<a href=\"https://colab.research.google.com/github/nyunu/BaekJoon/blob/main/2480.ipynb\" target=\"_parent\"><img src=\"https://colab.research.google.com/assets/colab-badge.svg\" alt=\"Open In Colab\"/></a>"
      ]
    },
    {
      "cell_type": "code",
      "source": [
        "a, b, c = map(int, input().split())\n",
        "if a == b == c :\n",
        "  print(10000 + a * 1000)\n",
        "elif a == b :\n",
        "  print(1000 + a * 100)\n",
        "elif a == c :\n",
        "  print(1000 + a * 100)\n",
        "elif b == c :\n",
        "  print(1000 + b * 100)\n",
        "elif a != b != c :\n",
        "  print(max(a, b, c) * 100)"
      ],
      "metadata": {
        "colab": {
          "base_uri": "https://localhost:8080/"
        },
        "id": "-yR1A1t7ntYK",
        "outputId": "91817961-07cf-40c9-fc4c-6a6fa8e911ff"
      },
      "execution_count": 29,
      "outputs": [
        {
          "output_type": "stream",
          "name": "stdout",
          "text": [
            "6 2 5\n",
            "600\n"
          ]
        }
      ]
    }
  ]
}