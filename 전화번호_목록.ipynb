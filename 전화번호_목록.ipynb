{
  "nbformat": 4,
  "nbformat_minor": 0,
  "metadata": {
    "colab": {
      "provenance": [],
      "authorship_tag": "ABX9TyOleFxhmfyQsCntSwiL2WBX",
      "include_colab_link": true
    },
    "kernelspec": {
      "name": "python3",
      "display_name": "Python 3"
    },
    "language_info": {
      "name": "python"
    }
  },
  "cells": [
    {
      "cell_type": "markdown",
      "metadata": {
        "id": "view-in-github",
        "colab_type": "text"
      },
      "source": [
        "<a href=\"https://colab.research.google.com/github/nyunu/BaekJoon/blob/main/%EC%A0%84%ED%99%94%EB%B2%88%ED%98%B8_%EB%AA%A9%EB%A1%9D.ipynb\" target=\"_parent\"><img src=\"https://colab.research.google.com/assets/colab-badge.svg\" alt=\"Open In Colab\"/></a>"
      ]
    },
    {
      "cell_type": "code",
      "source": [
        "def solution(phone_book):\n",
        "    phone_book.sort()\n",
        "    for i in range(len(phone_book) - 1):\n",
        "        if phone_book[i + 1].startswith(phone_book[i]):\n",
        "            return False\n",
        "    return True\n",
        "\n",
        "solution([\"119\", \"97674223\", \"1195524421\"])"
      ],
      "metadata": {
        "id": "kT6f_65nedZF",
        "outputId": "9523b3a0-a728-4cd0-d03e-f4dd7204811a",
        "colab": {
          "base_uri": "https://localhost:8080/"
        }
      },
      "execution_count": 9,
      "outputs": [
        {
          "output_type": "execute_result",
          "data": {
            "text/plain": [
              "False"
            ]
          },
          "metadata": {},
          "execution_count": 9
        }
      ]
    }
  ]
}