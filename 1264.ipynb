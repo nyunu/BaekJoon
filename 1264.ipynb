{
  "nbformat": 4,
  "nbformat_minor": 0,
  "metadata": {
    "colab": {
      "provenance": [],
      "authorship_tag": "ABX9TyPpFUEX8SUZ+fxlpM8xv9oZ",
      "include_colab_link": true
    },
    "kernelspec": {
      "name": "python3",
      "display_name": "Python 3"
    },
    "language_info": {
      "name": "python"
    }
  },
  "cells": [
    {
      "cell_type": "markdown",
      "metadata": {
        "id": "view-in-github",
        "colab_type": "text"
      },
      "source": [
        "<a href=\"https://colab.research.google.com/github/nyunu/BaekJoon/blob/main/1264.ipynb\" target=\"_parent\"><img src=\"https://colab.research.google.com/assets/colab-badge.svg\" alt=\"Open In Colab\"/></a>"
      ]
    },
    {
      "cell_type": "code",
      "source": [
        "vowel = ['a', 'e', 'i', 'o', 'u']\n",
        "\n",
        "while True:\n",
        "  sen = input().lower()\n",
        "  if sen == \"#\":\n",
        "    break;\n",
        "  cnt = 0\n",
        "  for i in sen:\n",
        "    if i in vowel:\n",
        "      cnt += 1\n",
        "  print(cnt)"
      ],
      "metadata": {
        "colab": {
          "base_uri": "https://localhost:8080/"
        },
        "id": "-yR1A1t7ntYK",
        "outputId": "dcc5100e-14e1-413e-d418-4770adc54da7"
      },
      "execution_count": 18,
      "outputs": [
        {
          "name": "stdout",
          "output_type": "stream",
          "text": [
            "How are you today?\n",
            "7\n",
            "Quite well, thank you, how about yourself?\n",
            "14\n",
            "I live at number twenty four.\n",
            "9\n",
            "#\n"
          ]
        }
      ]
    }
  ]
}