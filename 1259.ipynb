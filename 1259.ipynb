{
  "nbformat": 4,
  "nbformat_minor": 0,
  "metadata": {
    "colab": {
      "provenance": [],
      "authorship_tag": "ABX9TyPJaT80fo8z5x8oiXAItLWW",
      "include_colab_link": true
    },
    "kernelspec": {
      "name": "python3",
      "display_name": "Python 3"
    },
    "language_info": {
      "name": "python"
    }
  },
  "cells": [
    {
      "cell_type": "markdown",
      "metadata": {
        "id": "view-in-github",
        "colab_type": "text"
      },
      "source": [
        "<a href=\"https://colab.research.google.com/github/nyunu/BaekJoon/blob/main/1259.ipynb\" target=\"_parent\"><img src=\"https://colab.research.google.com/assets/colab-badge.svg\" alt=\"Open In Colab\"/></a>"
      ]
    },
    {
      "cell_type": "code",
      "execution_count": 1,
      "metadata": {
        "colab": {
          "base_uri": "https://localhost:8080/"
        },
        "id": "hBGY4ZY5Oy5i",
        "outputId": "2df08265-bb43-46b0-a82b-702d0bf0adf9"
      },
      "outputs": [
        {
          "name": "stdout",
          "output_type": "stream",
          "text": [
            "1231\n",
            "no\n",
            "12321\n",
            "yes\n",
            "0\n"
          ]
        }
      ],
      "source": [
        "while True:\n",
        "    x = input()\n",
        "    if x == \"0\":\n",
        "        break;\n",
        "    elif x == x[::-1]:\n",
        "        print(\"yes\")\n",
        "    else:\n",
        "        print(\"no\")"
      ]
    }
  ]
}