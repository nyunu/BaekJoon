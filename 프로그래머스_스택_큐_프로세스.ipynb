{
  "nbformat": 4,
  "nbformat_minor": 0,
  "metadata": {
    "colab": {
      "provenance": [],
      "authorship_tag": "ABX9TyMAkvxGcn1H5PZIadrtQMm1",
      "include_colab_link": true
    },
    "kernelspec": {
      "name": "python3",
      "display_name": "Python 3"
    },
    "language_info": {
      "name": "python"
    }
  },
  "cells": [
    {
      "cell_type": "markdown",
      "metadata": {
        "id": "view-in-github",
        "colab_type": "text"
      },
      "source": [
        "<a href=\"https://colab.research.google.com/github/nyunu/BaekJoon/blob/main/%ED%94%84%EB%A1%9C%EA%B7%B8%EB%9E%98%EB%A8%B8%EC%8A%A4_%EC%8A%A4%ED%83%9D_%ED%81%90_%ED%94%84%EB%A1%9C%EC%84%B8%EC%8A%A4.ipynb\" target=\"_parent\"><img src=\"https://colab.research.google.com/assets/colab-badge.svg\" alt=\"Open In Colab\"/></a>"
      ]
    },
    {
      "cell_type": "code",
      "source": [
        "from collections import deque\n",
        "\n",
        "def solution(priorities, location):\n",
        "    priorities = deque(priorities)\n",
        "    answer = 0\n",
        "    maxx = max(priorities)\n",
        "    while True:\n",
        "        n = priorities.popleft()\n",
        "        if n == maxx:\n",
        "            if location == 0:\n",
        "                return answer + 1\n",
        "            maxx = max(priorities)\n",
        "            location -= 1\n",
        "            answer += 1\n",
        "            continue\n",
        "        priorities.append(n)\n",
        "        if location == 0:\n",
        "            location = len(priorities) - 1\n",
        "        else:\n",
        "            location -= 1"
      ],
      "metadata": {
        "id": "1_Ya8idpra8Q"
      },
      "execution_count": 31,
      "outputs": []
    },
    {
      "cell_type": "code",
      "source": [
        "solution([1, 1, 9, 1, 1, 1]\t, 0)"
      ],
      "metadata": {
        "colab": {
          "base_uri": "https://localhost:8080/"
        },
        "id": "-5og48dgrbq5",
        "outputId": "61328b7f-db10-4fc6-ae9f-9b9019f57e50"
      },
      "execution_count": 32,
      "outputs": [
        {
          "output_type": "execute_result",
          "data": {
            "text/plain": [
              "5"
            ]
          },
          "metadata": {},
          "execution_count": 32
        }
      ]
    }
  ]
}