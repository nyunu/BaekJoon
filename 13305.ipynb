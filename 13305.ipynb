{
  "nbformat": 4,
  "nbformat_minor": 0,
  "metadata": {
    "colab": {
      "provenance": [],
      "authorship_tag": "ABX9TyMryl91g+Ny53hatBLbdC2a",
      "include_colab_link": true
    },
    "kernelspec": {
      "name": "python3",
      "display_name": "Python 3"
    },
    "language_info": {
      "name": "python"
    }
  },
  "cells": [
    {
      "cell_type": "markdown",
      "metadata": {
        "id": "view-in-github",
        "colab_type": "text"
      },
      "source": [
        "<a href=\"https://colab.research.google.com/github/nyunu/BaekJoon/blob/main/13305.ipynb\" target=\"_parent\"><img src=\"https://colab.research.google.com/assets/colab-badge.svg\" alt=\"Open In Colab\"/></a>"
      ]
    },
    {
      "cell_type": "code",
      "source": [
        "n = int(input()) - 1\n",
        "distance = list(map(int, input().split()))\n",
        "price = list(map(int, input().split()))\n",
        "\n",
        "result_price = 0\n",
        "i = 0\n",
        "\n",
        "while i <= (n - 1):\n",
        "  cnt = 1\n",
        "  for j in range(i+1, n):\n",
        "    if price[i] > price[j]:\n",
        "      break;\n",
        "    cnt += 1\n",
        "  result_price += price[i] * sum(distance[i: i + cnt])\n",
        "  i += cnt\n",
        "\n",
        "print(result_price)"
      ],
      "metadata": {
        "colab": {
          "base_uri": "https://localhost:8080/"
        },
        "id": "OU3BcUlEQxI5",
        "outputId": "4e9da410-eda9-4749-e4aa-9788a29483e5"
      },
      "execution_count": 41,
      "outputs": [
        {
          "output_type": "stream",
          "name": "stdout",
          "text": [
            "4\n",
            "2 3 1\n",
            "5 2 4 1\n",
            "18\n"
          ]
        }
      ]
    },
    {
      "cell_type": "code",
      "source": [
        "n = int(input()) - 1\n",
        "distance = list(map(int, input().split()))\n",
        "price = list(map(int, input().split()))\n",
        "\n",
        "result_price = 0\n",
        "minn = price[0]\n",
        "\n",
        "for i in range(n):\n",
        "  if price[i] < minn:\n",
        "    minn = price[i]\n",
        "  result_price += minn * distance[i]\n",
        "\n",
        "print(result_price)"
      ],
      "metadata": {
        "colab": {
          "base_uri": "https://localhost:8080/"
        },
        "id": "9H1GzjB5TUYK",
        "outputId": "9480598b-0fd0-4fe9-ea27-8674acaffec3"
      },
      "execution_count": 46,
      "outputs": [
        {
          "output_type": "stream",
          "name": "stdout",
          "text": [
            "4\n",
            "2 3 1\n",
            "5 2 4 1\n",
            "18\n"
          ]
        }
      ]
    }
  ]
}