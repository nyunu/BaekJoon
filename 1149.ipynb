{
  "nbformat": 4,
  "nbformat_minor": 0,
  "metadata": {
    "colab": {
      "provenance": [],
      "authorship_tag": "ABX9TyPH52UdKUvvFn6yq02nXuMi",
      "include_colab_link": true
    },
    "kernelspec": {
      "name": "python3",
      "display_name": "Python 3"
    },
    "language_info": {
      "name": "python"
    }
  },
  "cells": [
    {
      "cell_type": "markdown",
      "metadata": {
        "id": "view-in-github",
        "colab_type": "text"
      },
      "source": [
        "<a href=\"https://colab.research.google.com/github/nyunu/BaekJoon/blob/main/1149.ipynb\" target=\"_parent\"><img src=\"https://colab.research.google.com/assets/colab-badge.svg\" alt=\"Open In Colab\"/></a>"
      ]
    },
    {
      "cell_type": "code",
      "execution_count": 2,
      "metadata": {
        "colab": {
          "base_uri": "https://localhost:8080/"
        },
        "id": "PwEmJ5-Vsskx",
        "outputId": "60067944-7915-4068-e016-d8f1309b8935"
      },
      "outputs": [
        {
          "output_type": "stream",
          "name": "stdout",
          "text": [
            "6\n",
            "30 19 5\n",
            "64 77 64\n",
            "15 19 97\n",
            "4 71 57\n",
            "90 86 84\n",
            "93 32 91\n",
            "208\n"
          ]
        }
      ],
      "source": [
        "n = int(input())\n",
        "rgb_lst = [list(map(int, input().split())) for _ in range(n)]\n",
        "dp = [[0, 0, 0] for _ in range(n)]\n",
        "\n",
        "dp[0][0], dp[0][1], dp[0][2] = rgb_lst[0][0], rgb_lst[0][1], rgb_lst[0][2]\n",
        "\n",
        "for i in range(1, n):\n",
        "  dp[i][0] = min(dp[i - 1][1] + rgb_lst[i][0], dp[i - 1][2] + rgb_lst[i][0])\n",
        "  dp[i][1] = min(dp[i - 1][0] + rgb_lst[i][1], dp[i - 1][2] + rgb_lst[i][1])\n",
        "  dp[i][2] = min(dp[i - 1][0] + rgb_lst[i][2], dp[i - 1][1] + rgb_lst[i][2])\n",
        "\n",
        "print(min(dp[n - 1]))"
      ]
    }
  ]
}