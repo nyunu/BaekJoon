{
  "nbformat": 4,
  "nbformat_minor": 0,
  "metadata": {
    "colab": {
      "provenance": [],
      "authorship_tag": "ABX9TyM4edNBykHk5j4TMq0fdQdM",
      "include_colab_link": true
    },
    "kernelspec": {
      "name": "python3",
      "display_name": "Python 3"
    },
    "language_info": {
      "name": "python"
    }
  },
  "cells": [
    {
      "cell_type": "markdown",
      "metadata": {
        "id": "view-in-github",
        "colab_type": "text"
      },
      "source": [
        "<a href=\"https://colab.research.google.com/github/nyunu/BaekJoon/blob/main/%EB%A1%A4%EC%BC%80%EC%9D%B4%ED%81%AC_%EC%9E%90%EB%A5%B4%EA%B8%B0.ipynb\" target=\"_parent\"><img src=\"https://colab.research.google.com/assets/colab-badge.svg\" alt=\"Open In Colab\"/></a>"
      ]
    },
    {
      "cell_type": "code",
      "execution_count": null,
      "metadata": {
        "id": "cOJeOeN_3hbB"
      },
      "outputs": [],
      "source": [
        "from collections import Counter\n",
        "\n",
        "def solution(topping):\n",
        "    top = Counter(topping)\n",
        "    bro = set()\n",
        "    answer = 0\n",
        "    for i in topping:\n",
        "        if i not in bro:\n",
        "            bro.add(i)\n",
        "        top[i] -= 1\n",
        "        if top[i] == 0:\n",
        "            top.pop(i)\n",
        "        if len(bro) == len(top.keys()):\n",
        "            answer += 1\n",
        "    return answer"
      ]
    }
  ]
}