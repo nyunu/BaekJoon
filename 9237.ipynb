{
  "nbformat": 4,
  "nbformat_minor": 0,
  "metadata": {
    "colab": {
      "provenance": [],
      "authorship_tag": "ABX9TyMGdkMsuvBPqOr8onyfY5HG",
      "include_colab_link": true
    },
    "kernelspec": {
      "name": "python3",
      "display_name": "Python 3"
    },
    "language_info": {
      "name": "python"
    }
  },
  "cells": [
    {
      "cell_type": "markdown",
      "metadata": {
        "id": "view-in-github",
        "colab_type": "text"
      },
      "source": [
        "<a href=\"https://colab.research.google.com/github/nyunu/BaekJoon/blob/main/9237.ipynb\" target=\"_parent\"><img src=\"https://colab.research.google.com/assets/colab-badge.svg\" alt=\"Open In Colab\"/></a>"
      ]
    },
    {
      "cell_type": "code",
      "source": [
        "n = int(input())\n",
        "tree = list(map(int, input().split()))\n",
        "tree.sort(reverse = True)\n",
        "answer = tree[0]\n",
        "\n",
        "for i in range(1, n):\n",
        "  if i + tree[i] > answer:\n",
        "    answer = i + tree[i]\n",
        "\n",
        "print(answer + 2)"
      ],
      "metadata": {
        "colab": {
          "base_uri": "https://localhost:8080/"
        },
        "id": "mED1yVJrloo4",
        "outputId": "6831c9b8-116b-44f5-be0e-5c2b24adcca5"
      },
      "execution_count": 21,
      "outputs": [
        {
          "output_type": "stream",
          "name": "stdout",
          "text": [
            "6\n",
            "39 38 9 35 39 20\n",
            "42\n"
          ]
        }
      ]
    }
  ]
}