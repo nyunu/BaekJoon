{
  "nbformat": 4,
  "nbformat_minor": 0,
  "metadata": {
    "colab": {
      "provenance": [],
      "authorship_tag": "ABX9TyNRM/R8ZspjCs+XQfmfGiy+",
      "include_colab_link": true
    },
    "kernelspec": {
      "name": "python3",
      "display_name": "Python 3"
    },
    "language_info": {
      "name": "python"
    }
  },
  "cells": [
    {
      "cell_type": "markdown",
      "metadata": {
        "id": "view-in-github",
        "colab_type": "text"
      },
      "source": [
        "<a href=\"https://colab.research.google.com/github/nyunu/BaekJoon/blob/main/2752.ipynb\" target=\"_parent\"><img src=\"https://colab.research.google.com/assets/colab-badge.svg\" alt=\"Open In Colab\"/></a>"
      ]
    },
    {
      "cell_type": "code",
      "execution_count": 8,
      "metadata": {
        "colab": {
          "base_uri": "https://localhost:8080/"
        },
        "id": "zIj1VvL7ArTZ",
        "outputId": "fdcef145-b5bf-4d2f-9995-bec6de5ee827"
      },
      "outputs": [
        {
          "output_type": "stream",
          "name": "stdout",
          "text": [
            "3 1 2\n",
            "1 2 3 "
          ]
        }
      ],
      "source": [
        "lst = sorted(list(map(int, input().split())))\n",
        "for i in lst:\n",
        "  print(i, end = ' ')"
      ]
    }
  ]
}