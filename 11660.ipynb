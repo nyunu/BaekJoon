{
  "nbformat": 4,
  "nbformat_minor": 0,
  "metadata": {
    "colab": {
      "provenance": [],
      "authorship_tag": "ABX9TyPoXgOUIT5gMdxE0EwOT3jE",
      "include_colab_link": true
    },
    "kernelspec": {
      "name": "python3",
      "display_name": "Python 3"
    },
    "language_info": {
      "name": "python"
    }
  },
  "cells": [
    {
      "cell_type": "markdown",
      "metadata": {
        "id": "view-in-github",
        "colab_type": "text"
      },
      "source": [
        "<a href=\"https://colab.research.google.com/github/nyunu/BaekJoon/blob/main/11660.ipynb\" target=\"_parent\"><img src=\"https://colab.research.google.com/assets/colab-badge.svg\" alt=\"Open In Colab\"/></a>"
      ]
    },
    {
      "cell_type": "markdown",
      "source": [
        "### 정답 : 누적합 구하는 공식이 키였다 !"
      ],
      "metadata": {
        "id": "pD0Po081IP6C"
      }
    },
    {
      "cell_type": "code",
      "source": [
        "import sys\n",
        "input = sys.stdin.readline\n",
        "\n",
        "n, m = map(int, input().split())\n",
        "arr = [[0 for _ in range(n + 1)]] + [[0] + list(map(int, input().split())) for _ in range(n)]\n",
        "dp = [[0] * (n + 1) for _ in range(n + 1)]\n",
        "\n",
        "for i in range(1, n + 1):\n",
        "  for j in range(1, n + 1):\n",
        "    dp[i][j] = dp[i - 1][j] + dp[i][j - 1] - dp[i - 1][j - 1] + arr[i][j]\n",
        "\n",
        "for _ in range(m):\n",
        "  x1, y1, x2, y2 = map(int, input().split())\n",
        "  print(dp[x2][y2] - dp[x1 - 1][y2] - dp[x2][y1 - 1] + dp[x1 - 1][y1 - 1])"
      ],
      "metadata": {
        "colab": {
          "base_uri": "https://localhost:8080/"
        },
        "id": "uGGZF1LuF6kX",
        "outputId": "cf8ade03-c7d9-4339-8eb6-7c55ed8ecd20"
      },
      "execution_count": 70,
      "outputs": [
        {
          "output_type": "stream",
          "name": "stdout",
          "text": [
            "4 3\n",
            "1 2 3 4\n",
            "2 3 4 5\n",
            "3 4 5 6\n",
            "4 5 6 7\n",
            "2 2 3 4\n",
            "27\n",
            "3 4 3 4\n",
            "6\n",
            "1 1 4 4\n",
            "64\n"
          ]
        }
      ]
    },
    {
      "cell_type": "markdown",
      "source": [
        "### 시간초과 1"
      ],
      "metadata": {
        "id": "_Nq9vLqnISW4"
      }
    },
    {
      "cell_type": "code",
      "source": [
        "import sys\n",
        "input = sys.stdin.readline\n",
        "\n",
        "n, m = map(int, input().split())\n",
        "arr = [[0 for _ in range(n + 1)]] + [[0] + list(map(int, input().split())) for _ in range(n)]\n",
        "coord = [list(map(int, input().split())) for _ in range(m)]\n",
        "\n",
        "for i in coord:\n",
        "  answer = 0\n",
        "  for j in arr[i[0] : i[2] + 1]:\n",
        "    answer += sum(j[i[1] : i[3] + 1])\n",
        "  print(answer)"
      ],
      "metadata": {
        "colab": {
          "base_uri": "https://localhost:8080/"
        },
        "id": "CKLRmWcE4aTX",
        "outputId": "cb263566-3e0a-4311-f1c2-1fc9351e95bf"
      },
      "execution_count": 32,
      "outputs": [
        {
          "output_type": "stream",
          "name": "stdout",
          "text": [
            "4 3\n",
            "1 2 3 4\n",
            "2 3 4 5\n",
            "3 4 5 6\n",
            "4 5 6 7\n",
            "2 2 3 4\n",
            "3 4 3 4\n",
            "1 1 4 4\n",
            "27\n",
            "6\n",
            "64\n"
          ]
        }
      ]
    },
    {
      "cell_type": "markdown",
      "source": [
        "### 시간초과 2"
      ],
      "metadata": {
        "id": "kdvVXU68IWSW"
      }
    },
    {
      "cell_type": "code",
      "source": [
        "import sys\n",
        "input = sys.stdin.readline\n",
        "\n",
        "n, m = map(int, input().split())\n",
        "arr = [[0 for _ in range(n + 1)]] + [[0] + list(map(int, input().split())) for _ in range(n)]\n",
        "coord = [list(map(int, input().split())) for _ in range(m)]\n",
        "\n",
        "for i in range(1, n + 1):\n",
        "  for j in range(1, n + 1):\n",
        "    arr[i][j] = arr[i][j] + arr[i][j - 1]\n",
        "\n",
        "for i in coord:\n",
        "  answer = 0\n",
        "  for j in range(i[0], i[2] + 1):\n",
        "    answer += arr[j][i[3]] - arr[j][i[1] - 1]\n",
        "  print(answer)"
      ],
      "metadata": {
        "colab": {
          "base_uri": "https://localhost:8080/"
        },
        "id": "kH5ly2Qc_P9K",
        "outputId": "de638d7d-9b17-4d17-d7de-85c59603f260"
      },
      "execution_count": 58,
      "outputs": [
        {
          "name": "stdout",
          "output_type": "stream",
          "text": [
            "4 3\n",
            "1 2 3 4\n",
            "2 3 4 5\n",
            "3 4 5 6\n",
            "4 5 6 7\n",
            "2 2 3 4\n",
            "3 4 3 4\n",
            "1 1 4 4\n"
          ]
        }
      ]
    }
  ]
}