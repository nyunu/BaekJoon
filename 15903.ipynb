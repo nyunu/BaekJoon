{
  "nbformat": 4,
  "nbformat_minor": 0,
  "metadata": {
    "colab": {
      "provenance": [],
      "authorship_tag": "ABX9TyOVfAueTrpwTYQOcgNQ5DYq",
      "include_colab_link": true
    },
    "kernelspec": {
      "name": "python3",
      "display_name": "Python 3"
    },
    "language_info": {
      "name": "python"
    }
  },
  "cells": [
    {
      "cell_type": "markdown",
      "metadata": {
        "id": "view-in-github",
        "colab_type": "text"
      },
      "source": [
        "<a href=\"https://colab.research.google.com/github/nyunu/BaekJoon/blob/main/15903.ipynb\" target=\"_parent\"><img src=\"https://colab.research.google.com/assets/colab-badge.svg\" alt=\"Open In Colab\"/></a>"
      ]
    },
    {
      "cell_type": "markdown",
      "source": [
        "* 기본풀이"
      ],
      "metadata": {
        "id": "oUpRNbRCY4zH"
      }
    },
    {
      "cell_type": "code",
      "execution_count": 2,
      "metadata": {
        "colab": {
          "base_uri": "https://localhost:8080/"
        },
        "id": "NysD4aPRPoVm",
        "outputId": "8f1db1dc-9b73-4a85-fb99-4973dc676f62"
      },
      "outputs": [
        {
          "output_type": "stream",
          "name": "stdout",
          "text": [
            "3 1\n",
            "3 2 6\n",
            "16\n"
          ]
        }
      ],
      "source": [
        "n,m = map(int, input().split())\n",
        "lst = list(map(int, input().split()))\n",
        "\n",
        "for i in range(m):\n",
        "  lst.sort()\n",
        "  lst[0] = lst[1] = lst[0] + lst[1]\n",
        "\n",
        "print(sum(lst))"
      ]
    },
    {
      "cell_type": "markdown",
      "source": [
        "* 우선순위 큐 사용 풀이"
      ],
      "metadata": {
        "id": "j2g9z06eY6ft"
      }
    },
    {
      "cell_type": "code",
      "source": [
        "import heapq\n",
        "n,m = map(int, input().split())\n",
        "heap = list(map(int, input().split()))\n",
        "heapq.heapify(heap)\n",
        "\n",
        "for i in range(m):\n",
        "  min_1 = heapq.heappop(heap)\n",
        "  min_2 = heapq.heappop(heap)\n",
        "\n",
        "  min_val = min_1 + min_2\n",
        "\n",
        "  heapq.heappush(heap, min_val)\n",
        "  heapq.heappush(heap, min_val)\n",
        "\n",
        "print(sum(heap))"
      ],
      "metadata": {
        "colab": {
          "base_uri": "https://localhost:8080/"
        },
        "id": "vRdkp2RLXyLh",
        "outputId": "2c1cd1ef-45af-44d5-fc1e-4400850b73b9"
      },
      "execution_count": 6,
      "outputs": [
        {
          "output_type": "stream",
          "name": "stdout",
          "text": [
            "3 1\n",
            "3 2 6\n",
            "16\n"
          ]
        }
      ]
    }
  ]
}