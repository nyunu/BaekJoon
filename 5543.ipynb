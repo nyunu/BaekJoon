{
  "nbformat": 4,
  "nbformat_minor": 0,
  "metadata": {
    "colab": {
      "provenance": [],
      "authorship_tag": "ABX9TyOpYeptNBAe3GQ8MpgO+UOB",
      "include_colab_link": true
    },
    "kernelspec": {
      "name": "python3",
      "display_name": "Python 3"
    },
    "language_info": {
      "name": "python"
    }
  },
  "cells": [
    {
      "cell_type": "markdown",
      "metadata": {
        "id": "view-in-github",
        "colab_type": "text"
      },
      "source": [
        "<a href=\"https://colab.research.google.com/github/nyunu/BaekJoon/blob/main/5543.ipynb\" target=\"_parent\"><img src=\"https://colab.research.google.com/assets/colab-badge.svg\" alt=\"Open In Colab\"/></a>"
      ]
    },
    {
      "cell_type": "code",
      "source": [
        "b1 = int(input())\n",
        "b2 = int(input())\n",
        "b3 = int(input())\n",
        "cola = int(input())\n",
        "cider = int(input())\n",
        "\n",
        "print(min([b1, b2, b3]) + min([cola, cider]) - 50)"
      ],
      "metadata": {
        "colab": {
          "base_uri": "https://localhost:8080/"
        },
        "id": "maZRWb_X0aQ8",
        "outputId": "cdb66a06-3fae-4d35-a178-85e99f558237"
      },
      "execution_count": 34,
      "outputs": [
        {
          "output_type": "stream",
          "name": "stdout",
          "text": [
            "800\n",
            "700\n",
            "900\n",
            "198\n",
            "330\n",
            "848\n"
          ]
        }
      ]
    }
  ]
}