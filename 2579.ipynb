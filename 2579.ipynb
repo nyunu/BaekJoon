{
  "nbformat": 4,
  "nbformat_minor": 0,
  "metadata": {
    "colab": {
      "provenance": [],
      "authorship_tag": "ABX9TyOVQp7mog+0St/PCj5QO8Iq",
      "include_colab_link": true
    },
    "kernelspec": {
      "name": "python3",
      "display_name": "Python 3"
    },
    "language_info": {
      "name": "python"
    }
  },
  "cells": [
    {
      "cell_type": "markdown",
      "metadata": {
        "id": "view-in-github",
        "colab_type": "text"
      },
      "source": [
        "<a href=\"https://colab.research.google.com/github/nyunu/BaekJoon/blob/main/2579.ipynb\" target=\"_parent\"><img src=\"https://colab.research.google.com/assets/colab-badge.svg\" alt=\"Open In Colab\"/></a>"
      ]
    },
    {
      "cell_type": "code",
      "source": [
        "n = int(input())\n",
        "stair = [0] * 301\n",
        "\n",
        "for i in range(n):\n",
        "  stair[i] = int(input())\n",
        "\n",
        "dp = [0] * 301\n",
        "dp[0] = stair[0]\n",
        "dp[1] = stair[0] + stair[1]\n",
        "dp[2] = max(stair[0] + stair[2], stair[1] + stair[2])\n",
        "\n",
        "for i in range(3, n):\n",
        "  dp[i] = max(dp[i-3] + stair[i-1] + stair[i], dp[i-2] + stair[i])\n",
        "\n",
        "print(dp[n-1])"
      ],
      "metadata": {
        "colab": {
          "base_uri": "https://localhost:8080/"
        },
        "id": "0S5lVWdo4miP",
        "outputId": "b0c8a6e9-d710-4abf-9f00-8b3c7cdd074d"
      },
      "execution_count": 3,
      "outputs": [
        {
          "output_type": "stream",
          "name": "stdout",
          "text": [
            "6\n",
            "10\n",
            "20\n",
            "15\n",
            "25\n",
            "10\n",
            "20\n",
            "75\n"
          ]
        }
      ]
    }
  ]
}