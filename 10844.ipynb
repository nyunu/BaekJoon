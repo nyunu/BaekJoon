{
  "nbformat": 4,
  "nbformat_minor": 0,
  "metadata": {
    "colab": {
      "provenance": [],
      "authorship_tag": "ABX9TyOHE82mfeejQj7R3nz2MhJs",
      "include_colab_link": true
    },
    "kernelspec": {
      "name": "python3",
      "display_name": "Python 3"
    },
    "language_info": {
      "name": "python"
    }
  },
  "cells": [
    {
      "cell_type": "markdown",
      "metadata": {
        "id": "view-in-github",
        "colab_type": "text"
      },
      "source": [
        "<a href=\"https://colab.research.google.com/github/nyunu/BaekJoon/blob/main/10844.ipynb\" target=\"_parent\"><img src=\"https://colab.research.google.com/assets/colab-badge.svg\" alt=\"Open In Colab\"/></a>"
      ]
    },
    {
      "cell_type": "code",
      "source": [
        "n = int(input())\n",
        "dp = [[0] * 10 for _ in range(n + 1)]\n",
        "dp[1] = [0, 1, 1, 1, 1, 1, 1, 1, 1, 1]\n",
        "\n",
        "for i in range(2, n + 1):\n",
        "  for j in range(10):\n",
        "    if j == 0:\n",
        "      dp[i][j] = dp[i - 1][1]\n",
        "    elif j == 9:\n",
        "      dp[i][j] = dp[i - 1][8]\n",
        "    else:\n",
        "      dp[i][j] = dp[i - 1][j - 1] + dp[i - 1][j + 1]\n",
        "\n",
        "print(sum(dp[n]) % 1000000000)"
      ],
      "metadata": {
        "id": "EAVpjSuBvEav",
        "colab": {
          "base_uri": "https://localhost:8080/"
        },
        "outputId": "33bc9918-aac8-43bd-b4ff-c79545532611"
      },
      "execution_count": 51,
      "outputs": [
        {
          "output_type": "stream",
          "name": "stdout",
          "text": [
            "2\n",
            "17\n"
          ]
        }
      ]
    }
  ]
}