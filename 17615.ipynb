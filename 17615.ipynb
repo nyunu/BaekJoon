{
  "nbformat": 4,
  "nbformat_minor": 0,
  "metadata": {
    "colab": {
      "provenance": [],
      "authorship_tag": "ABX9TyP7WVYeDjU1DXbJs6fDKmhT",
      "include_colab_link": true
    },
    "kernelspec": {
      "name": "python3",
      "display_name": "Python 3"
    },
    "language_info": {
      "name": "python"
    }
  },
  "cells": [
    {
      "cell_type": "markdown",
      "metadata": {
        "id": "view-in-github",
        "colab_type": "text"
      },
      "source": [
        "<a href=\"https://colab.research.google.com/github/nyunu/BaekJoon/blob/main/17615.ipynb\" target=\"_parent\"><img src=\"https://colab.research.google.com/assets/colab-badge.svg\" alt=\"Open In Colab\"/></a>"
      ]
    },
    {
      "cell_type": "code",
      "source": [
        "n = int(input())\n",
        "sen = input()\n",
        "\n",
        "def ball(word):\n",
        "  answer = []\n",
        "  cnt = 0\n",
        "  for i in range(n):\n",
        "    if sen[i] == word:\n",
        "      cnt += 1\n",
        "    else:\n",
        "      if cnt != 0:\n",
        "        answer.append(cnt)\n",
        "        cnt = 0\n",
        "  answer.append(cnt)\n",
        "  if answer[0] > answer[-1]:\n",
        "    return sum(answer[1:])\n",
        "  else:\n",
        "    return sum(answer[:-1])\n",
        "\n",
        "if sen[0] == sen[-1]:\n",
        "  if sen[0] == 'R':\n",
        "    alpha = 'B'\n",
        "  else: alpha = 'R'\n",
        "  print(min(ball(sen[0]), sen.count(alpha)))\n",
        "else:\n",
        "  print(min(ball('B'), ball('R')))"
      ],
      "metadata": {
        "id": "PjcZGY7fsR_Y",
        "colab": {
          "base_uri": "https://localhost:8080/"
        },
        "outputId": "2fe1cc78-202c-4ce8-feb8-14021f1f55d3"
      },
      "execution_count": 4,
      "outputs": [
        {
          "output_type": "stream",
          "name": "stdout",
          "text": [
            "9\n",
            "RBBBRBRRR\n",
            "2\n"
          ]
        }
      ]
    },
    {
      "cell_type": "code",
      "source": [
        "import sys\n",
        "\n",
        "N = int(sys.stdin.readline().strip())\n",
        "balls = str(sys.stdin.readline().strip())\n",
        "cnt = []\n",
        "\n",
        "# 우측으로 레드 모으기\n",
        "rexplore = balls.rstrip('R')\n",
        "cnt.append(rexplore.count('R'))\n",
        "\n",
        "# 우측으로 블루 모으기\n",
        "rexplore = balls.rstrip('B')\n",
        "cnt.append(rexplore.count('B'))\n",
        "\n",
        "# 좌측으로 레드 모으기\n",
        "lexplore = balls.lstrip('R')\n",
        "cnt.append(lexplore.count('R'))\n",
        "\n",
        "# 좌측으로 블루 모으기\n",
        "lexplore = balls.lstrip('B')\n",
        "cnt.append(lexplore.count('B'))\n",
        "\n",
        "print(min(cnt))"
      ],
      "metadata": {
        "id": "nz6b9S-O1BJy"
      },
      "execution_count": null,
      "outputs": []
    }
  ]
}