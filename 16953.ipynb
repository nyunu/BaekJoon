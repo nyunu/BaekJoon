{
  "nbformat": 4,
  "nbformat_minor": 0,
  "metadata": {
    "colab": {
      "provenance": [],
      "authorship_tag": "ABX9TyM2nlo1EpRo2g9ah1AYxL0F",
      "include_colab_link": true
    },
    "kernelspec": {
      "name": "python3",
      "display_name": "Python 3"
    },
    "language_info": {
      "name": "python"
    }
  },
  "cells": [
    {
      "cell_type": "markdown",
      "metadata": {
        "id": "view-in-github",
        "colab_type": "text"
      },
      "source": [
        "<a href=\"https://colab.research.google.com/github/nyunu/BaekJoon/blob/main/16953.ipynb\" target=\"_parent\"><img src=\"https://colab.research.google.com/assets/colab-badge.svg\" alt=\"Open In Colab\"/></a>"
      ]
    },
    {
      "cell_type": "code",
      "source": [
        "a, b = map(int, input().split())\n",
        "result = [b]\n",
        "\n",
        "while True:\n",
        "  if b % 2 == 0:\n",
        "    b //= 2\n",
        "    result.append(b)\n",
        "  elif b % 10 == 1:\n",
        "    b //= 10\n",
        "    result.append(b)\n",
        "  else:\n",
        "    print(-1)\n",
        "    break;\n",
        "\n",
        "  if b == 1 or b <= a:\n",
        "    if a in result:\n",
        "      print(len(result[:result.index(a) + 1]))\n",
        "      break;\n",
        "    else:\n",
        "      print(-1)\n",
        "      break;"
      ],
      "metadata": {
        "colab": {
          "base_uri": "https://localhost:8080/"
        },
        "id": "73ZGFBgfxpHA",
        "outputId": "fcb7363f-a802-4c69-cf2c-044775926c9a"
      },
      "execution_count": 30,
      "outputs": [
        {
          "output_type": "stream",
          "name": "stdout",
          "text": [
            "10 20\n",
            "2\n"
          ]
        }
      ]
    }
  ]
}