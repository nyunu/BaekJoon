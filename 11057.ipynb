{
  "nbformat": 4,
  "nbformat_minor": 0,
  "metadata": {
    "colab": {
      "provenance": [],
      "authorship_tag": "ABX9TyOY/kXyhbyiVQenbw4MoEe4",
      "include_colab_link": true
    },
    "kernelspec": {
      "name": "python3",
      "display_name": "Python 3"
    },
    "language_info": {
      "name": "python"
    }
  },
  "cells": [
    {
      "cell_type": "markdown",
      "metadata": {
        "id": "view-in-github",
        "colab_type": "text"
      },
      "source": [
        "<a href=\"https://colab.research.google.com/github/nyunu/BaekJoon/blob/main/11057.ipynb\" target=\"_parent\"><img src=\"https://colab.research.google.com/assets/colab-badge.svg\" alt=\"Open In Colab\"/></a>"
      ]
    },
    {
      "cell_type": "code",
      "source": [
        "n = int(input())\n",
        "dp = [1] * 10\n",
        "\n",
        "for i in range(n - 1):\n",
        "  for j in range(1, 10):\n",
        "    dp[j] += dp[j - 1]\n",
        "\n",
        "print(sum(dp) % 10007)"
      ],
      "metadata": {
        "id": "6dRAYb5EGBcn",
        "colab": {
          "base_uri": "https://localhost:8080/"
        },
        "outputId": "e536de79-21a0-44ca-e398-ce5fb0be224a"
      },
      "execution_count": 6,
      "outputs": [
        {
          "output_type": "stream",
          "name": "stdout",
          "text": [
            "10\n",
            "2315\n"
          ]
        }
      ]
    }
  ]
}