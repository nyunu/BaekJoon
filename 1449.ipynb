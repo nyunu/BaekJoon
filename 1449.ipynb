{
  "nbformat": 4,
  "nbformat_minor": 0,
  "metadata": {
    "colab": {
      "provenance": [],
      "authorship_tag": "ABX9TyMA2fSOuhiOp6eg9EIlJMjG",
      "include_colab_link": true
    },
    "kernelspec": {
      "name": "python3",
      "display_name": "Python 3"
    },
    "language_info": {
      "name": "python"
    }
  },
  "cells": [
    {
      "cell_type": "markdown",
      "metadata": {
        "id": "view-in-github",
        "colab_type": "text"
      },
      "source": [
        "<a href=\"https://colab.research.google.com/github/nyunu/BaekJoon/blob/main/1449.ipynb\" target=\"_parent\"><img src=\"https://colab.research.google.com/assets/colab-badge.svg\" alt=\"Open In Colab\"/></a>"
      ]
    },
    {
      "cell_type": "code",
      "execution_count": 26,
      "metadata": {
        "colab": {
          "base_uri": "https://localhost:8080/"
        },
        "id": "Wl65CASlStHz",
        "outputId": "3c19b5a4-69e9-41aa-a1f6-503285e7d896"
      },
      "outputs": [
        {
          "output_type": "stream",
          "name": "stdout",
          "text": [
            "3 1\n",
            "3 2 1\n",
            "3\n"
          ]
        }
      ],
      "source": [
        "cnt = 1\n",
        "lenn = 0\n",
        "\n",
        "n, l = map(int, input().split())\n",
        "loc = list(map(int, input().split()))\n",
        "loc.sort(reverse = True)\n",
        "\n",
        "for i in range(n - 1):\n",
        "  dist = loc[i] - loc[i + 1]\n",
        "  if lenn + dist <= (l - 1):\n",
        "    lenn += dist\n",
        "  else:\n",
        "    cnt += 1\n",
        "    lenn = 0\n",
        "\n",
        "print(cnt)"
      ]
    }
  ]
}