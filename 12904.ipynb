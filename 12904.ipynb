{
  "nbformat": 4,
  "nbformat_minor": 0,
  "metadata": {
    "colab": {
      "provenance": [],
      "authorship_tag": "ABX9TyPzlmmzcmBBlikaL/5UPFx+",
      "include_colab_link": true
    },
    "kernelspec": {
      "name": "python3",
      "display_name": "Python 3"
    },
    "language_info": {
      "name": "python"
    }
  },
  "cells": [
    {
      "cell_type": "markdown",
      "metadata": {
        "id": "view-in-github",
        "colab_type": "text"
      },
      "source": [
        "<a href=\"https://colab.research.google.com/github/nyunu/BaekJoon/blob/main/12904.ipynb\" target=\"_parent\"><img src=\"https://colab.research.google.com/assets/colab-badge.svg\" alt=\"Open In Colab\"/></a>"
      ]
    },
    {
      "cell_type": "code",
      "source": [
        "s = input()\n",
        "t = input()\n",
        "\n",
        "while True:\n",
        "  if t[-1] == 'A':\n",
        "    t = t[:-1]\n",
        "  else:\n",
        "    t = t[:-1][::-1]\n",
        "\n",
        "  if len(t) == len(s):\n",
        "    if t == s:\n",
        "      print(1)\n",
        "    else:\n",
        "      print(0)\n",
        "    break"
      ],
      "metadata": {
        "colab": {
          "base_uri": "https://localhost:8080/"
        },
        "id": "o28IsKVAEyIW",
        "outputId": "7bee4a84-8a01-447a-dc36-0bb8a12b6224"
      },
      "execution_count": 45,
      "outputs": [
        {
          "output_type": "stream",
          "name": "stdout",
          "text": [
            "AB\n",
            "ABB\n",
            "0\n"
          ]
        }
      ]
    }
  ]
}