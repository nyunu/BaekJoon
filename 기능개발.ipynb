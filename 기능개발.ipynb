{
  "nbformat": 4,
  "nbformat_minor": 0,
  "metadata": {
    "colab": {
      "provenance": [],
      "authorship_tag": "ABX9TyNV67eb5KdvOrAerC66hW18",
      "include_colab_link": true
    },
    "kernelspec": {
      "name": "python3",
      "display_name": "Python 3"
    },
    "language_info": {
      "name": "python"
    }
  },
  "cells": [
    {
      "cell_type": "markdown",
      "metadata": {
        "id": "view-in-github",
        "colab_type": "text"
      },
      "source": [
        "<a href=\"https://colab.research.google.com/github/nyunu/BaekJoon/blob/main/%EA%B8%B0%EB%8A%A5%EA%B0%9C%EB%B0%9C.ipynb\" target=\"_parent\"><img src=\"https://colab.research.google.com/assets/colab-badge.svg\" alt=\"Open In Colab\"/></a>"
      ]
    },
    {
      "cell_type": "code",
      "source": [
        "def solution(progresses, speeds):\n",
        "    answer = []\n",
        "    n = len(progresses)\n",
        "    idx = 0\n",
        "    while idx < n:\n",
        "        if (100 - progresses[idx]) % speeds[idx] == 0:\n",
        "            cnt = (100 - progresses[idx]) // speeds[idx]\n",
        "        else:\n",
        "            cnt = (100 - progresses[idx]) // speeds[idx] + 1\n",
        "        idx += 1\n",
        "        val = 1\n",
        "        for j in range(idx, n):\n",
        "            if speeds[j] * cnt + progresses[j] >= 100:\n",
        "                idx = j + 1\n",
        "                val += 1\n",
        "            else:\n",
        "                break\n",
        "        answer.append(val)\n",
        "\n",
        "    return answer\n",
        "\n",
        "solution([93, 30, 55], [1, 30, 5])"
      ],
      "metadata": {
        "colab": {
          "base_uri": "https://localhost:8080/"
        },
        "id": "kT6f_65nedZF",
        "outputId": "d25683e9-57af-4ea0-898d-3ae3db005a96"
      },
      "execution_count": 1,
      "outputs": [
        {
          "output_type": "execute_result",
          "data": {
            "text/plain": [
              "[2, 1]"
            ]
          },
          "metadata": {},
          "execution_count": 1
        }
      ]
    },
    {
      "cell_type": "code",
      "source": [
        "def solution(progresses, speeds):\n",
        "    answer = []\n",
        "    n = len(progresses)\n",
        "    idx = 0\n",
        "    time = 0\n",
        "    count = 0\n",
        "\n",
        "    while idx < n:\n",
        "        if (progresses[idx] + time * speeds[idx]) >= 100:\n",
        "            idx += 1\n",
        "            count += 1\n",
        "        else:\n",
        "            if count > 0:\n",
        "                answer.append(count)\n",
        "                count = 0\n",
        "            time += 1\n",
        "    answer.append(count)\n",
        "\n",
        "    return answer\n",
        "\n",
        "solution([93, 30, 55], [1, 30, 5])"
      ],
      "metadata": {
        "colab": {
          "base_uri": "https://localhost:8080/"
        },
        "id": "-TBQMTOq2E8M",
        "outputId": "07fe3540-5e6a-4aa6-d9df-e6cfd593d664"
      },
      "execution_count": 2,
      "outputs": [
        {
          "output_type": "execute_result",
          "data": {
            "text/plain": [
              "[2, 1]"
            ]
          },
          "metadata": {},
          "execution_count": 2
        }
      ]
    }
  ]
}