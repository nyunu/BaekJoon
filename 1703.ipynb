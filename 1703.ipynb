{
  "nbformat": 4,
  "nbformat_minor": 0,
  "metadata": {
    "colab": {
      "provenance": [],
      "authorship_tag": "ABX9TyML2M1QVQVAYs0OM6Uo1vaa",
      "include_colab_link": true
    },
    "kernelspec": {
      "name": "python3",
      "display_name": "Python 3"
    },
    "language_info": {
      "name": "python"
    }
  },
  "cells": [
    {
      "cell_type": "markdown",
      "metadata": {
        "id": "view-in-github",
        "colab_type": "text"
      },
      "source": [
        "<a href=\"https://colab.research.google.com/github/nyunu/BaekJoon/blob/main/1703.ipynb\" target=\"_parent\"><img src=\"https://colab.research.google.com/assets/colab-badge.svg\" alt=\"Open In Colab\"/></a>"
      ]
    },
    {
      "cell_type": "code",
      "source": [
        "while True:\n",
        "  a = list(map(int, input().split()))\n",
        "  total = 1\n",
        "\n",
        "  if a == [0] :\n",
        "    break;\n",
        "\n",
        "  for i in range(a[0]):\n",
        "    i = 2 * i  + 1\n",
        "    total = ( total * a[i] ) - a[i + 1]\n",
        "  \n",
        "  print(total)"
      ],
      "metadata": {
        "colab": {
          "base_uri": "https://localhost:8080/"
        },
        "id": "2LMxav7spqGA",
        "outputId": "612484e1-f011-4030-aaa0-ff2af7d78503"
      },
      "execution_count": 4,
      "outputs": [
        {
          "name": "stdout",
          "output_type": "stream",
          "text": [
            "1 3 0\n",
            "3\n",
            "2 3 0 2 0\n",
            "6\n",
            "3 3 0 2 0 2 0\n",
            "12\n",
            "3 3 0 2 1 2 3\n",
            "7\n",
            "2 4 1 3 4\n",
            "5\n",
            "4 5 0 5 1 5 2 5 101\n",
            "489\n",
            "0\n"
          ]
        }
      ]
    }
  ]
}