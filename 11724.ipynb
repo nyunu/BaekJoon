{
  "nbformat": 4,
  "nbformat_minor": 0,
  "metadata": {
    "colab": {
      "provenance": [],
      "authorship_tag": "ABX9TyOZq6vMmIi7WyyKZb5iPt70",
      "include_colab_link": true
    },
    "kernelspec": {
      "name": "python3",
      "display_name": "Python 3"
    },
    "language_info": {
      "name": "python"
    }
  },
  "cells": [
    {
      "cell_type": "markdown",
      "metadata": {
        "id": "view-in-github",
        "colab_type": "text"
      },
      "source": [
        "<a href=\"https://colab.research.google.com/github/nyunu/BaekJoon/blob/main/11724.ipynb\" target=\"_parent\"><img src=\"https://colab.research.google.com/assets/colab-badge.svg\" alt=\"Open In Colab\"/></a>"
      ]
    },
    {
      "cell_type": "markdown",
      "source": [
        "### **DFS**"
      ],
      "metadata": {
        "id": "MHAZGIkoNgeg"
      }
    },
    {
      "cell_type": "code",
      "source": [
        "import sys\n",
        "\n",
        "#input = sys.stdin.readline\n",
        "n, m = map(int, input().split())\n",
        "\n",
        "graph = [[] for i in range(n + 1)]\n",
        "\n",
        "for _ in range(m):\n",
        "  a, b = map(int, input().split())\n",
        "  graph[a].append(b)\n",
        "  graph[b].append(a)\n",
        "\n",
        "visited = [False] * (1 + n)\n",
        "\n",
        "def dfs(start, depth):\n",
        "    visited[start] = True\n",
        "    for i in graph[start]:\n",
        "        if not visited[i]:\n",
        "            dfs(i, depth + 1)\n",
        "\n",
        "cnt = 0\n",
        "for i in range(1, n + 1):\n",
        "    if not visited[i]:\n",
        "        if not graph[i]:\n",
        "            cnt += 1\n",
        "            visited[i] = True\n",
        "        else:\n",
        "            dfs(i, 0)\n",
        "            cnt += 1\n",
        "\n",
        "print(cnt)"
      ],
      "metadata": {
        "id": "_VBgAuFv_sxy",
        "colab": {
          "base_uri": "https://localhost:8080/"
        },
        "outputId": "386f1739-3807-4c51-ccc7-41ab1f04d158"
      },
      "execution_count": 3,
      "outputs": [
        {
          "output_type": "stream",
          "name": "stdout",
          "text": [
            "6 8\n",
            "1 2\n",
            "2 5\n",
            "5 1\n",
            "3 4\n",
            "4 6\n",
            "5 4\n",
            "2 4\n",
            "2 3\n",
            "1\n"
          ]
        }
      ]
    },
    {
      "cell_type": "markdown",
      "source": [
        "### **BFS**"
      ],
      "metadata": {
        "id": "60z50qqFNkS9"
      }
    },
    {
      "cell_type": "code",
      "source": [
        "from collections import deque\n",
        "import sys\n",
        "\n",
        "input = sys.stdin.readline\n",
        "n, m = map(int, input().split())\n",
        "\n",
        "graph = [[] for i in range(n + 1)]\n",
        "\n",
        "for _ in range(m):\n",
        "  a, b = map(int, input().split())\n",
        "  graph[a].append(b)\n",
        "  graph[b].append(a)\n",
        "\n",
        "visited = [False] * (1 + n)\n",
        "\n",
        "def bfs(node):\n",
        "  queue = deque([node])\n",
        "  visited[node] = True\n",
        "  while queue:\n",
        "    v = queue.popleft()\n",
        "    for i in graph[v]:\n",
        "      if not visited[i]:\n",
        "        queue.append(i)\n",
        "        visited[i] = True\n",
        "\n",
        "cnt = 0\n",
        "for i in range(1, n + 1):\n",
        "  if not visited[i]:\n",
        "    if not graph[i]:\n",
        "      cnt += 1\n",
        "      visited[i] = True\n",
        "    else:\n",
        "      bfs(i)\n",
        "      cnt += 1\n",
        "\n",
        "print(cnt)"
      ],
      "metadata": {
        "colab": {
          "base_uri": "https://localhost:8080/"
        },
        "id": "gANS9H1wL-Is",
        "outputId": "a387d960-aa88-4f2a-ed82-2719b1a32680"
      },
      "execution_count": 1,
      "outputs": [
        {
          "output_type": "stream",
          "name": "stdout",
          "text": [
            "6 8\n",
            "1 2\n",
            "2 5\n",
            "5 1\n",
            "3 4\n",
            "4 6\n",
            "5 4\n",
            "2 4\n",
            "2 3\n",
            "1\n"
          ]
        }
      ]
    }
  ]
}