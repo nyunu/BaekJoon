{
  "nbformat": 4,
  "nbformat_minor": 0,
  "metadata": {
    "colab": {
      "provenance": [],
      "authorship_tag": "ABX9TyNzPpc/i7ZiGf/NLrS5aMVi",
      "include_colab_link": true
    },
    "kernelspec": {
      "name": "python3",
      "display_name": "Python 3"
    },
    "language_info": {
      "name": "python"
    }
  },
  "cells": [
    {
      "cell_type": "markdown",
      "metadata": {
        "id": "view-in-github",
        "colab_type": "text"
      },
      "source": [
        "<a href=\"https://colab.research.google.com/github/nyunu/BaekJoon/blob/main/2667.ipynb\" target=\"_parent\"><img src=\"https://colab.research.google.com/assets/colab-badge.svg\" alt=\"Open In Colab\"/></a>"
      ]
    },
    {
      "cell_type": "code",
      "source": [
        "from collections import deque\n",
        "\n",
        "n = int(input())\n",
        "graph = []\n",
        "\n",
        "for _ in range(n):\n",
        "  graph.append(list(map(int, list(input()))))\n",
        "\n",
        "dx = [0, 0, 1, -1]\n",
        "dy = [1, -1, 0, 0]\n",
        "\n",
        "def bfs(x, y):\n",
        "  queue = deque()\n",
        "  queue.append((x, y))\n",
        "  graph[x][y] = 0\n",
        "  cnt = 0\n",
        "  while queue:\n",
        "    x, y = queue.popleft()\n",
        "    cnt += 1\n",
        "    for i in range(len(dx)):\n",
        "      nx = x + dx[i]\n",
        "      ny = y + dy[i]\n",
        "      if 0 <= nx < n and 0 <= ny < n and graph[nx][ny] == 1:\n",
        "        graph[nx][ny] = 0\n",
        "        queue.append((nx, ny))\n",
        "  return cnt\n",
        "\n",
        "result = []\n",
        "for i in range(n):\n",
        "  for j in range(n):\n",
        "    if graph[i][j] == 1:\n",
        "      val = bfs(i, j)\n",
        "      result.append(val)\n",
        "\n",
        "print(len(result))\n",
        "print(*sorted(result), sep = '\\n')"
      ],
      "metadata": {
        "colab": {
          "base_uri": "https://localhost:8080/"
        },
        "id": "58Gq5virzewe",
        "outputId": "ea982895-1810-497e-9dde-14bd24ea945e"
      },
      "execution_count": 120,
      "outputs": [
        {
          "output_type": "stream",
          "name": "stdout",
          "text": [
            "7\n",
            "0110100\n",
            "0110101\n",
            "1110101\n",
            "0000111\n",
            "0100000\n",
            "0111110\n",
            "0111000\n",
            "3\n",
            "7\n",
            "8\n",
            "9\n"
          ]
        }
      ]
    }
  ]
}