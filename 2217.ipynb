{
  "nbformat": 4,
  "nbformat_minor": 0,
  "metadata": {
    "colab": {
      "provenance": [],
      "authorship_tag": "ABX9TyNz1t6KR9jORl9Y3C6pQ8cs",
      "include_colab_link": true
    },
    "kernelspec": {
      "name": "python3",
      "display_name": "Python 3"
    },
    "language_info": {
      "name": "python"
    }
  },
  "cells": [
    {
      "cell_type": "markdown",
      "metadata": {
        "id": "view-in-github",
        "colab_type": "text"
      },
      "source": [
        "<a href=\"https://colab.research.google.com/github/nyunu/BaekJoon/blob/main/2217.ipynb\" target=\"_parent\"><img src=\"https://colab.research.google.com/assets/colab-badge.svg\" alt=\"Open In Colab\"/></a>"
      ]
    },
    {
      "cell_type": "code",
      "source": [
        "n = int(input())\n",
        "rope = []\n",
        "result = []\n",
        "\n",
        "for _ in range(n):\n",
        "  rope.append(int(input()))\n",
        "\n",
        "rope.sort()\n",
        "\n",
        "for i in range(len(rope)):\n",
        "  result.append(rope[i] * (len(rope) - i))\n",
        "\n",
        "print(max(result))"
      ],
      "metadata": {
        "id": "VQ0jQb5APyQ1"
      },
      "execution_count": null,
      "outputs": []
    },
    {
      "cell_type": "code",
      "source": [
        "n = int(input())\n",
        "rope = []\n",
        "maxx = 0\n",
        "\n",
        "for _ in range(n):\n",
        "  rope.append(int(input()))\n",
        "\n",
        "rope.sort()\n",
        "rope_num = len(rope)\n",
        "\n",
        "for i in range(rope_num):\n",
        "  result = rope[i] * (rope_num - i)\n",
        "  if maxx < result:\n",
        "    maxx = result\n",
        "\n",
        "print(maxx)"
      ],
      "metadata": {
        "colab": {
          "base_uri": "https://localhost:8080/"
        },
        "id": "TstNQXJcLqWN",
        "outputId": "3110ad94-fe2b-4bab-c49b-0967904aeb15"
      },
      "execution_count": null,
      "outputs": [
        {
          "output_type": "stream",
          "name": "stdout",
          "text": [
            "4\n",
            "10\n",
            "70\n",
            "30\n",
            "40\n",
            "90\n"
          ]
        }
      ]
    },
    {
      "cell_type": "code",
      "source": [
        "n = int(input())\n",
        "rope = []\n",
        "result = []\n",
        "\n",
        "for _ in range(n):\n",
        "  rope.append(int(input()))\n",
        "\n",
        "rope.sort()\n",
        "rope_num = len(rope)\n",
        "\n",
        "for i in range(rope_num):\n",
        "  result.append(rope[i] * (len(rope) - i))\n",
        "\n",
        "print(max(result))"
      ],
      "metadata": {
        "id": "DFWsKyzjQevV"
      },
      "execution_count": null,
      "outputs": []
    }
  ]
}