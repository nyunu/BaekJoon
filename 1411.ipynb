{
  "nbformat": 4,
  "nbformat_minor": 0,
  "metadata": {
    "colab": {
      "provenance": [],
      "authorship_tag": "ABX9TyON2RgsKXthzBAQVrgGKgYe",
      "include_colab_link": true
    },
    "kernelspec": {
      "name": "python3",
      "display_name": "Python 3"
    },
    "language_info": {
      "name": "python"
    }
  },
  "cells": [
    {
      "cell_type": "markdown",
      "metadata": {
        "id": "view-in-github",
        "colab_type": "text"
      },
      "source": [
        "<a href=\"https://colab.research.google.com/github/nyunu/BaekJoon/blob/main/1411.ipynb\" target=\"_parent\"><img src=\"https://colab.research.google.com/assets/colab-badge.svg\" alt=\"Open In Colab\"/></a>"
      ]
    },
    {
      "cell_type": "code",
      "source": [
        "n = int(input())\n",
        "word = []\n",
        "dic = dict()\n",
        "cnt = 0\n",
        "\n",
        "for _ in range(n):\n",
        "  word.append(input())\n",
        "\n",
        "word_len = len(word[0])\n",
        "\n",
        "for i in range(n - 1):\n",
        "  for j in range(i + 1, n):\n",
        "    dic = dict()\n",
        "    flag = 1\n",
        "    for k in range(word_len):\n",
        "      if word[i][k] not in dic.keys():\n",
        "        if word[j][k] not in dic.values():\n",
        "          dic[word[i][k]] = word[j][k]\n",
        "        else:\n",
        "          flag = 0\n",
        "          break;\n",
        "      else:\n",
        "        if word[j][k] != dic[word[i][k]]:\n",
        "          flag = 0\n",
        "          break;\n",
        "    if flag == 1:\n",
        "      cnt += 1\n",
        "\n",
        "print(cnt)"
      ],
      "metadata": {
        "colab": {
          "base_uri": "https://localhost:8080/"
        },
        "id": "0S5lVWdo4miP",
        "outputId": "852f117c-7712-4b14-8a75-cebcf6018af5"
      },
      "execution_count": 36,
      "outputs": [
        {
          "output_type": "stream",
          "name": "stdout",
          "text": [
            "3\n",
            "aa\n",
            "vv\n",
            "bb\n",
            "3\n"
          ]
        }
      ]
    }
  ]
}