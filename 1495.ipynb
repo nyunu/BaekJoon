{
  "nbformat": 4,
  "nbformat_minor": 0,
  "metadata": {
    "colab": {
      "provenance": [],
      "authorship_tag": "ABX9TyMD8AiEg2UR2MGu3Hbgnlyd",
      "include_colab_link": true
    },
    "kernelspec": {
      "name": "python3",
      "display_name": "Python 3"
    },
    "language_info": {
      "name": "python"
    }
  },
  "cells": [
    {
      "cell_type": "markdown",
      "metadata": {
        "id": "view-in-github",
        "colab_type": "text"
      },
      "source": [
        "<a href=\"https://colab.research.google.com/github/nyunu/BaekJoon/blob/main/1495.ipynb\" target=\"_parent\"><img src=\"https://colab.research.google.com/assets/colab-badge.svg\" alt=\"Open In Colab\"/></a>"
      ]
    },
    {
      "cell_type": "code",
      "source": [
        "n, s, m = map(int, input().split())\n",
        "vol = list(map(int, input().split()))\n",
        "dp = [s]\n",
        "\n",
        "for i in range(n):\n",
        "  volume = vol[i]\n",
        "  lst = []\n",
        "  for j in dp:\n",
        "    if j + volume <= m :\n",
        "      lst.append(j + volume)\n",
        "    if j - volume >= 0:\n",
        "      lst.append(j - volume)\n",
        "  if not lst:\n",
        "    print(-1)\n",
        "    break\n",
        "  dp = set(lst)\n",
        "else:\n",
        "  print(max(dp))"
      ],
      "metadata": {
        "colab": {
          "base_uri": "https://localhost:8080/"
        },
        "id": "MLrPVcuGytB5",
        "outputId": "6973e1be-d858-4942-f975-f7e30fd66646"
      },
      "execution_count": 30,
      "outputs": [
        {
          "output_type": "stream",
          "name": "stdout",
          "text": [
            "14 40 243\n",
            "74 39 127 95 63 140 99 96 154 18 137 162 14 88\n",
            "238\n"
          ]
        }
      ]
    }
  ]
}