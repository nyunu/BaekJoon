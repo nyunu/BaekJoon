{
  "nbformat": 4,
  "nbformat_minor": 0,
  "metadata": {
    "colab": {
      "provenance": [],
      "authorship_tag": "ABX9TyMUOLJKObpy0nvzR+RzTASm",
      "include_colab_link": true
    },
    "kernelspec": {
      "name": "python3",
      "display_name": "Python 3"
    },
    "language_info": {
      "name": "python"
    }
  },
  "cells": [
    {
      "cell_type": "markdown",
      "metadata": {
        "id": "view-in-github",
        "colab_type": "text"
      },
      "source": [
        "<a href=\"https://colab.research.google.com/github/nyunu/BaekJoon/blob/main/1966.ipynb\" target=\"_parent\"><img src=\"https://colab.research.google.com/assets/colab-badge.svg\" alt=\"Open In Colab\"/></a>"
      ]
    },
    {
      "cell_type": "code",
      "source": [
        "from collections import deque\n",
        "\n",
        "\n",
        "t = int(input())\n",
        "\n",
        "for _ in range(t):\n",
        "  n, m = map(int, input().split())\n",
        "  q = deque(list(map(int, input().split())))\n",
        "\n",
        "  answer = 0\n",
        "  maxx = max(q)\n",
        "\n",
        "  while q:\n",
        "    num = q.popleft()\n",
        "\n",
        "    if maxx == num:\n",
        "      if m == 0:\n",
        "        print(answer + 1)\n",
        "        break\n",
        "      answer += 1\n",
        "      maxx = max(q)\n",
        "    else:\n",
        "      q.append(num)\n",
        "\n",
        "    if m == 0:\n",
        "      m = len(q) - 1\n",
        "    else:\n",
        "      m -= 1"
      ],
      "metadata": {
        "colab": {
          "base_uri": "https://localhost:8080/"
        },
        "id": "CBE4XfnCr2Ww",
        "outputId": "75ba07c2-9401-47be-de55-361ca0a28671"
      },
      "execution_count": 34,
      "outputs": [
        {
          "output_type": "stream",
          "name": "stdout",
          "text": [
            "1\n",
            "6 0\n",
            "1 1 9 1 1 1\n",
            "5\n"
          ]
        }
      ]
    }
  ]
}