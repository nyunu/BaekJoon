{
  "nbformat": 4,
  "nbformat_minor": 0,
  "metadata": {
    "colab": {
      "provenance": [],
      "authorship_tag": "ABX9TyN1R7jlbR3knvgbf4UHzsay",
      "include_colab_link": true
    },
    "kernelspec": {
      "name": "python3",
      "display_name": "Python 3"
    },
    "language_info": {
      "name": "python"
    }
  },
  "cells": [
    {
      "cell_type": "markdown",
      "metadata": {
        "id": "view-in-github",
        "colab_type": "text"
      },
      "source": [
        "<a href=\"https://colab.research.google.com/github/nyunu/BaekJoon/blob/main/2302.ipynb\" target=\"_parent\"><img src=\"https://colab.research.google.com/assets/colab-badge.svg\" alt=\"Open In Colab\"/></a>"
      ]
    },
    {
      "cell_type": "code",
      "source": [
        "n = int(input())\n",
        "m = int(input())\n",
        "vip = [int(input()) for _ in range(m)]\n",
        "dp = [1] * 45\n",
        "dp[2] = 2\n",
        "\n",
        "for i in range(3, n + 1):\n",
        "  dp[i] = dp[i - 1] + dp[i - 2]\n",
        "\n",
        "if n < 2:\n",
        "  print(1)\n",
        "else:\n",
        "  ans = 1\n",
        "  srt = 1\n",
        "  for j in vip:\n",
        "    ans *= dp[j - srt]\n",
        "    srt = j + 1\n",
        "  print(ans * dp[n + 1 - srt])"
      ],
      "metadata": {
        "id": "5xWxUwehndcE"
      },
      "execution_count": null,
      "outputs": []
    }
  ]
}