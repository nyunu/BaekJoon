{
  "nbformat": 4,
  "nbformat_minor": 0,
  "metadata": {
    "colab": {
      "provenance": [],
      "authorship_tag": "ABX9TyO/3lzKdPUb3m5w5EPKODWo",
      "include_colab_link": true
    },
    "kernelspec": {
      "name": "python3",
      "display_name": "Python 3"
    },
    "language_info": {
      "name": "python"
    }
  },
  "cells": [
    {
      "cell_type": "markdown",
      "metadata": {
        "id": "view-in-github",
        "colab_type": "text"
      },
      "source": [
        "<a href=\"https://colab.research.google.com/github/nyunu/BaekJoon/blob/main/%EB%92%A4%EC%97%90_%EC%9E%88%EB%8A%94_%ED%81%B0_%EC%88%98_%EC%B0%BE%EA%B8%B0.ipynb\" target=\"_parent\"><img src=\"https://colab.research.google.com/assets/colab-badge.svg\" alt=\"Open In Colab\"/></a>"
      ]
    },
    {
      "cell_type": "code",
      "execution_count": null,
      "metadata": {
        "id": "cOJeOeN_3hbB"
      },
      "outputs": [],
      "source": [
        "def solution(numbers):\n",
        "    answer = [-1] * len(numbers)\n",
        "    stack = []\n",
        "\n",
        "    for i in range(len(numbers)):\n",
        "        while stack and numbers[stack[-1]] < numbers[i]:\n",
        "            answer[stack[-1]] = numbers[i]\n",
        "            stack.pop(-1)\n",
        "        stack.append(i)\n",
        "    return answer\n"
      ]
    }
  ]
}