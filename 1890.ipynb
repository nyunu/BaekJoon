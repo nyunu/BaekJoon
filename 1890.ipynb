{
  "nbformat": 4,
  "nbformat_minor": 0,
  "metadata": {
    "colab": {
      "provenance": [],
      "authorship_tag": "ABX9TyPTC5WgUFpAj21BBiusTAnZ",
      "include_colab_link": true
    },
    "kernelspec": {
      "name": "python3",
      "display_name": "Python 3"
    },
    "language_info": {
      "name": "python"
    }
  },
  "cells": [
    {
      "cell_type": "markdown",
      "metadata": {
        "id": "view-in-github",
        "colab_type": "text"
      },
      "source": [
        "<a href=\"https://colab.research.google.com/github/nyunu/BaekJoon/blob/main/1890.ipynb\" target=\"_parent\"><img src=\"https://colab.research.google.com/assets/colab-badge.svg\" alt=\"Open In Colab\"/></a>"
      ]
    },
    {
      "cell_type": "code",
      "source": [
        "n = int(input())\n",
        "jump = [list(map(int, input().split())) for _ in range(n)]\n",
        "dp = [[0] * n for _ in range(n)]\n",
        "dp[0][0] = 1\n",
        "\n",
        "for i in range(n):\n",
        "  for j in range(n):\n",
        "    if i == n - 1 and j == n - 1:\n",
        "      print(dp[i][j])\n",
        "      continue;\n",
        "\n",
        "    if j + jump[i][j] < n:\n",
        "      dp[i][j + jump[i][j]] += dp[i][j]\n",
        "    if i + jump[i][j] < n:\n",
        "      dp[i + jump[i][j]][j] += dp[i][j]"
      ],
      "metadata": {
        "colab": {
          "base_uri": "https://localhost:8080/"
        },
        "id": "yJ4BLhJEnKLc",
        "outputId": "eaec9e5a-d473-48ea-f93e-1d066ac233a5"
      },
      "execution_count": 34,
      "outputs": [
        {
          "output_type": "stream",
          "name": "stdout",
          "text": [
            "4\n",
            "2 3 3 1\n",
            "1 2 1 3\n",
            "1 2 3 1\n",
            "3 1 1 0\n",
            "3\n"
          ]
        }
      ]
    },
    {
      "cell_type": "markdown",
      "source": [
        "### BFS 풀이 : 시간초과"
      ],
      "metadata": {
        "id": "FyrNvclcnBNS"
      }
    },
    {
      "cell_type": "code",
      "source": [
        "from collections import deque\n",
        "\n",
        "n = int(input())\n",
        "jump = [list(map(int, input().split())) for _ in range(n)]\n",
        "answer = 0\n",
        "queue = deque([[0, 0]])\n",
        "\n",
        "while queue:\n",
        "  a, b = queue.pop()\n",
        "  jump_int = jump[a][b]\n",
        "  if jump_int == 0:\n",
        "    continue;\n",
        "  if a + jump_int < n:\n",
        "    if [a + jump_int, b] == [n - 1, n - 1]:\n",
        "      answer += 1\n",
        "      continue;\n",
        "    queue.append([a + jump_int, b])\n",
        "  if b + jump_int < n:\n",
        "    if [a, b + jump_int] == [n - 1, n - 1]:\n",
        "      answer += 1\n",
        "      continue;\n",
        "    queue.append([a, b + jump_int])\n",
        "\n",
        "print(answer)"
      ],
      "metadata": {
        "colab": {
          "base_uri": "https://localhost:8080/"
        },
        "id": "XheNeAxPkA6K",
        "outputId": "e7e9be6f-b880-4fa3-b06d-c8b1ec3113db"
      },
      "execution_count": 19,
      "outputs": [
        {
          "output_type": "stream",
          "name": "stdout",
          "text": [
            "4\n",
            "2 3 3 1\n",
            "1 2 1 3\n",
            "1 2 3 1\n",
            "3 1 1 0\n",
            "3\n"
          ]
        }
      ]
    }
  ]
}