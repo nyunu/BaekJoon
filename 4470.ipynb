{
  "nbformat": 4,
  "nbformat_minor": 0,
  "metadata": {
    "colab": {
      "provenance": [],
      "authorship_tag": "ABX9TyOmxBWt1fN7ISnzGHLRMKQ/",
      "include_colab_link": true
    },
    "kernelspec": {
      "name": "python3",
      "display_name": "Python 3"
    },
    "language_info": {
      "name": "python"
    }
  },
  "cells": [
    {
      "cell_type": "markdown",
      "metadata": {
        "id": "view-in-github",
        "colab_type": "text"
      },
      "source": [
        "<a href=\"https://colab.research.google.com/github/nyunu/BaekJoon/blob/main/4470.ipynb\" target=\"_parent\"><img src=\"https://colab.research.google.com/assets/colab-badge.svg\" alt=\"Open In Colab\"/></a>"
      ]
    },
    {
      "cell_type": "code",
      "execution_count": 9,
      "metadata": {
        "colab": {
          "base_uri": "https://localhost:8080/"
        },
        "id": "zIj1VvL7ArTZ",
        "outputId": "f5a687a3-d506-4a3d-e76e-4f57435f009d"
      },
      "outputs": [
        {
          "output_type": "stream",
          "name": "stdout",
          "text": [
            "5\n",
            "Lionel Cosgrove\n",
            "1. Lionel Cosgrove\n",
            "Alice\n",
            "2. Alice\n",
            "Columbus and Tallahassee\n",
            "3. Columbus and Tallahassee\n",
            "Shaun and Ed\n",
            "4. Shaun and Ed\n",
            "Fido\n",
            "5. Fido\n"
          ]
        }
      ],
      "source": [
        "n = int(input())\n",
        "\n",
        "for i in range(n):\n",
        "  sen = input()\n",
        "  print(f\"{i+1}. {sen}\")"
      ]
    }
  ]
}