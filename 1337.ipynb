{
  "cells": [
    {
      "cell_type": "markdown",
      "metadata": {
        "id": "view-in-github",
        "colab_type": "text"
      },
      "source": [
        "<a href=\"https://colab.research.google.com/github/nyunu/BaekJoon/blob/main/1337.ipynb\" target=\"_parent\"><img src=\"https://colab.research.google.com/assets/colab-badge.svg\" alt=\"Open In Colab\"/></a>"
      ]
    },
    {
      "cell_type": "code",
      "source": [
        "n = int(input())\n",
        "lst = []\n",
        "cnt_lst = []\n",
        "cnt = 0\n",
        "\n",
        "for _ in range(n):\n",
        "  lst.append(int(input()))\n",
        "\n",
        "lst = sorted(lst)\n",
        "\n",
        "for i in range(n):\n",
        "  for k in range(lst[i] + 1, lst[i] + 5):\n",
        "    if k in lst:\n",
        "      cnt += 1\n",
        "  cnt_lst.append(cnt)\n",
        "  cnt = 0\n",
        "\n",
        "print(4 - max(cnt_lst))"
      ],
      "metadata": {
        "colab": {
          "base_uri": "https://localhost:8080/"
        },
        "id": "O7KC2Rp9nqEF",
        "outputId": "bb7aa46b-dee8-491e-fe88-64893149fe8d"
      },
      "execution_count": 30,
      "outputs": [
        {
          "output_type": "stream",
          "name": "stdout",
          "text": [
            "3\n",
            "5\n",
            "6\n",
            "7\n",
            "2\n"
          ]
        }
      ]
    }
  ],
  "metadata": {
    "colab": {
      "provenance": [],
      "authorship_tag": "ABX9TyOVG2QKYcViO8fEg89tJUU/",
      "include_colab_link": true
    },
    "kernelspec": {
      "display_name": "Python 3",
      "name": "python3"
    },
    "language_info": {
      "name": "python"
    }
  },
  "nbformat": 4,
  "nbformat_minor": 0
}