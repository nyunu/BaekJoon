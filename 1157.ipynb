{
  "nbformat": 4,
  "nbformat_minor": 0,
  "metadata": {
    "colab": {
      "provenance": [],
      "authorship_tag": "ABX9TyNVZafbkQgQm2LFufPzV0Y1",
      "include_colab_link": true
    },
    "kernelspec": {
      "name": "python3",
      "display_name": "Python 3"
    },
    "language_info": {
      "name": "python"
    }
  },
  "cells": [
    {
      "cell_type": "markdown",
      "metadata": {
        "id": "view-in-github",
        "colab_type": "text"
      },
      "source": [
        "<a href=\"https://colab.research.google.com/github/nyunu/BaekJoon/blob/main/1157.ipynb\" target=\"_parent\"><img src=\"https://colab.research.google.com/assets/colab-badge.svg\" alt=\"Open In Colab\"/></a>"
      ]
    },
    {
      "cell_type": "code",
      "execution_count": 23,
      "metadata": {
        "colab": {
          "base_uri": "https://localhost:8080/"
        },
        "id": "sw0HIn-xjIGt",
        "outputId": "6a3355cc-84a1-4262-8022-f0930cbb4111"
      },
      "outputs": [
        {
          "output_type": "stream",
          "name": "stdout",
          "text": [
            "z\n",
            "Z\n"
          ]
        }
      ],
      "source": [
        "word = list(input().upper())\n",
        "sword = set(word)\n",
        "word_dict = dict()\n",
        "\n",
        "for i in sword:\n",
        "  word_dict[i] = 0\n",
        "\n",
        "for i in word:\n",
        "  a = word_dict.get(i)\n",
        "  word_dict[i] = a + 1\n",
        "\n",
        "m = 0\n",
        "cnt = 0\n",
        "\n",
        "for k,v in word_dict.items():\n",
        "  if v > m :\n",
        "    m = v\n",
        "    cnt = 0\n",
        "  elif v == m :\n",
        "    cnt +=1 \n",
        "  else :\n",
        "    pass;\n",
        "\n",
        "if cnt == 0:\n",
        "  for k, v in word_dict.items():\n",
        "    if m == v:\n",
        "      print(k)\n",
        "else :\n",
        "  print(\"?\")"
      ]
    }
  ]
}