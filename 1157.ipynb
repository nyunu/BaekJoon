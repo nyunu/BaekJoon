{
  "nbformat": 4,
  "nbformat_minor": 0,
  "metadata": {
    "colab": {
      "provenance": [],
      "authorship_tag": "ABX9TyPnWPmrdc5J/YIWU42pTIuE",
      "include_colab_link": true
    },
    "kernelspec": {
      "name": "python3",
      "display_name": "Python 3"
    },
    "language_info": {
      "name": "python"
    }
  },
  "cells": [
    {
      "cell_type": "markdown",
      "metadata": {
        "id": "view-in-github",
        "colab_type": "text"
      },
      "source": [
        "<a href=\"https://colab.research.google.com/github/nyunu/BaekJoon/blob/main/1157.ipynb\" target=\"_parent\"><img src=\"https://colab.research.google.com/assets/colab-badge.svg\" alt=\"Open In Colab\"/></a>"
      ]
    },
    {
      "cell_type": "markdown",
      "source": [
        "* dict 사용"
      ],
      "metadata": {
        "id": "tvPAq33fujEm"
      }
    },
    {
      "cell_type": "code",
      "execution_count": 23,
      "metadata": {
        "colab": {
          "base_uri": "https://localhost:8080/"
        },
        "id": "sw0HIn-xjIGt",
        "outputId": "6a3355cc-84a1-4262-8022-f0930cbb4111"
      },
      "outputs": [
        {
          "output_type": "stream",
          "name": "stdout",
          "text": [
            "z\n",
            "Z\n"
          ]
        }
      ],
      "source": [
        "word = list(input().upper())\n",
        "sword = set(word)\n",
        "word_dict = dict()\n",
        "\n",
        "for i in sword:\n",
        "  word_dict[i] = 0\n",
        "\n",
        "for i in word:\n",
        "  a = word_dict.get(i)\n",
        "  word_dict[i] = a + 1\n",
        "\n",
        "m = 0\n",
        "cnt = 0\n",
        "\n",
        "for k,v in word_dict.items():\n",
        "  if v > m :\n",
        "    m = v\n",
        "    cnt = 0\n",
        "  elif v == m :\n",
        "    cnt +=1 \n",
        "  else :\n",
        "    pass;\n",
        "\n",
        "if cnt == 0:\n",
        "  for k, v in word_dict.items():\n",
        "    if m == v:\n",
        "      print(k)\n",
        "else :\n",
        "  print(\"?\")"
      ]
    },
    {
      "cell_type": "markdown",
      "source": [
        "* 문자열.count('') & 리스트.count('') 사용 <br>\n",
        "출처 https://ooyoung.tistory.com/70\n"
      ],
      "metadata": {
        "id": "E8Cey-1KuqWa"
      }
    },
    {
      "cell_type": "code",
      "source": [
        "words = input().upper() # 대문자로 변환\n",
        "unique_words = list(set(words))  # 입력받은 문자열에서 중복값을 제거\n",
        "\n",
        "cnt_list = []\n",
        "for x in unique_words :\n",
        "    cnt = words.count(x) # word.count(x): word라는 문자열 내에 x가 몇 개 포함되어 있는지 반환\n",
        "    cnt_list.append(cnt)  # 위에서 반환된 숫자를 cnt_list에 추가\n",
        "\n",
        "if cnt_list.count(max(cnt_list)) > 1 :  # cnt_list에서의 최댓값의 개수를 세었을 때 이게 1보다 크면\n",
        "    print('?') # \"?\" 출력\n",
        "else : # 아니라면\n",
        "    max_index = cnt_list.index(max(cnt_list))  # cnt_list 최댓값의 인덱스를 추출하여\n",
        "    print(unique_words[max_index]) # 알파벳 출력"
      ],
      "metadata": {
        "colab": {
          "base_uri": "https://localhost:8080/"
        },
        "id": "aEX7Z-l1tGSs",
        "outputId": "3481aa38-4a4c-49ba-c91a-9b0458635549"
      },
      "execution_count": 29,
      "outputs": [
        {
          "output_type": "stream",
          "name": "stdout",
          "text": [
            "Mississiisspii\n",
            "?\n"
          ]
        }
      ]
    }
  ]
}