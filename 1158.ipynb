{
  "cells": [
    {
      "cell_type": "markdown",
      "metadata": {
        "id": "view-in-github",
        "colab_type": "text"
      },
      "source": [
        "<a href=\"https://colab.research.google.com/github/nyunu/BaekJoon/blob/main/1158.ipynb\" target=\"_parent\"><img src=\"https://colab.research.google.com/assets/colab-badge.svg\" alt=\"Open In Colab\"/></a>"
      ]
    },
    {
      "cell_type": "code",
      "source": [
        "n, k = map(int, input().split())\n",
        "result_lst = []\n",
        "num_lst = list(range(1, n + 1))\n",
        "num = 0\n",
        "\n",
        "for i in range(n):\n",
        "  num += k - 1\n",
        "  if num > len(num_lst):\n",
        "    num %= len(num_lst)\n",
        "  result_lst.append(str(num_lst[num]))\n",
        "  num_lst.pop(num)\n",
        "\n",
        "print(\"<\",', '.join(result_lst),\">\", sep=\"\")"
      ],
      "metadata": {
        "colab": {
          "base_uri": "https://localhost:8080/"
        },
        "id": "DpF_RCgIrRMF",
        "outputId": "ed99e885-41d1-46fc-8eec-6ec7880cf709"
      },
      "execution_count": 31,
      "outputs": [
        {
          "output_type": "stream",
          "name": "stdout",
          "text": [
            "7 3\n",
            "<3, 6, 2, 7, 5, 1, 4>\n"
          ]
        }
      ]
    }
  ],
  "metadata": {
    "colab": {
      "provenance": [],
      "authorship_tag": "ABX9TyNgMt7kx6P82JTot0l0ik3r",
      "include_colab_link": true
    },
    "kernelspec": {
      "display_name": "Python 3",
      "name": "python3"
    },
    "language_info": {
      "name": "python"
    }
  },
  "nbformat": 4,
  "nbformat_minor": 0
}