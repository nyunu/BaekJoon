{
  "nbformat": 4,
  "nbformat_minor": 0,
  "metadata": {
    "colab": {
      "provenance": [],
      "authorship_tag": "ABX9TyN5f7bgA+p18RIWEqHddJst",
      "include_colab_link": true
    },
    "kernelspec": {
      "name": "python3",
      "display_name": "Python 3"
    },
    "language_info": {
      "name": "python"
    }
  },
  "cells": [
    {
      "cell_type": "markdown",
      "metadata": {
        "id": "view-in-github",
        "colab_type": "text"
      },
      "source": [
        "<a href=\"https://colab.research.google.com/github/nyunu/BaekJoon/blob/main/12852.ipynb\" target=\"_parent\"><img src=\"https://colab.research.google.com/assets/colab-badge.svg\" alt=\"Open In Colab\"/></a>"
      ]
    },
    {
      "cell_type": "code",
      "source": [
        "n = int(input())\n",
        "dp = [[0, []] for _ in range(n + 1)]\n",
        "dp[1] = [0, [1]]\n",
        "\n",
        "for i in range(2, n + 1):\n",
        "  dp[i][0] = dp[i - 1][0] + 1\n",
        "  ans = i - 1\n",
        "  if i % 3 == 0 and dp[i][0] > dp[i // 3][0]:\n",
        "    dp[i][0] = dp[i // 3][0] + 1\n",
        "    ans = i // 3\n",
        "  if i % 2 == 0 and dp[i][0] > dp[i // 2][0]:\n",
        "    dp[i][0] = dp[i // 2][0] + 1\n",
        "    ans = i // 2\n",
        "  dp[i][1] = [i] + dp[ans][1]\n",
        "\n",
        "print(dp[n][0])\n",
        "for i in dp[n][1]:\n",
        "  print(i, end = ' ')"
      ],
      "metadata": {
        "colab": {
          "base_uri": "https://localhost:8080/"
        },
        "id": "6HIX1eRmg6KG",
        "outputId": "1d6c259c-fb82-4d86-c93a-4fa54a0c4df4"
      },
      "execution_count": 46,
      "outputs": [
        {
          "output_type": "stream",
          "name": "stdout",
          "text": [
            "2\n",
            "1\n",
            "2 1 "
          ]
        }
      ]
    }
  ]
}