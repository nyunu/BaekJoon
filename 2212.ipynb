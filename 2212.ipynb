{
  "nbformat": 4,
  "nbformat_minor": 0,
  "metadata": {
    "colab": {
      "provenance": [],
      "authorship_tag": "ABX9TyOily6f4nrw0hNaesDyF/PC",
      "include_colab_link": true
    },
    "kernelspec": {
      "name": "python3",
      "display_name": "Python 3"
    },
    "language_info": {
      "name": "python"
    }
  },
  "cells": [
    {
      "cell_type": "markdown",
      "metadata": {
        "id": "view-in-github",
        "colab_type": "text"
      },
      "source": [
        "<a href=\"https://colab.research.google.com/github/nyunu/BaekJoon/blob/main/2212.ipynb\" target=\"_parent\"><img src=\"https://colab.research.google.com/assets/colab-badge.svg\" alt=\"Open In Colab\"/></a>"
      ]
    },
    {
      "cell_type": "code",
      "source": [
        "n = int(input())\n",
        "k = int(input())\n",
        "sensor = list(set(map(int, input().split())))\n",
        "\n",
        "sensor.sort()\n",
        "diff = []\n",
        "for i in range(len(sensor) - 1):\n",
        "  diff.append(sensor[i + 1] - sensor[i])\n",
        "diff.sort()\n",
        "\n",
        "print(sum(diff[:len(diff) - (k - 1)]))"
      ],
      "metadata": {
        "colab": {
          "base_uri": "https://localhost:8080/"
        },
        "id": "o28IsKVAEyIW",
        "outputId": "6e986ea2-4b28-44ca-bc87-ab44a44b6f2a"
      },
      "execution_count": 21,
      "outputs": [
        {
          "output_type": "stream",
          "name": "stdout",
          "text": [
            "10\n",
            "5\n",
            "20 3 14 6 7 8 18 10 12 15\n",
            "7\n"
          ]
        }
      ]
    }
  ]
}