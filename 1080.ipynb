{
  "nbformat": 4,
  "nbformat_minor": 0,
  "metadata": {
    "colab": {
      "provenance": [],
      "authorship_tag": "ABX9TyMZ7HKoeUNzDnEk7YXcZPXR",
      "include_colab_link": true
    },
    "kernelspec": {
      "name": "python3",
      "display_name": "Python 3"
    },
    "language_info": {
      "name": "python"
    }
  },
  "cells": [
    {
      "cell_type": "markdown",
      "metadata": {
        "id": "view-in-github",
        "colab_type": "text"
      },
      "source": [
        "<a href=\"https://colab.research.google.com/github/nyunu/BaekJoon/blob/main/1080.ipynb\" target=\"_parent\"><img src=\"https://colab.research.google.com/assets/colab-badge.svg\" alt=\"Open In Colab\"/></a>"
      ]
    },
    {
      "cell_type": "code",
      "execution_count": 23,
      "metadata": {
        "colab": {
          "base_uri": "https://localhost:8080/"
        },
        "id": "4Gb8NFW4rF_E",
        "outputId": "faf94656-4806-4a12-8f56-3b3360d3a37a"
      },
      "outputs": [
        {
          "output_type": "stream",
          "name": "stdout",
          "text": [
            "1 1\n",
            "1\n",
            "0\n",
            "-1\n"
          ]
        }
      ],
      "source": [
        "n, m = map(int, input().split())\n",
        "arr_1 = [list(map(int, list(str(input())))) for _ in range(n)]\n",
        "arr_2 = [list(map(int, list(str(input())))) for _ in range(n)]\n",
        "\n",
        "def convert(i, j):\n",
        "  for x in range(i, i + 3):\n",
        "    for y in range(j, j + 3):\n",
        "      arr_1[x][y] = 1 - arr_1[x][y]\n",
        "\n",
        "cnt = 0\n",
        "if (n < 3) or (m < 3):\n",
        "  pass;\n",
        "else:\n",
        "  for i in range(n - 2):\n",
        "    for j in range(m - 2):\n",
        "      if arr_1[i][j] != arr_2[i][j]:\n",
        "        convert(i,j)\n",
        "        cnt += 1\n",
        "\n",
        "if arr_1 != arr_2:\n",
        "  print(-1)\n",
        "else:\n",
        "  print(cnt)"
      ]
    }
  ]
}