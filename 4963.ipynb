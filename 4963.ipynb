{
  "nbformat": 4,
  "nbformat_minor": 0,
  "metadata": {
    "colab": {
      "provenance": [],
      "authorship_tag": "ABX9TyOIr8Jm1wFIQtpwAY6VBR8k",
      "include_colab_link": true
    },
    "kernelspec": {
      "name": "python3",
      "display_name": "Python 3"
    },
    "language_info": {
      "name": "python"
    }
  },
  "cells": [
    {
      "cell_type": "markdown",
      "metadata": {
        "id": "view-in-github",
        "colab_type": "text"
      },
      "source": [
        "<a href=\"https://colab.research.google.com/github/nyunu/BaekJoon/blob/main/4963.ipynb\" target=\"_parent\"><img src=\"https://colab.research.google.com/assets/colab-badge.svg\" alt=\"Open In Colab\"/></a>"
      ]
    },
    {
      "cell_type": "markdown",
      "source": [
        "자꾸 RecursionError 발생 -> sys.setrecursionlimit(10000)"
      ],
      "metadata": {
        "id": "FzvGDyVLlU8L"
      }
    },
    {
      "cell_type": "code",
      "source": [
        "import sys\n",
        "input = sys.stdin.readline\n",
        "sys.setrecursionlimit(10000)\n",
        "\n",
        "dx = [0, 0, 1, 1, 1, -1, -1, -1]\n",
        "dy = [1, -1, 0, -1, 1, 0, -1, 1]\n",
        "\n",
        "def dfs(x, y):\n",
        "  area[x][y] = 0\n",
        "  for i in range(len(dx)):\n",
        "    nx = x + dx[i]\n",
        "    ny = y + dy[i]\n",
        "    if (0 <= nx and nx < h) and (0 <= ny and ny < w) and (area[nx][ny] == 1):\n",
        "      dfs(nx, ny)\n",
        "\n",
        "while True:\n",
        "  w, h = map(int, input().split())\n",
        "  if (w == 0) & (h == 0):\n",
        "    break;\n",
        "\n",
        "  visit = [[0 for _ in range(w)] for _ in range(h)]\n",
        "  area = []\n",
        "  for _ in range(h):\n",
        "    lst = list(map(int, input().split()))\n",
        "    area.append(lst)\n",
        "\n",
        "  cnt = 0\n",
        "  for i in range(h):\n",
        "    for j in range(w):\n",
        "      if area[i][j] == 1:\n",
        "        dfs(i, j)\n",
        "        cnt += 1\n",
        "  print(cnt)"
      ],
      "metadata": {
        "id": "AR7RvmrjN8Zz"
      },
      "execution_count": null,
      "outputs": []
    }
  ]
}