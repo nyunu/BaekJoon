{
  "nbformat": 4,
  "nbformat_minor": 0,
  "metadata": {
    "colab": {
      "provenance": [],
      "authorship_tag": "ABX9TyMlRVLGiG4vy56NVh9+8VVL",
      "include_colab_link": true
    },
    "kernelspec": {
      "name": "python3",
      "display_name": "Python 3"
    },
    "language_info": {
      "name": "python"
    }
  },
  "cells": [
    {
      "cell_type": "markdown",
      "metadata": {
        "id": "view-in-github",
        "colab_type": "text"
      },
      "source": [
        "<a href=\"https://colab.research.google.com/github/nyunu/BaekJoon/blob/main/10026.ipynb\" target=\"_parent\"><img src=\"https://colab.research.google.com/assets/colab-badge.svg\" alt=\"Open In Colab\"/></a>"
      ]
    },
    {
      "cell_type": "code",
      "source": [
        "from collections import deque\n",
        "import sys\n",
        "input = sys.stdin.readline\n",
        "\n",
        "n = int(input())\n",
        "graph_1 = [input().rstrip() for _ in range(n)]\n",
        "graph_2 = []\n",
        "for i in graph_1:\n",
        "  graph_2.append(i.replace('R', 'G'))\n",
        "visit_1 = [[False] * n for _ in range(n)]\n",
        "visit_2 = [[False] * n for _ in range(n)]\n",
        "answer_1 = 0\n",
        "answer_2 = 0\n",
        "\n",
        "dx = [0, 0, -1, 1]\n",
        "dy = [1, -1, 0, 0]\n",
        "\n",
        "def bfs(x, y, graph, visit):\n",
        "  visit[x][y] = 1\n",
        "  color = graph[x][y]\n",
        "  queue = deque([[x, y]])\n",
        "  while queue:\n",
        "    v1, v2 = queue.popleft()\n",
        "    for i in range(len(dx)):\n",
        "      nx = v1 + dx[i]\n",
        "      ny = v2 + dy[i]\n",
        "      if 0 <= nx < n and 0 <= ny < n and visit[nx][ny] == 0 and graph[nx][ny] == color:\n",
        "        queue.append([nx, ny])\n",
        "        visit[nx][ny] = 1\n",
        "\n",
        "for i in range(n):\n",
        "  for j in range(n):\n",
        "    if visit_1[i][j] == 0:\n",
        "      bfs(i, j, graph_1, visit_1)\n",
        "      answer_1 += 1\n",
        "    if visit_2[i][j] == 0:\n",
        "      bfs(i, j, graph_2, visit_2)\n",
        "      answer_2 += 1\n",
        "\n",
        "print(answer_1, answer_2)"
      ],
      "metadata": {
        "colab": {
          "base_uri": "https://localhost:8080/"
        },
        "id": "0iJI1zxhyJaB",
        "outputId": "9d8be418-9e3a-4c65-a537-d82e34d8c630"
      },
      "execution_count": 17,
      "outputs": [
        {
          "output_type": "stream",
          "name": "stdout",
          "text": [
            "5\n",
            "RRRBB\n",
            "GGBBB\n",
            "BBBRR\n",
            "BBRRR\n",
            "RRRRR\n",
            "3 4\n"
          ]
        }
      ]
    }
  ]
}