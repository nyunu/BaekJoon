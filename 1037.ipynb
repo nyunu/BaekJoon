{
  "nbformat": 4,
  "nbformat_minor": 0,
  "metadata": {
    "colab": {
      "provenance": [],
      "authorship_tag": "ABX9TyObdbJIGvjxmRbZCRsA7sz1",
      "include_colab_link": true
    },
    "kernelspec": {
      "name": "python3",
      "display_name": "Python 3"
    },
    "language_info": {
      "name": "python"
    }
  },
  "cells": [
    {
      "cell_type": "markdown",
      "metadata": {
        "id": "view-in-github",
        "colab_type": "text"
      },
      "source": [
        "<a href=\"https://colab.research.google.com/github/nyunu/BaekJoon/blob/main/1037.ipynb\" target=\"_parent\"><img src=\"https://colab.research.google.com/assets/colab-badge.svg\" alt=\"Open In Colab\"/></a>"
      ]
    },
    {
      "cell_type": "markdown",
      "source": [
        "* 시간초과"
      ],
      "metadata": {
        "id": "83vNaKMCxXYe"
      }
    },
    {
      "cell_type": "code",
      "source": [
        "cnt_n = int(input())\n",
        "num_lst = list(map(int, input().split()))\n",
        "n = max(num_lst)\n",
        "result = 0\n",
        "\n",
        "while True:\n",
        "  n += n\n",
        "  for i in num_lst:\n",
        "    if n % i == 0:\n",
        "      result += 1\n",
        "  if result == len(num_lst):\n",
        "    print(n)\n",
        "    break;"
      ],
      "metadata": {
        "colab": {
          "base_uri": "https://localhost:8080/"
        },
        "id": "aKhemYisrpFl",
        "outputId": "29037c28-dd3d-41a5-898a-59a621eb9694"
      },
      "execution_count": 19,
      "outputs": [
        {
          "output_type": "stream",
          "name": "stdout",
          "text": [
            "14\n",
            "14 26456 2 28 13228 3307 7 23149 8 6614 46298 56 4 92596\n",
            "185192\n"
          ]
        }
      ]
    },
    {
      "cell_type": "markdown",
      "source": [
        "* 정답"
      ],
      "metadata": {
        "id": "zpgJX4bJxZip"
      }
    },
    {
      "cell_type": "code",
      "source": [
        "cnt_n = int(input())\n",
        "num_lst = list(map(int, input().split()))\n",
        "print(min(num_lst) * max(num_lst))"
      ],
      "metadata": {
        "colab": {
          "base_uri": "https://localhost:8080/"
        },
        "id": "xErfPTRnwdxh",
        "outputId": "20b7b532-4fec-4754-b94b-26b69e2c2539"
      },
      "execution_count": 21,
      "outputs": [
        {
          "output_type": "stream",
          "name": "stdout",
          "text": [
            "14\n",
            "14 26456 2 28 13228 3307 7 23149 8 6614 46298 56 4 92596\n",
            "185192\n"
          ]
        }
      ]
    }
  ]
}