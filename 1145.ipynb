{
  "nbformat": 4,
  "nbformat_minor": 0,
  "metadata": {
    "colab": {
      "provenance": [],
      "authorship_tag": "ABX9TyPvewyBuWDz7angV+DBbL2x",
      "include_colab_link": true
    },
    "kernelspec": {
      "name": "python3",
      "display_name": "Python 3"
    },
    "language_info": {
      "name": "python"
    }
  },
  "cells": [
    {
      "cell_type": "markdown",
      "metadata": {
        "id": "view-in-github",
        "colab_type": "text"
      },
      "source": [
        "<a href=\"https://colab.research.google.com/github/nyunu/BaekJoon/blob/main/1145.ipynb\" target=\"_parent\"><img src=\"https://colab.research.google.com/assets/colab-badge.svg\" alt=\"Open In Colab\"/></a>"
      ]
    },
    {
      "cell_type": "code",
      "source": [
        "lst = list(map(int, input().split()))\n",
        "cnt = 0\n",
        "n = min(lst)\n",
        "\n",
        "while True:\n",
        "  if cnt >= 3 :\n",
        "    break;\n",
        "  cnt = 0\n",
        "  n += 1\n",
        "  for i in lst:\n",
        "    if n % i == 0 :\n",
        "      cnt += 1\n",
        "\n",
        "print(n)"
      ],
      "metadata": {
        "colab": {
          "base_uri": "https://localhost:8080/"
        },
        "id": "eykgZ7ATpE4O",
        "outputId": "14ae02a3-2db3-498f-8f48-174423b4d473"
      },
      "execution_count": 15,
      "outputs": [
        {
          "output_type": "stream",
          "name": "stdout",
          "text": [
            "1 2 3 4 5\n",
            "4\n"
          ]
        }
      ]
    }
  ]
}