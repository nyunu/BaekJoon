{
  "nbformat": 4,
  "nbformat_minor": 0,
  "metadata": {
    "colab": {
      "provenance": [],
      "authorship_tag": "ABX9TyMSra6ZWsvaiDm6n/zKb+mg",
      "include_colab_link": true
    },
    "kernelspec": {
      "name": "python3",
      "display_name": "Python 3"
    },
    "language_info": {
      "name": "python"
    }
  },
  "cells": [
    {
      "cell_type": "markdown",
      "metadata": {
        "id": "view-in-github",
        "colab_type": "text"
      },
      "source": [
        "<a href=\"https://colab.research.google.com/github/nyunu/BaekJoon/blob/main/10972.ipynb\" target=\"_parent\"><img src=\"https://colab.research.google.com/assets/colab-badge.svg\" alt=\"Open In Colab\"/></a>"
      ]
    },
    {
      "cell_type": "code",
      "source": [
        "n = int(input())\n",
        "per = list(map(int, input().split()))\n",
        "\n",
        "for i in range(n - 1, 0, -1):\n",
        "  if per[i] > per[i - 1]:\n",
        "    for j in range(n - 1, 0, -1):\n",
        "      if per[j] > per[i - 1]:\n",
        "        per[j], per[i - 1] = per[i - 1], per[j]\n",
        "        per = per[:i] + sorted(per[i:])\n",
        "        print(*per)\n",
        "        exit()\n",
        "print(-1)"
      ],
      "metadata": {
        "colab": {
          "base_uri": "https://localhost:8080/"
        },
        "id": "Qu6qznvu7yaU",
        "outputId": "af45cce5-cd72-4248-995f-014dc848d2dc"
      },
      "execution_count": 1,
      "outputs": [
        {
          "output_type": "stream",
          "name": "stdout",
          "text": [
            "4\n",
            "1 2 3 4\n",
            "1 2 4 3\n",
            "1 3 2 4\n",
            "4 1 2 3\n"
          ]
        }
      ]
    }
  ]
}