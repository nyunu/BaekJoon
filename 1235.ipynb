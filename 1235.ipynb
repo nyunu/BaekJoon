{
  "cells": [
    {
      "cell_type": "markdown",
      "metadata": {
        "id": "view-in-github",
        "colab_type": "text"
      },
      "source": [
        "<a href=\"https://colab.research.google.com/github/nyunu/BaekJoon/blob/main/1235.ipynb\" target=\"_parent\"><img src=\"https://colab.research.google.com/assets/colab-badge.svg\" alt=\"Open In Colab\"/></a>"
      ]
    },
    {
      "cell_type": "code",
      "source": [
        "n = int(input())\n",
        "id_lst = []\n",
        "solve_lst = []\n",
        "idx = 2\n",
        "\n",
        "for i in range(n):\n",
        "  id_lst.append(input())\n",
        "\n",
        "for i in range(len(id_lst[0])):\n",
        "  for k in id_lst:\n",
        "      solve_lst.append(k[len(k) - i - 1 : len(k) ])\n",
        "  if len(set(solve_lst)) == n:\n",
        "    print(i + 1)\n",
        "    break;\n",
        "  solve_lst = []"
      ],
      "metadata": {
        "colab": {
          "base_uri": "https://localhost:8080/"
        },
        "id": "o8EVJ-IvL1RI",
        "outputId": "ab711f85-152f-4d00-a639-71d3eac49445"
      },
      "execution_count": 47,
      "outputs": [
        {
          "output_type": "stream",
          "name": "stdout",
          "text": [
            "3\n",
            "1212345\n",
            "1212356\n",
            "0033445\n",
            "3\n"
          ]
        }
      ]
    }
  ],
  "metadata": {
    "colab": {
      "provenance": [],
      "authorship_tag": "ABX9TyOrp4SsJlgEesuCU5+d53tY",
      "include_colab_link": true
    },
    "kernelspec": {
      "display_name": "Python 3",
      "name": "python3"
    },
    "language_info": {
      "name": "python"
    }
  },
  "nbformat": 4,
  "nbformat_minor": 0
}