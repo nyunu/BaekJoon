{
  "nbformat": 4,
  "nbformat_minor": 0,
  "metadata": {
    "colab": {
      "provenance": [],
      "authorship_tag": "ABX9TyNfMS2cJs3LJOuJjP+wV9h8",
      "include_colab_link": true
    },
    "kernelspec": {
      "name": "python3",
      "display_name": "Python 3"
    },
    "language_info": {
      "name": "python"
    }
  },
  "cells": [
    {
      "cell_type": "markdown",
      "metadata": {
        "id": "view-in-github",
        "colab_type": "text"
      },
      "source": [
        "<a href=\"https://colab.research.google.com/github/nyunu/BaekJoon/blob/main/5430.ipynb\" target=\"_parent\"><img src=\"https://colab.research.google.com/assets/colab-badge.svg\" alt=\"Open In Colab\"/></a>"
      ]
    },
    {
      "cell_type": "markdown",
      "source": [
        "- 시간초과"
      ],
      "metadata": {
        "id": "Gfp3hXvg4Uaz"
      }
    },
    {
      "cell_type": "code",
      "source": [
        "t = int(input())\n",
        "for _ in range(t):\n",
        "  f = input().split('R')\n",
        "  n = int(input())\n",
        "  arr = input()[1:-1].split(',')\n",
        "\n",
        "  if not arr:\n",
        "    print('error')\n",
        "    continue\n",
        "\n",
        "  for sen in f:\n",
        "    if sen:\n",
        "      lenn = len(sen)\n",
        "      if lenn > len(arr):\n",
        "        print('error')\n",
        "        break\n",
        "      arr = arr[lenn:]\n",
        "      continue\n",
        "    arr = arr[::-1]\n",
        "  else:\n",
        "    print(list(map(int, arr)))"
      ],
      "metadata": {
        "colab": {
          "base_uri": "https://localhost:8080/"
        },
        "id": "Sh67lpcCu1aQ",
        "outputId": "803b4d2a-d176-4d5c-be59-b3a2f8e33ebb"
      },
      "execution_count": 19,
      "outputs": [
        {
          "output_type": "stream",
          "name": "stdout",
          "text": [
            "2\n",
            "D\n",
            "0\n",
            "[]\n",
            "error\n",
            "RRD\n",
            "6\n",
            "[1,1,2,3,5,8]\n",
            "[1, 2, 3, 5, 8]\n"
          ]
        }
      ]
    },
    {
      "cell_type": "markdown",
      "source": [
        "- Deque 사용"
      ],
      "metadata": {
        "id": "MsmL35CL4VrN"
      }
    },
    {
      "cell_type": "code",
      "source": [
        "from collections import deque\n",
        "\n",
        "t = int(input())\n",
        "for _ in range(t):\n",
        "  f = input()\n",
        "  n = int(input())\n",
        "  arr = deque(input()[1:-1].split(','))\n",
        "\n",
        "  if n == 0:\n",
        "    arr = []\n",
        "\n",
        "  cnt = 0\n",
        "  for sen in f:\n",
        "    if sen == 'R':\n",
        "      cnt += 1\n",
        "    else:\n",
        "      if len(arr) == 0:\n",
        "        print('error')\n",
        "        break\n",
        "      if cnt % 2 == 0:\n",
        "        arr.popleft()\n",
        "      else:\n",
        "        arr.pop()\n",
        "  else:\n",
        "    if cnt % 2 == 0:\n",
        "      print(\"[\" + \",\".join(arr) + \"]\")\n",
        "    else:\n",
        "      arr.reverse()\n",
        "      print(\"[\" + \",\".join(arr) + \"]\")"
      ],
      "metadata": {
        "colab": {
          "base_uri": "https://localhost:8080/"
        },
        "id": "ge8gHTQLx485",
        "outputId": "15591186-c6ed-4d8b-9b31-6fa4280b410a"
      },
      "execution_count": 28,
      "outputs": [
        {
          "output_type": "stream",
          "name": "stdout",
          "text": [
            "1\n",
            "RRD\n",
            "6\n",
            "[1,1,2,3,5,8]\n",
            "[1, 2, 3, 5, 8]\n"
          ]
        }
      ]
    }
  ]
}