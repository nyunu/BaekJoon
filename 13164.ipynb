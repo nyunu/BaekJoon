{
  "nbformat": 4,
  "nbformat_minor": 0,
  "metadata": {
    "colab": {
      "provenance": [],
      "authorship_tag": "ABX9TyN6e9AcOeKNRmDZ4VuHVmZt",
      "include_colab_link": true
    },
    "kernelspec": {
      "name": "python3",
      "display_name": "Python 3"
    },
    "language_info": {
      "name": "python"
    }
  },
  "cells": [
    {
      "cell_type": "markdown",
      "metadata": {
        "id": "view-in-github",
        "colab_type": "text"
      },
      "source": [
        "<a href=\"https://colab.research.google.com/github/nyunu/BaekJoon/blob/main/13164.ipynb\" target=\"_parent\"><img src=\"https://colab.research.google.com/assets/colab-badge.svg\" alt=\"Open In Colab\"/></a>"
      ]
    },
    {
      "cell_type": "markdown",
      "source": [
        "- 시간초과 ..."
      ],
      "metadata": {
        "id": "X9q_FQh4oZ55"
      }
    },
    {
      "cell_type": "code",
      "source": [
        "import sys\n",
        "input = sys.stdin.readline\n",
        "\n",
        "n, k = map(int, input().split())\n",
        "kid = list(map(int, input().split()))\n",
        "\n",
        "diff = []\n",
        "for i in range(1, n):\n",
        "  diff.append(kid[i] - kid[i - 1])\n",
        "\n",
        "answer = 0\n",
        "while len(diff) != k - 1:\n",
        "  min_val = min(diff)\n",
        "  min_idx = diff.index(min_val)\n",
        "  if min_idx != 0:\n",
        "    diff[min_idx - 1] += min_val\n",
        "  if min_idx != len(diff) - 1:\n",
        "    diff[min_idx + 1] += min_val\n",
        "  answer += diff.pop(min_idx)\n",
        "\n",
        "print(answer)"
      ],
      "metadata": {
        "colab": {
          "base_uri": "https://localhost:8080/"
        },
        "id": "E1gRe5h7pOPm",
        "outputId": "89584e1c-e348-42ec-8c5b-1944919fbd38"
      },
      "execution_count": 14,
      "outputs": [
        {
          "output_type": "stream",
          "name": "stdout",
          "text": [
            "5 3\n",
            "1 3 5 6 10\n",
            "3\n"
          ]
        }
      ]
    },
    {
      "cell_type": "markdown",
      "source": [
        "- 정답"
      ],
      "metadata": {
        "id": "TpRqaFwqocYW"
      }
    },
    {
      "cell_type": "code",
      "source": [
        "import sys\n",
        "input = sys.stdin.readline\n",
        "\n",
        "n, k = map(int, input().split())\n",
        "kid = list(map(int, input().split()))\n",
        "\n",
        "ans = []\n",
        "for i in range(1, n):\n",
        "  ans.append(kid[i] - kid[i-1])\n",
        "\n",
        "ans.sort(reverse=True)\n",
        "print(sum(ans[k-1:]))"
      ],
      "metadata": {
        "id": "-_gZnAYzod7e"
      },
      "execution_count": null,
      "outputs": []
    }
  ]
}