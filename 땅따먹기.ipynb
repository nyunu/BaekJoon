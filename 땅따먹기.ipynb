{
  "nbformat": 4,
  "nbformat_minor": 0,
  "metadata": {
    "colab": {
      "provenance": [],
      "authorship_tag": "ABX9TyMRyupY3kU/JJOIyZlMJNSR",
      "include_colab_link": true
    },
    "kernelspec": {
      "name": "python3",
      "display_name": "Python 3"
    },
    "language_info": {
      "name": "python"
    }
  },
  "cells": [
    {
      "cell_type": "markdown",
      "metadata": {
        "id": "view-in-github",
        "colab_type": "text"
      },
      "source": [
        "<a href=\"https://colab.research.google.com/github/nyunu/BaekJoon/blob/main/%EB%95%85%EB%94%B0%EB%A8%B9%EA%B8%B0.ipynb\" target=\"_parent\"><img src=\"https://colab.research.google.com/assets/colab-badge.svg\" alt=\"Open In Colab\"/></a>"
      ]
    },
    {
      "cell_type": "code",
      "execution_count": null,
      "metadata": {
        "id": "cOJeOeN_3hbB"
      },
      "outputs": [],
      "source": [
        "def solution(land):\n",
        "    answer = land[0]\n",
        "    for i in land[1:]:\n",
        "        lst = [0] * 4\n",
        "        lst[0] = i[0] + max(answer[1], answer[2], answer[3])\n",
        "        lst[1] = i[1] + max(answer[0], answer[2], answer[3])\n",
        "        lst[2] = i[2] + max(answer[0], answer[1], answer[3])\n",
        "        lst[3] = i[3] + max(answer[0], answer[1], answer[2])\n",
        "        answer = lst\n",
        "    return max(answer)"
      ]
    }
  ]
}