{
  "nbformat": 4,
  "nbformat_minor": 0,
  "metadata": {
    "colab": {
      "provenance": [],
      "authorship_tag": "ABX9TyOr6lt+49VwYBSHqLPbqJGx",
      "include_colab_link": true
    },
    "kernelspec": {
      "name": "python3",
      "display_name": "Python 3"
    },
    "language_info": {
      "name": "python"
    }
  },
  "cells": [
    {
      "cell_type": "markdown",
      "metadata": {
        "id": "view-in-github",
        "colab_type": "text"
      },
      "source": [
        "<a href=\"https://colab.research.google.com/github/nyunu/BaekJoon/blob/main/%ED%83%80%EA%B2%9F%EB%84%98%EB%B2%84_.ipynb\" target=\"_parent\"><img src=\"https://colab.research.google.com/assets/colab-badge.svg\" alt=\"Open In Colab\"/></a>"
      ]
    },
    {
      "cell_type": "code",
      "source": [
        "def solution(numbers, target):\n",
        "    n = len(numbers)\n",
        "    answer = 0\n",
        "    def dfs(idx, result):\n",
        "        if idx == n:\n",
        "            if result == target:\n",
        "                nonlocal answer\n",
        "                answer += 1\n",
        "            return\n",
        "        else:\n",
        "            dfs(idx + 1, result+numbers[idx])\n",
        "            dfs(idx + 1, result-numbers[idx])\n",
        "    dfs(0,0)\n",
        "    return answer"
      ],
      "metadata": {
        "id": "APWxLHtf0j2v"
      },
      "execution_count": 22,
      "outputs": []
    },
    {
      "cell_type": "code",
      "source": [
        "solution([1, 1, 1, 1, 1], 3)"
      ],
      "metadata": {
        "colab": {
          "base_uri": "https://localhost:8080/"
        },
        "id": "KSlCFDLh0m7i",
        "outputId": "bd4e8e65-f62f-4942-eb48-54392cc29374"
      },
      "execution_count": 23,
      "outputs": [
        {
          "output_type": "execute_result",
          "data": {
            "text/plain": [
              "5"
            ]
          },
          "metadata": {},
          "execution_count": 23
        }
      ]
    }
  ]
}