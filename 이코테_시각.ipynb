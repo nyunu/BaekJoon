{
  "nbformat": 4,
  "nbformat_minor": 0,
  "metadata": {
    "colab": {
      "provenance": [],
      "authorship_tag": "ABX9TyPgZM7j7jd3KZ60ncSuf3a3",
      "include_colab_link": true
    },
    "kernelspec": {
      "name": "python3",
      "display_name": "Python 3"
    },
    "language_info": {
      "name": "python"
    }
  },
  "cells": [
    {
      "cell_type": "markdown",
      "metadata": {
        "id": "view-in-github",
        "colab_type": "text"
      },
      "source": [
        "<a href=\"https://colab.research.google.com/github/nyunu/BaekJoon/blob/main/%EC%9D%B4%EC%BD%94%ED%85%8C_%EC%8B%9C%EA%B0%81.ipynb\" target=\"_parent\"><img src=\"https://colab.research.google.com/assets/colab-badge.svg\" alt=\"Open In Colab\"/></a>"
      ]
    },
    {
      "cell_type": "markdown",
      "source": [
        "- 내 풀이 : 수의 조합으로 풀이\n",
        "  - 전체 경우의 수 - 3을 제외하고 시간이 구성될 경우의 수"
      ],
      "metadata": {
        "id": "zlScRbFqSnkE"
      }
    },
    {
      "cell_type": "code",
      "source": [
        "n = int(input())\n",
        "if n >= 3:\n",
        "  print((6**2 * 10**2 * (n + 1)) - (5**2 * 9**2 * n))\n",
        "elif n >= 13:\n",
        "  print((6**2 * 10**2 * (n + 1)) - (5**2 * 9**2 * (n - 1)))\n",
        "elif n >= 23:\n",
        "  print((6**2 * 10**2 * (n + 1)) - (5**2 * 9**2 * (n - 2)))\n",
        "else:\n",
        "  print((6**2 * 10**2 * (n + 1)))"
      ],
      "metadata": {
        "colab": {
          "base_uri": "https://localhost:8080/"
        },
        "id": "ipZctoAlOgwA",
        "outputId": "f2196d0c-5c15-42a3-ced2-190deeac01b8"
      },
      "execution_count": 25,
      "outputs": [
        {
          "output_type": "stream",
          "name": "stdout",
          "text": [
            "5\n",
            "11475\n"
          ]
        }
      ]
    },
    {
      "cell_type": "markdown",
      "source": [
        "- 책 풀이"
      ],
      "metadata": {
        "id": "VyFdmbrnSxFS"
      }
    },
    {
      "cell_type": "code",
      "source": [
        "n = int(input())\n",
        "\n",
        "cnt = 0\n",
        "for i in range(n + 1):\n",
        "  for j in range(60):\n",
        "    for k in range(60):\n",
        "      if '3' in str(i) + str(j) + str(k):\n",
        "        cnt += 1\n",
        "\n",
        "print(cnt)"
      ],
      "metadata": {
        "colab": {
          "base_uri": "https://localhost:8080/"
        },
        "id": "cfO8ixj_SzWt",
        "outputId": "c66dd19b-809d-49e7-d218-65efcbf80027"
      },
      "execution_count": 26,
      "outputs": [
        {
          "output_type": "stream",
          "name": "stdout",
          "text": [
            "5\n",
            "11475\n"
          ]
        }
      ]
    }
  ]
}