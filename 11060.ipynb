{
  "nbformat": 4,
  "nbformat_minor": 0,
  "metadata": {
    "colab": {
      "provenance": [],
      "authorship_tag": "ABX9TyN/7QDFvQyAxh5+9TpO/QJC",
      "include_colab_link": true
    },
    "kernelspec": {
      "name": "python3",
      "display_name": "Python 3"
    },
    "language_info": {
      "name": "python"
    }
  },
  "cells": [
    {
      "cell_type": "markdown",
      "metadata": {
        "id": "view-in-github",
        "colab_type": "text"
      },
      "source": [
        "<a href=\"https://colab.research.google.com/github/nyunu/BaekJoon/blob/main/11060.ipynb\" target=\"_parent\"><img src=\"https://colab.research.google.com/assets/colab-badge.svg\" alt=\"Open In Colab\"/></a>"
      ]
    },
    {
      "cell_type": "code",
      "source": [
        "n = int(input())\n",
        "miro = list(map(int, input().split()))\n",
        "dp = [n + 2 for _ in range(n)]\n",
        "dp[0] = 0\n",
        "\n",
        "for i in range(n - 1):\n",
        "  for j in range(1, miro[i] + 1):\n",
        "    if i + j < n:\n",
        "      dp[i + j] = min(dp[i] + 1, dp[i + j])\n",
        "\n",
        "if dp[n - 1] == n + 2:\n",
        "  print(-1)\n",
        "else:\n",
        "  print(dp[n - 1])"
      ],
      "metadata": {
        "colab": {
          "base_uri": "https://localhost:8080/"
        },
        "id": "MLrPVcuGytB5",
        "outputId": "ccea9af6-a9b5-4e60-9e89-d9ec336c97f2"
      },
      "execution_count": 42,
      "outputs": [
        {
          "output_type": "stream",
          "name": "stdout",
          "text": [
            "10\n",
            "1 2 0 1 3 2 1 5 4 2\n",
            "5\n"
          ]
        }
      ]
    }
  ]
}