{
  "nbformat": 4,
  "nbformat_minor": 0,
  "metadata": {
    "colab": {
      "provenance": [],
      "authorship_tag": "ABX9TyNYOmkkJlcBdTcQpGJeq91X",
      "include_colab_link": true
    },
    "kernelspec": {
      "name": "python3",
      "display_name": "Python 3"
    },
    "language_info": {
      "name": "python"
    }
  },
  "cells": [
    {
      "cell_type": "markdown",
      "metadata": {
        "id": "view-in-github",
        "colab_type": "text"
      },
      "source": [
        "<a href=\"https://colab.research.google.com/github/nyunu/BaekJoon/blob/main/10828.ipynb\" target=\"_parent\"><img src=\"https://colab.research.google.com/assets/colab-badge.svg\" alt=\"Open In Colab\"/></a>"
      ]
    },
    {
      "cell_type": "code",
      "source": [
        "from collections import deque\n",
        "n = int(input())\n",
        "\n",
        "arr = deque([])\n",
        "for _ in range(n):\n",
        "  com = input().split()\n",
        "\n",
        "  if com[0] == 'push':\n",
        "    arr.append(com[1])\n",
        "\n",
        "  elif com[0] == 'pop':\n",
        "    if len(arr) == 0:\n",
        "      print(-1)\n",
        "      continue\n",
        "    print(arr.pop())\n",
        "\n",
        "  elif com[0] == 'size':\n",
        "    print(len(arr))\n",
        "\n",
        "  elif com[0] == 'empty':\n",
        "    if arr:\n",
        "      print(0)\n",
        "    else:\n",
        "      print(1)\n",
        "\n",
        "  else:\n",
        "    if len(arr)==0:\n",
        "      print(-1)\n",
        "    else:\n",
        "      n = arr.pop()\n",
        "      print(n)\n",
        "      arr.append(n)"
      ],
      "metadata": {
        "colab": {
          "base_uri": "https://localhost:8080/"
        },
        "id": "vxCYd_ma7OX5",
        "outputId": "45a04e55-2301-4e46-b2fc-061e59b846de"
      },
      "execution_count": 29,
      "outputs": [
        {
          "output_type": "stream",
          "name": "stdout",
          "text": [
            "14\n",
            "push 1\n",
            "push 2\n",
            "top\n",
            "2\n",
            "size\n",
            "2\n",
            "empty\n",
            "0\n",
            "pop\n",
            "2\n",
            "pop\n",
            "1\n",
            "pop\n",
            "-1\n",
            "size\n",
            "0\n",
            "empty\n",
            "1\n",
            "pop\n",
            "-1\n",
            "push 3\n",
            "empty\n",
            "0\n",
            "top\n",
            "3\n"
          ]
        }
      ]
    }
  ]
}