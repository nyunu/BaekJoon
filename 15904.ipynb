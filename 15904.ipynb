{
  "nbformat": 4,
  "nbformat_minor": 0,
  "metadata": {
    "colab": {
      "provenance": [],
      "authorship_tag": "ABX9TyN1J85p+euu9DpEgzG0Ihxm",
      "include_colab_link": true
    },
    "kernelspec": {
      "name": "python3",
      "display_name": "Python 3"
    },
    "language_info": {
      "name": "python"
    }
  },
  "cells": [
    {
      "cell_type": "markdown",
      "metadata": {
        "id": "view-in-github",
        "colab_type": "text"
      },
      "source": [
        "<a href=\"https://colab.research.google.com/github/nyunu/BaekJoon/blob/main/15904.ipynb\" target=\"_parent\"><img src=\"https://colab.research.google.com/assets/colab-badge.svg\" alt=\"Open In Colab\"/></a>"
      ]
    },
    {
      "cell_type": "code",
      "source": [
        "sen = input()\n",
        "result = 'UCPC'\n",
        "idx = 0\n",
        "\n",
        "for i in sen:\n",
        "  if i == result[idx]:\n",
        "    idx += 1\n",
        "  if idx == 4:\n",
        "     print('I love UCPC')\n",
        "     break;\n",
        "else:\n",
        "  print('I hate UCPC')"
      ],
      "metadata": {
        "colab": {
          "base_uri": "https://localhost:8080/"
        },
        "id": "rQd8ofttoghC",
        "outputId": "2178b93c-0711-4905-e7f7-d157babfc7fe"
      },
      "execution_count": 1,
      "outputs": [
        {
          "output_type": "stream",
          "name": "stdout",
          "text": [
            "UCPCUC\n",
            "I love UCPC\n"
          ]
        }
      ]
    }
  ]
}