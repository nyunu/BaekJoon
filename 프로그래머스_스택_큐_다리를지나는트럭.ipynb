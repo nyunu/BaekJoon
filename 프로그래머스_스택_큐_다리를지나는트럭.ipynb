{
  "nbformat": 4,
  "nbformat_minor": 0,
  "metadata": {
    "colab": {
      "provenance": [],
      "authorship_tag": "ABX9TyM9MXh8A1LCwTuTsGpK9AP4",
      "include_colab_link": true
    },
    "kernelspec": {
      "name": "python3",
      "display_name": "Python 3"
    },
    "language_info": {
      "name": "python"
    }
  },
  "cells": [
    {
      "cell_type": "markdown",
      "metadata": {
        "id": "view-in-github",
        "colab_type": "text"
      },
      "source": [
        "<a href=\"https://colab.research.google.com/github/nyunu/BaekJoon/blob/main/%ED%94%84%EB%A1%9C%EA%B7%B8%EB%9E%98%EB%A8%B8%EC%8A%A4_%EC%8A%A4%ED%83%9D_%ED%81%90_%EB%8B%A4%EB%A6%AC%EB%A5%BC%EC%A7%80%EB%82%98%EB%8A%94%ED%8A%B8%EB%9F%AD.ipynb\" target=\"_parent\"><img src=\"https://colab.research.google.com/assets/colab-badge.svg\" alt=\"Open In Colab\"/></a>"
      ]
    },
    {
      "cell_type": "code",
      "source": [
        "from collections import deque\n",
        "\n",
        "def solution(bridge_length, weight, truck_weights):\n",
        "    now_weight = 0\n",
        "    bridge_dq = deque([0 for _ in range(bridge_length)])\n",
        "    second = 0\n",
        "\n",
        "    while bridge_dq:\n",
        "        second += 1\n",
        "        now_weight -= bridge_dq.popleft()\n",
        "\n",
        "        if truck_weights:\n",
        "            t_w = truck_weights[0]\n",
        "            if now_weight + t_w <= weight:\n",
        "                truck_weights.pop(0)\n",
        "                now_weight += t_w\n",
        "                bridge_dq.append(t_w)\n",
        "            else:\n",
        "                bridge_dq.append(0)\n",
        "\n",
        "    return second"
      ],
      "metadata": {
        "id": "1_Ya8idpra8Q"
      },
      "execution_count": 3,
      "outputs": []
    },
    {
      "cell_type": "code",
      "source": [
        "solution(2, 10, [7,4,5,6])"
      ],
      "metadata": {
        "colab": {
          "base_uri": "https://localhost:8080/"
        },
        "id": "-5og48dgrbq5",
        "outputId": "a49641cd-7158-4deb-8a7a-d861b7adea1c"
      },
      "execution_count": 4,
      "outputs": [
        {
          "output_type": "execute_result",
          "data": {
            "text/plain": [
              "8"
            ]
          },
          "metadata": {},
          "execution_count": 4
        }
      ]
    }
  ]
}