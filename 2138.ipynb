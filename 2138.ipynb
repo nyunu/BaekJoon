{
  "nbformat": 4,
  "nbformat_minor": 0,
  "metadata": {
    "colab": {
      "provenance": [],
      "authorship_tag": "ABX9TyNJ76uv2NP8B0ByzZdEg9yu",
      "include_colab_link": true
    },
    "kernelspec": {
      "name": "python3",
      "display_name": "Python 3"
    },
    "language_info": {
      "name": "python"
    }
  },
  "cells": [
    {
      "cell_type": "markdown",
      "metadata": {
        "id": "view-in-github",
        "colab_type": "text"
      },
      "source": [
        "<a href=\"https://colab.research.google.com/github/nyunu/BaekJoon/blob/main/2138.ipynb\" target=\"_parent\"><img src=\"https://colab.research.google.com/assets/colab-badge.svg\" alt=\"Open In Colab\"/></a>"
      ]
    },
    {
      "cell_type": "code",
      "source": [
        "n = int(input())\n",
        "bulb = list(map(int, input()))\n",
        "target = list(map(int, input()))\n",
        "\n",
        "def change(bulb):\n",
        "  count = 0\n",
        "  bulbs = bulb[:]\n",
        "  for i in range(1, n):\n",
        "    if bulbs[i - 1] == target[i - 1]:\n",
        "      continue\n",
        "    count += 1\n",
        "    for j in range(i - 1, i + 2):\n",
        "      if j < n:\n",
        "        bulbs[j] = 1 - bulbs[j]\n",
        "  if bulbs == target:\n",
        "    return count\n",
        "  else:\n",
        "    return 1e9\n",
        "\n",
        "answer = change(bulb)\n",
        "\n",
        "bulb[0] = 1 - bulb[0]\n",
        "bulb[1] = 1 - bulb[1]\n",
        "answer = min(answer, change(bulb) + 1)\n",
        "\n",
        "if answer == 1e9:\n",
        "  print(-1)\n",
        "else:\n",
        "  print(answer)"
      ],
      "metadata": {
        "colab": {
          "base_uri": "https://localhost:8080/"
        },
        "id": "o28IsKVAEyIW",
        "outputId": "20817f19-f978-486a-87a1-3428a8ddc220"
      },
      "execution_count": 100,
      "outputs": [
        {
          "output_type": "stream",
          "name": "stdout",
          "text": [
            "2\n",
            "00\n",
            "00\n",
            "0\n"
          ]
        }
      ]
    }
  ]
}