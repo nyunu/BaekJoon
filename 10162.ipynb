{
  "nbformat": 4,
  "nbformat_minor": 0,
  "metadata": {
    "colab": {
      "provenance": [],
      "authorship_tag": "ABX9TyN0903JHzFSH0UIQusXlaor",
      "include_colab_link": true
    },
    "kernelspec": {
      "name": "python3",
      "display_name": "Python 3"
    },
    "language_info": {
      "name": "python"
    }
  },
  "cells": [
    {
      "cell_type": "markdown",
      "metadata": {
        "id": "view-in-github",
        "colab_type": "text"
      },
      "source": [
        "<a href=\"https://colab.research.google.com/github/nyunu/BaekJoon/blob/main/10162.ipynb\" target=\"_parent\"><img src=\"https://colab.research.google.com/assets/colab-badge.svg\" alt=\"Open In Colab\"/></a>"
      ]
    },
    {
      "cell_type": "code",
      "source": [
        "t = int(input())\n",
        "result = []\n",
        "\n",
        "if t % 10 != 0:\n",
        "  print(-1)\n",
        "else:\n",
        "  t1 = t // 300\n",
        "  t %= 300\n",
        "  t2 = t // 60\n",
        "  t %= 60\n",
        "  t3 = t // 10\n",
        "  print(t1, t2, t3)"
      ],
      "metadata": {
        "colab": {
          "base_uri": "https://localhost:8080/"
        },
        "id": "zfxjIFCJaSBm",
        "outputId": "46482553-91c5-4847-db40-3e064a2d6124"
      },
      "execution_count": 50,
      "outputs": [
        {
          "output_type": "stream",
          "name": "stdout",
          "text": [
            "100\n",
            "0 1 4 "
          ]
        }
      ]
    },
    {
      "cell_type": "code",
      "source": [
        "t = int(input())\n",
        "result = []\n",
        "\n",
        "if t % 10 != 0:\n",
        "  print(-1)\n",
        "else:\n",
        "  result.append(t // 300)\n",
        "  t %= 300\n",
        "  result.append(t // 60)\n",
        "  t %= 60\n",
        "  result.append(t // 10)\n",
        "  for i in result:\n",
        "    print(i, end = ' ')"
      ],
      "metadata": {
        "id": "ncbHoolFcORH",
        "outputId": "dc3b7818-52c2-4cd8-8f61-4b0ca95a3216",
        "colab": {
          "base_uri": "https://localhost:8080/"
        }
      },
      "execution_count": 51,
      "outputs": [
        {
          "output_type": "stream",
          "name": "stdout",
          "text": [
            "100\n",
            "0 1 4 "
          ]
        }
      ]
    }
  ]
}