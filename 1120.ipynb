{
  "cells": [
    {
      "cell_type": "markdown",
      "metadata": {
        "id": "view-in-github",
        "colab_type": "text"
      },
      "source": [
        "<a href=\"https://colab.research.google.com/github/nyunu/BaekJoon/blob/main/1120.ipynb\" target=\"_parent\"><img src=\"https://colab.research.google.com/assets/colab-badge.svg\" alt=\"Open In Colab\"/></a>"
      ]
    },
    {
      "cell_type": "code",
      "source": [
        "a, b = map(str, input().split())\n",
        "cnt = 0\n",
        "cnt_lst = []\n",
        "\n",
        "for i in range(len(b) - len(a) + 1):\n",
        "  new_b = b[i : i + len(a)]\n",
        "  for k in range(len(a)):\n",
        "    if new_b[k] != a[k]:\n",
        "      cnt += 1\n",
        "  cnt_lst.append(cnt)\n",
        "  cnt = 0\n",
        "\n",
        "print(min(cnt_lst))"
      ],
      "metadata": {
        "colab": {
          "base_uri": "https://localhost:8080/"
        },
        "id": "o8EVJ-IvL1RI",
        "outputId": "ebe91683-e189-42cf-c9d3-c81965cf3af9"
      },
      "execution_count": 17,
      "outputs": [
        {
          "output_type": "stream",
          "name": "stdout",
          "text": [
            "hello xello\n",
            "xello\n",
            "1\n"
          ]
        }
      ]
    }
  ],
  "metadata": {
    "colab": {
      "provenance": [],
      "authorship_tag": "ABX9TyNYKkmajq2huYnUpb8ZSM2O",
      "include_colab_link": true
    },
    "kernelspec": {
      "display_name": "Python 3",
      "name": "python3"
    },
    "language_info": {
      "name": "python"
    }
  },
  "nbformat": 4,
  "nbformat_minor": 0
}