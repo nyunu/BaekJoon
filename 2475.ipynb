{
  "nbformat": 4,
  "nbformat_minor": 0,
  "metadata": {
    "colab": {
      "provenance": [],
      "authorship_tag": "ABX9TyPyhi9MizNDY1dpNJ/4cYkY",
      "include_colab_link": true
    },
    "kernelspec": {
      "name": "python3",
      "display_name": "Python 3"
    },
    "language_info": {
      "name": "python"
    }
  },
  "cells": [
    {
      "cell_type": "markdown",
      "metadata": {
        "id": "view-in-github",
        "colab_type": "text"
      },
      "source": [
        "<a href=\"https://colab.research.google.com/github/nyunu/BaekJoon/blob/main/2475.ipynb\" target=\"_parent\"><img src=\"https://colab.research.google.com/assets/colab-badge.svg\" alt=\"Open In Colab\"/></a>"
      ]
    },
    {
      "cell_type": "markdown",
      "source": [
        "* 1"
      ],
      "metadata": {
        "id": "_t9MvGNFjEKu"
      }
    },
    {
      "cell_type": "code",
      "source": [
        "a, b, c, d, e = map(int, input().split())\n",
        "print((a**2 + b**2 + c**2 + d**2 + e**2) % 10)"
      ],
      "metadata": {
        "colab": {
          "base_uri": "https://localhost:8080/"
        },
        "id": "8SLmNeLprMBk",
        "outputId": "a118880b-264c-4221-b3f1-516e2ffde05e"
      },
      "execution_count": 26,
      "outputs": [
        {
          "output_type": "stream",
          "name": "stdout",
          "text": [
            "0 4 2 5 6\n",
            "1\n"
          ]
        }
      ]
    },
    {
      "cell_type": "markdown",
      "source": [
        "* 2"
      ],
      "metadata": {
        "id": "t5u0S6AJjGLD"
      }
    },
    {
      "cell_type": "code",
      "source": [
        "num = list(map(int, input().split()))\n",
        "total = 0\n",
        "\n",
        "for i in num:\n",
        "  total += i**2\n",
        "\n",
        "print(total % 10)"
      ],
      "metadata": {
        "colab": {
          "base_uri": "https://localhost:8080/"
        },
        "id": "G43aOwgEiptL",
        "outputId": "128aed1b-e3c1-4b9b-f4c6-26fff81b2e53"
      },
      "execution_count": 28,
      "outputs": [
        {
          "output_type": "stream",
          "name": "stdout",
          "text": [
            "0 4 2 5 6\n",
            "1\n"
          ]
        }
      ]
    }
  ]
}