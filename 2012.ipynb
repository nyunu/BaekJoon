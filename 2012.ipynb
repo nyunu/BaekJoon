{
  "nbformat": 4,
  "nbformat_minor": 0,
  "metadata": {
    "colab": {
      "provenance": [],
      "authorship_tag": "ABX9TyPOIq66k+fC+UbPYpMJ3RK+",
      "include_colab_link": true
    },
    "kernelspec": {
      "name": "python3",
      "display_name": "Python 3"
    },
    "language_info": {
      "name": "python"
    }
  },
  "cells": [
    {
      "cell_type": "markdown",
      "metadata": {
        "id": "view-in-github",
        "colab_type": "text"
      },
      "source": [
        "<a href=\"https://colab.research.google.com/github/nyunu/BaekJoon/blob/main/2012.ipynb\" target=\"_parent\"><img src=\"https://colab.research.google.com/assets/colab-badge.svg\" alt=\"Open In Colab\"/></a>"
      ]
    },
    {
      "cell_type": "code",
      "source": [
        "n = int(input())\n",
        "lst = [int(input()) for _ in range(n)]\n",
        "num = set(range(1, n + 1)) - set(lst)\n",
        "lst.sort()\n",
        "answer = 0\n",
        "\n",
        "for i in range(n):\n",
        "  answer += abs(lst[i] - (i + 1))\n",
        "\n",
        "print(answer)"
      ],
      "metadata": {
        "colab": {
          "base_uri": "https://localhost:8080/"
        },
        "id": "mED1yVJrloo4",
        "outputId": "abeaab8d-d9ab-4237-9d2c-cee5dbbeb954"
      },
      "execution_count": 57,
      "outputs": [
        {
          "output_type": "stream",
          "name": "stdout",
          "text": [
            "7\n",
            "1\n",
            "3\n",
            "2\n",
            "5\n",
            "6\n",
            "3\n",
            "2\n",
            "6\n"
          ]
        }
      ]
    }
  ]
}