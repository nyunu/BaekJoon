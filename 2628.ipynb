{
  "cells": [
    {
      "cell_type": "markdown",
      "metadata": {
        "id": "view-in-github",
        "colab_type": "text"
      },
      "source": [
        "<a href=\"https://colab.research.google.com/github/nyunu/BaekJoon/blob/main/2628.ipynb\" target=\"_parent\"><img src=\"https://colab.research.google.com/assets/colab-badge.svg\" alt=\"Open In Colab\"/></a>"
      ]
    },
    {
      "cell_type": "code",
      "source": [
        "a, b = map(int, input().split()) # 종이의 크기 (a = 가로, b = 세로)\n",
        "n = int(input()) # 몇번 자를 것인지\n",
        "w_lst = [0, a] # 자르는 점선의 번호 리스트 (가로)\n",
        "l_lst = [0, b] # 자르는 점선의 번호 리스트 (세로)\n",
        "d_w = [] # 각 점선끼리의 거리 리스트 (가로)\n",
        "d_l = [] # 각 점선끼리의 거리 리스트 (세로)\n",
        "\n",
        "for _ in range(n):\n",
        "  w, l = map(int, input().split()) # 자르는 횟수만큼 입력받아\n",
        "  if w == 0:\n",
        "    l_lst.append(l) # 세로 점선 번호 저장\n",
        "  else:\n",
        "    w_lst.append(l) # 가로 점선 번호 저장\n",
        "\n",
        "l_lst = sorted(l_lst) # 번호 순 정렬\n",
        "w_lst = sorted(w_lst)\n",
        "\n",
        "for i in range(len(l_lst) - 1): # 각 점선 간의 길이 구하기\n",
        "  d_l.append(abs(l_lst[i] - l_lst[i + 1]))\n",
        "\n",
        "for i in range(len(w_lst) - 1): # 각 점선 간의 길이 구하기\n",
        "  d_w.append(abs(w_lst[i] - w_lst[i + 1]))\n",
        "\n",
        "print(max(d_w) * max(d_l)) # 각 리스트에서 가장 큰 값들끼리 곱하여 넓이 계산"
      ],
      "metadata": {
        "colab": {
          "base_uri": "https://localhost:8080/"
        },
        "id": "T4Ckfpn7-JkB",
        "outputId": "33c91ce7-f429-4d37-829e-4319e81f8979"
      },
      "execution_count": 71,
      "outputs": [
        {
          "output_type": "stream",
          "name": "stdout",
          "text": [
            "10 8\n",
            "3\n",
            "1 4\n",
            "0 3\n",
            "0 2\n",
            "30\n"
          ]
        }
      ]
    }
  ],
  "metadata": {
    "colab": {
      "provenance": [],
      "authorship_tag": "ABX9TyP080RNm/vSHlpVzERpQr1a",
      "include_colab_link": true
    },
    "kernelspec": {
      "display_name": "Python 3",
      "name": "python3"
    },
    "language_info": {
      "name": "python"
    }
  },
  "nbformat": 4,
  "nbformat_minor": 0
}