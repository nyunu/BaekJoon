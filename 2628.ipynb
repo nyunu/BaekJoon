{
  "cells": [
    {
      "cell_type": "markdown",
      "metadata": {
        "id": "view-in-github",
        "colab_type": "text"
      },
      "source": [
        "<a href=\"https://colab.research.google.com/github/nyunu/BaekJoon/blob/main/2628.ipynb\" target=\"_parent\"><img src=\"https://colab.research.google.com/assets/colab-badge.svg\" alt=\"Open In Colab\"/></a>"
      ]
    },
    {
      "cell_type": "code",
      "source": [
        "a, b = map(int, input().split())\n",
        "n = int(input())\n",
        "w_lst = [0, a]\n",
        "l_lst = [0, b]\n",
        "d_w = []\n",
        "d_l = []\n",
        "\n",
        "for _ in range(n):\n",
        "  w, l = map(int, input().split())\n",
        "  if w == 0:\n",
        "    l_lst.append(l)\n",
        "  else:\n",
        "    w_lst.append(l)\n",
        "\n",
        "l_lst = sorted(l_lst)\n",
        "w_lst = sorted(w_lst)\n",
        "\n",
        "for i in range(len(l_lst) - 1):\n",
        "  d_l.append(abs(l_lst[i] - l_lst[i + 1]))\n",
        "\n",
        "for i in range(len(w_lst) - 1):\n",
        "  d_w.append(abs(w_lst[i] - w_lst[i + 1]))\n",
        "\n",
        "print(max(d_w) * max(d_l))"
      ],
      "metadata": {
        "colab": {
          "base_uri": "https://localhost:8080/"
        },
        "id": "T4Ckfpn7-JkB",
        "outputId": "33c91ce7-f429-4d37-829e-4319e81f8979"
      },
      "execution_count": 71,
      "outputs": [
        {
          "output_type": "stream",
          "name": "stdout",
          "text": [
            "10 8\n",
            "3\n",
            "1 4\n",
            "0 3\n",
            "0 2\n",
            "30\n"
          ]
        }
      ]
    }
  ],
  "metadata": {
    "colab": {
      "provenance": [],
      "authorship_tag": "ABX9TyMpCY0SEgn64jvrR7lthT6K",
      "include_colab_link": true
    },
    "kernelspec": {
      "display_name": "Python 3",
      "name": "python3"
    },
    "language_info": {
      "name": "python"
    }
  },
  "nbformat": 4,
  "nbformat_minor": 0
}