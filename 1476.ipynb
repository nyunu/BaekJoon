{
  "cells": [
    {
      "cell_type": "markdown",
      "metadata": {
        "id": "view-in-github",
        "colab_type": "text"
      },
      "source": [
        "<a href=\"https://colab.research.google.com/github/nyunu/BaekJoon/blob/main/1476.ipynb\" target=\"_parent\"><img src=\"https://colab.research.google.com/assets/colab-badge.svg\" alt=\"Open In Colab\"/></a>"
      ]
    },
    {
      "cell_type": "markdown",
      "source": [
        "* 풀이 1"
      ],
      "metadata": {
        "id": "rHCGRfypWgdN"
      }
    },
    {
      "cell_type": "code",
      "source": [
        "e, s, m = map(int, input().split())\n",
        "\n",
        "lst_e = [e]\n",
        "lst_s = [s]\n",
        "lst_m = [m]\n",
        "\n",
        "while True:\n",
        "  if e in lst_m: # e의 값이 가장 더디게 증가하기 때문에 e의 값을 사용하여 값의 유무를 확인\n",
        "    if e in lst_s:\n",
        "      print(e)\n",
        "      break;\n",
        "\n",
        "  e += 15 # 각 범위만큼씩 더해주고\n",
        "  s += 28\n",
        "  m += 19\n",
        "\n",
        "  lst_e.append(e) # 그 값들을 각 리스트에 넣어줌\n",
        "  lst_s.append(s) # -> 모든 리스트에 해당 값이 존재할 때 while문을 break\n",
        "  lst_m.append(m)\n",
        "\n"
      ],
      "metadata": {
        "colab": {
          "base_uri": "https://localhost:8080/"
        },
        "id": "9kOxRAmPPXrD",
        "outputId": "c871b9ad-49ca-4010-b2b8-c1e1c6f9afc4"
      },
      "execution_count": 25,
      "outputs": [
        {
          "output_type": "stream",
          "name": "stdout",
          "text": [
            "15 28 19\n",
            "7980\n"
          ]
        }
      ]
    },
    {
      "cell_type": "markdown",
      "source": [
        "* 풀이 2"
      ],
      "metadata": {
        "id": "B8QKpmV5Wi3f"
      }
    },
    {
      "cell_type": "code",
      "source": [
        "# e, s, m은 우리가 실행할 값\n",
        "e, s, m, year = 1, 1, 1, 1\n",
        "# i_e, i_s, i_m은 입력받은 값\n",
        "i_e, i_s, i_m = map(int,input().split())\n",
        "\n",
        "while True:\n",
        "  if e == i_e and s == i_s and m == i_m: # 값을 1씩 더해가며 실행한 결과가 입력받은 값과 같을 때까지\n",
        "    print(year)\n",
        "    break;\n",
        "  \n",
        "  e += 1 \n",
        "  s += 1\n",
        "  m += 1\n",
        "  year += 1\n",
        "\n",
        "  if e >= 16 : e -= 15 # 각 범위에 맞게 값조정\n",
        "  if s >= 29 : s -= 28\n",
        "  if m >= 20 : m -= 19"
      ],
      "metadata": {
        "colab": {
          "base_uri": "https://localhost:8080/"
        },
        "id": "gDRtt-s4VFMv",
        "outputId": "a335c42d-a6f0-403c-bd58-279b1fc03847"
      },
      "execution_count": 26,
      "outputs": [
        {
          "output_type": "stream",
          "name": "stdout",
          "text": [
            "15 28 19\n",
            "7980\n"
          ]
        }
      ]
    }
  ],
  "metadata": {
    "colab": {
      "provenance": [],
      "authorship_tag": "ABX9TyP4HmPBc02tLweRpnFoKwAw",
      "include_colab_link": true
    },
    "kernelspec": {
      "display_name": "Python 3",
      "name": "python3"
    },
    "language_info": {
      "name": "python"
    }
  },
  "nbformat": 4,
  "nbformat_minor": 0
}