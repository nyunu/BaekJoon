{
  "nbformat": 4,
  "nbformat_minor": 0,
  "metadata": {
    "colab": {
      "provenance": [],
      "authorship_tag": "ABX9TyOwnHmwLmaGVHiB2+80GEyG",
      "include_colab_link": true
    },
    "kernelspec": {
      "name": "python3",
      "display_name": "Python 3"
    },
    "language_info": {
      "name": "python"
    }
  },
  "cells": [
    {
      "cell_type": "markdown",
      "metadata": {
        "id": "view-in-github",
        "colab_type": "text"
      },
      "source": [
        "<a href=\"https://colab.research.google.com/github/nyunu/BaekJoon/blob/main/1100.ipynb\" target=\"_parent\"><img src=\"https://colab.research.google.com/assets/colab-badge.svg\" alt=\"Open In Colab\"/></a>"
      ]
    },
    {
      "cell_type": "code",
      "source": [
        "total = 0\n",
        "\n",
        "for i in range(8):\n",
        "  word = list(input())\n",
        "  i += 1\n",
        "  if i % 2 != 0 :\n",
        "    for t in range(len(word)):\n",
        "      if ((t + 1) % 2 != 0) & (word[t] == \"F\"):\n",
        "        total += 1\n",
        "  else :\n",
        "    for t in range(len(word)):\n",
        "      if (t % 2 != 0) & (word[t] == \"F\"):\n",
        "        total += 1\n",
        "\n",
        "print(total)"
      ],
      "metadata": {
        "colab": {
          "base_uri": "https://localhost:8080/"
        },
        "id": "kbh4ibdY5bMC",
        "outputId": "2fa91da4-44b4-4453-ebfa-2fc1c024b811"
      },
      "execution_count": 5,
      "outputs": [
        {
          "output_type": "stream",
          "name": "stdout",
          "text": [
            ".F.F...F\n",
            "F...F.F.\n",
            "...F.F.F\n",
            "F.F...F.\n",
            ".F...F..\n",
            "F...F.F.\n",
            ".F.F.F.F\n",
            "..FF..F.\n",
            "1\n"
          ]
        }
      ]
    },
    {
      "cell_type": "code",
      "source": [
        "import sys\n",
        "\n",
        "board = []\n",
        "\n",
        "for i in range(8):\n",
        "  board.append(list(map(str, input())))\n",
        "\n",
        "total = 0\n",
        "for i in range(8):\n",
        "  for j in range(8):\n",
        "    if (i + j) % 2 == 0 :\n",
        "      if board[i][j] == \"F\":\n",
        "        total += 1\n",
        "\n",
        "print(total)"
      ],
      "metadata": {
        "colab": {
          "base_uri": "https://localhost:8080/"
        },
        "id": "ltvUqDBt93Wq",
        "outputId": "640f51e6-1c9c-4d56-8baf-e18d8ea900c0"
      },
      "execution_count": 8,
      "outputs": [
        {
          "output_type": "stream",
          "name": "stdout",
          "text": [
            ".F.F...F\n",
            "F...F.F.\n",
            "...F.F.F\n",
            "F.F...F.\n",
            ".F...F..\n",
            "F...F.F.\n",
            ".F.F.F.F\n",
            "..FF..F.\n",
            "1\n"
          ]
        }
      ]
    }
  ]
}