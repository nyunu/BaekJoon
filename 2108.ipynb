{
  "nbformat": 4,
  "nbformat_minor": 0,
  "metadata": {
    "colab": {
      "provenance": [],
      "authorship_tag": "ABX9TyO//oYpxOQPG2bSZ2uYj5Kf",
      "include_colab_link": true
    },
    "kernelspec": {
      "name": "python3",
      "display_name": "Python 3"
    },
    "language_info": {
      "name": "python"
    }
  },
  "cells": [
    {
      "cell_type": "markdown",
      "metadata": {
        "id": "view-in-github",
        "colab_type": "text"
      },
      "source": [
        "<a href=\"https://colab.research.google.com/github/nyunu/BaekJoon/blob/main/2108.ipynb\" target=\"_parent\"><img src=\"https://colab.research.google.com/assets/colab-badge.svg\" alt=\"Open In Colab\"/></a>"
      ]
    },
    {
      "cell_type": "code",
      "source": [
        "n = int(input())\n",
        "num_lst = [int(input()) for _ in range(n)]\n",
        "num_lst.sort()\n",
        "\n",
        "print(round(sum(num_lst) / n))\n",
        "print(num_lst[len(num_lst) // 2])\n",
        "\n",
        "dic = dict()\n",
        "for i in num_lst:\n",
        "  if i not in dic:\n",
        "    dic[i] = 1\n",
        "  else:\n",
        "    dic[i] += 1\n",
        "dic = sorted(dic.items(), key= lambda item : (-item[1], item[0]))\n",
        "\n",
        "if n > 1 and dic[1][1] == dic[0][1]:\n",
        "  print(dic[1][0])\n",
        "else:\n",
        "  print(dic[0][0])\n",
        "\n",
        "print(num_lst[-1] - num_lst[0])"
      ],
      "metadata": {
        "colab": {
          "base_uri": "https://localhost:8080/"
        },
        "id": "CBE4XfnCr2Ww",
        "outputId": "c166ac3d-d456-4f6d-c612-55fd8f7f428c"
      },
      "execution_count": 20,
      "outputs": [
        {
          "output_type": "stream",
          "name": "stdout",
          "text": [
            "-2\n",
            "-2\n",
            "-1\n",
            "2\n"
          ]
        }
      ]
    }
  ]
}