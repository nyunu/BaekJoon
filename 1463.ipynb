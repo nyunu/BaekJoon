{
  "nbformat": 4,
  "nbformat_minor": 0,
  "metadata": {
    "colab": {
      "provenance": [],
      "authorship_tag": "ABX9TyMls2S0Mwn5tbInwiPZhsDb",
      "include_colab_link": true
    },
    "kernelspec": {
      "name": "python3",
      "display_name": "Python 3"
    },
    "language_info": {
      "name": "python"
    }
  },
  "cells": [
    {
      "cell_type": "markdown",
      "metadata": {
        "id": "view-in-github",
        "colab_type": "text"
      },
      "source": [
        "<a href=\"https://colab.research.google.com/github/nyunu/BaekJoon/blob/main/1463.ipynb\" target=\"_parent\"><img src=\"https://colab.research.google.com/assets/colab-badge.svg\" alt=\"Open In Colab\"/></a>"
      ]
    },
    {
      "cell_type": "code",
      "source": [
        "n = int(input())\n",
        "dp = [0] * (n + 1)\n",
        "\n",
        "for i in range(2, n + 1):\n",
        "  if (i % 2 != 0) & (i % 3 != 0):\n",
        "    dp[i] = dp[i - 1] + 1\n",
        "  else:\n",
        "    if i % 2 == 0:\n",
        "      result2 = dp[i//2]\n",
        "    else:\n",
        "      result2 = 1000000\n",
        "    if i % 3 == 0:\n",
        "      result3 = dp[i//3]\n",
        "    else:\n",
        "      result3 = 1000000\n",
        "    resultotw = dp[i - 1]\n",
        "    dp[i] = min(result2, result3, resultotw) + 1\n",
        "\n",
        "print(dp[n])"
      ],
      "metadata": {
        "colab": {
          "base_uri": "https://localhost:8080/"
        },
        "id": "3Vt_MndhUIrC",
        "outputId": "2e11bb88-bf34-4a33-ee60-e043f57b56ce"
      },
      "execution_count": 37,
      "outputs": [
        {
          "output_type": "stream",
          "name": "stdout",
          "text": [
            "11\n",
            "4\n"
          ]
        }
      ]
    }
  ]
}