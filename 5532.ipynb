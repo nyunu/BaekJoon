{
  "nbformat": 4,
  "nbformat_minor": 0,
  "metadata": {
    "colab": {
      "provenance": [],
      "authorship_tag": "ABX9TyPAr4K0/7Is6q9FAmz9UkeT",
      "include_colab_link": true
    },
    "kernelspec": {
      "name": "python3",
      "display_name": "Python 3"
    },
    "language_info": {
      "name": "python"
    }
  },
  "cells": [
    {
      "cell_type": "markdown",
      "metadata": {
        "id": "view-in-github",
        "colab_type": "text"
      },
      "source": [
        "<a href=\"https://colab.research.google.com/github/nyunu/BaekJoon/blob/main/5532.ipynb\" target=\"_parent\"><img src=\"https://colab.research.google.com/assets/colab-badge.svg\" alt=\"Open In Colab\"/></a>"
      ]
    },
    {
      "cell_type": "code",
      "source": [
        "import math\n",
        "\n",
        "L = int(input()) # 방학 날 수\n",
        "A = int(input()) # 국어 풀어야 하는\n",
        "B = int(input()) # 수학풀어야 하는\n",
        "C = int(input()) # 하루에 국어 풀 수 있는\n",
        "D = int(input()) # 하루에 수학 풀 수 있는\n",
        "\n",
        "print(L - max(math.ceil(A / C), math.ceil(B / D)))"
      ],
      "metadata": {
        "colab": {
          "base_uri": "https://localhost:8080/"
        },
        "id": "vGs8qB97GwPB",
        "outputId": "66edd52a-8c13-4ebd-9e3a-3c38e1f074f4"
      },
      "execution_count": 14,
      "outputs": [
        {
          "output_type": "stream",
          "name": "stdout",
          "text": [
            "15\n",
            "32\n",
            "48\n",
            "4\n",
            "6\n",
            "7\n"
          ]
        }
      ]
    }
  ]
}