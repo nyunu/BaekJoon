{
  "nbformat": 4,
  "nbformat_minor": 0,
  "metadata": {
    "colab": {
      "provenance": [],
      "authorship_tag": "ABX9TyOok6iaULobQ52paw+23Py+",
      "include_colab_link": true
    },
    "kernelspec": {
      "name": "python3",
      "display_name": "Python 3"
    },
    "language_info": {
      "name": "python"
    }
  },
  "cells": [
    {
      "cell_type": "markdown",
      "metadata": {
        "id": "view-in-github",
        "colab_type": "text"
      },
      "source": [
        "<a href=\"https://colab.research.google.com/github/nyunu/BaekJoon/blob/main/%EC%A3%BC%EC%8B%9D%EA%B0%80%EA%B2%A9.ipynb\" target=\"_parent\"><img src=\"https://colab.research.google.com/assets/colab-badge.svg\" alt=\"Open In Colab\"/></a>"
      ]
    },
    {
      "cell_type": "markdown",
      "source": [
        "- 함수 사용 자제하기 ,,\n"
      ],
      "metadata": {
        "id": "Dy5tt2zQKRwS"
      }
    },
    {
      "cell_type": "code",
      "execution_count": null,
      "metadata": {
        "id": "NlaC-hMpGhMd"
      },
      "outputs": [],
      "source": [
        "def solution(prices):\n",
        "    answer = []\n",
        "    n = len(prices)\n",
        "    for i in range(n - 1):\n",
        "        num = prices[i]\n",
        "        cnt = 0\n",
        "        for j in prices[i + 1:]:\n",
        "            cnt += 1\n",
        "            if num > j:\n",
        "                break\n",
        "        answer.append(cnt)\n",
        "    answer.append(0)\n",
        "    return answer"
      ]
    },
    {
      "cell_type": "code",
      "source": [
        "from collections import deque\n",
        "\n",
        "def solution(prices):\n",
        "    n = len(prices)\n",
        "    answer = [0 for _ in range(n)]\n",
        "    for i in range(n - 1):\n",
        "        num = prices[i]\n",
        "        for j in range(i + 1, n):\n",
        "            answer[i] += 1\n",
        "            if num > prices[j]:\n",
        "                break\n",
        "    return answer"
      ],
      "metadata": {
        "id": "OjOXQhvFKNdc"
      },
      "execution_count": null,
      "outputs": []
    }
  ]
}