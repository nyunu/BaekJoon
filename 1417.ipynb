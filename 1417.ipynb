{
  "cells": [
    {
      "cell_type": "markdown",
      "metadata": {
        "id": "view-in-github",
        "colab_type": "text"
      },
      "source": [
        "<a href=\"https://colab.research.google.com/github/nyunu/BaekJoon/blob/main/1417.ipynb\" target=\"_parent\"><img src=\"https://colab.research.google.com/assets/colab-badge.svg\" alt=\"Open In Colab\"/></a>"
      ]
    },
    {
      "cell_type": "code",
      "source": [
        "n = int(input())\n",
        "dasom = int(input())\n",
        "lst = []\n",
        "cnt = 0\n",
        "\n",
        "for _ in range(n - 1):\n",
        "  lst.append(int(input()))\n",
        "lst.sort(reverse=True)\n",
        "\n",
        "if n == 1:\n",
        "  print(0)\n",
        "else:\n",
        "  while lst[0] >= dasom:\n",
        "    lst[0] -= 1\n",
        "    dasom += 1\n",
        "    cnt += 1\n",
        "    lst.sort(reverse=True)\n",
        "  print(cnt)"
      ],
      "metadata": {
        "colab": {
          "base_uri": "https://localhost:8080/"
        },
        "id": "mzRX2SoLd4NX",
        "outputId": "213c4f09-57c2-4a9f-cdf9-e887c7a0a4aa"
      },
      "execution_count": 34,
      "outputs": [
        {
          "output_type": "stream",
          "name": "stdout",
          "text": [
            "3\n",
            "5\n",
            "7\n",
            "7\n",
            "2\n"
          ]
        }
      ]
    }
  ],
  "metadata": {
    "colab": {
      "provenance": [],
      "authorship_tag": "ABX9TyNSinqRekGQz1ai7kBgmJ0j",
      "include_colab_link": true
    },
    "kernelspec": {
      "display_name": "Python 3",
      "name": "python3"
    },
    "language_info": {
      "name": "python"
    }
  },
  "nbformat": 4,
  "nbformat_minor": 0
}