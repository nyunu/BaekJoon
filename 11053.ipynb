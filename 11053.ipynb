{
  "nbformat": 4,
  "nbformat_minor": 0,
  "metadata": {
    "colab": {
      "provenance": [],
      "authorship_tag": "ABX9TyOqzRQZenDaGBHo6eDMt6iD",
      "include_colab_link": true
    },
    "kernelspec": {
      "name": "python3",
      "display_name": "Python 3"
    },
    "language_info": {
      "name": "python"
    }
  },
  "cells": [
    {
      "cell_type": "markdown",
      "metadata": {
        "id": "view-in-github",
        "colab_type": "text"
      },
      "source": [
        "<a href=\"https://colab.research.google.com/github/nyunu/BaekJoon/blob/main/11053.ipynb\" target=\"_parent\"><img src=\"https://colab.research.google.com/assets/colab-badge.svg\" alt=\"Open In Colab\"/></a>"
      ]
    },
    {
      "cell_type": "code",
      "execution_count": 3,
      "metadata": {
        "colab": {
          "base_uri": "https://localhost:8080/"
        },
        "id": "JVc-gI-HxRia",
        "outputId": "774ea1b1-3f15-4321-bd54-346e1c60a2ad"
      },
      "outputs": [
        {
          "output_type": "stream",
          "name": "stdout",
          "text": [
            "6\n",
            "10 20 10 30 20 50\n",
            "4\n"
          ]
        }
      ],
      "source": [
        "n = int(input())\n",
        "arr = list(map(int, input().split()))\n",
        "dp = [0] * n\n",
        "\n",
        "for i in range(n):\n",
        "  for j in range(i):\n",
        "    if arr[j] < arr[i] and dp[j] > dp[i]:\n",
        "      dp[i] = dp[j]\n",
        "  dp[i] += 1\n",
        "\n",
        "print(max(dp))"
      ]
    }
  ]
}