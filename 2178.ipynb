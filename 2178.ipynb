{
  "nbformat": 4,
  "nbformat_minor": 0,
  "metadata": {
    "colab": {
      "provenance": [],
      "authorship_tag": "ABX9TyMiGl7vu3wkYUz5udFK65FY",
      "include_colab_link": true
    },
    "kernelspec": {
      "name": "python3",
      "display_name": "Python 3"
    },
    "language_info": {
      "name": "python"
    }
  },
  "cells": [
    {
      "cell_type": "markdown",
      "metadata": {
        "id": "view-in-github",
        "colab_type": "text"
      },
      "source": [
        "<a href=\"https://colab.research.google.com/github/nyunu/BaekJoon/blob/main/2178.ipynb\" target=\"_parent\"><img src=\"https://colab.research.google.com/assets/colab-badge.svg\" alt=\"Open In Colab\"/></a>"
      ]
    },
    {
      "cell_type": "code",
      "source": [
        "from collections import deque\n",
        "\n",
        "n, m = map(int, input().split())\n",
        "arr = []\n",
        "\n",
        "for _ in range(n):\n",
        "  ipt = list(map(int, list(input())))\n",
        "  arr.append(ipt)\n",
        "\n",
        "visit = [[False for _ in range(m)] for _ in range(n)]\n",
        "\n",
        "\n",
        "dx = [0, 0, 1, -1]\n",
        "dy = [-1, 1, 0, 0]\n",
        "\n",
        "def bfs(x, y):\n",
        "  queue = deque()\n",
        "  queue.append((x, y))\n",
        "\n",
        "  while queue:\n",
        "    x, y = queue.popleft()\n",
        "    for i in range(len(dx)):\n",
        "      nx = x + dx[i]\n",
        "      ny = y + dy[i]\n",
        "      if 0 <= nx < n and 0 <= ny < m and arr[nx][ny] == 1:\n",
        "        arr[nx][ny] = arr[x][y] + 1\n",
        "        queue.append((nx, ny))\n",
        "\n",
        "  return arr[n-1][m-1]\n",
        "\n",
        "print(bfs(0,0))"
      ],
      "metadata": {
        "colab": {
          "base_uri": "https://localhost:8080/"
        },
        "id": "5iNOZSaYk1Ni",
        "outputId": "bce88f43-f911-49b6-c23a-c50b17014830"
      },
      "execution_count": 91,
      "outputs": [
        {
          "name": "stdout",
          "output_type": "stream",
          "text": [
            "4 6\n",
            "110110\n",
            "110110\n",
            "111111\n",
            "111101\n"
          ]
        }
      ]
    },
    {
      "cell_type": "code",
      "source": [
        "bfs(0,0)"
      ],
      "metadata": {
        "colab": {
          "base_uri": "https://localhost:8080/"
        },
        "id": "MCyptCwSvcOR",
        "outputId": "a3a6ec9f-0c78-4d02-fd99-24d329fb3b6c"
      },
      "execution_count": 94,
      "outputs": [
        {
          "output_type": "execute_result",
          "data": {
            "text/plain": [
              "9"
            ]
          },
          "metadata": {},
          "execution_count": 94
        }
      ]
    }
  ]
}