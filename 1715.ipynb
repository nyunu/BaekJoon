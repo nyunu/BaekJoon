{
  "nbformat": 4,
  "nbformat_minor": 0,
  "metadata": {
    "colab": {
      "provenance": [],
      "authorship_tag": "ABX9TyOTDjAFFEnPZb/K3ZqzJN7A",
      "include_colab_link": true
    },
    "kernelspec": {
      "name": "python3",
      "display_name": "Python 3"
    },
    "language_info": {
      "name": "python"
    }
  },
  "cells": [
    {
      "cell_type": "markdown",
      "metadata": {
        "id": "view-in-github",
        "colab_type": "text"
      },
      "source": [
        "<a href=\"https://colab.research.google.com/github/nyunu/BaekJoon/blob/main/1715.ipynb\" target=\"_parent\"><img src=\"https://colab.research.google.com/assets/colab-badge.svg\" alt=\"Open In Colab\"/></a>"
      ]
    },
    {
      "cell_type": "code",
      "source": [
        "import heapq\n",
        "\n",
        "n = int(input())\n",
        "pq = []\n",
        "\n",
        "for _ in range(n):\n",
        "  ipt = int(input())\n",
        "  heapq.heappush(pq, ipt)\n",
        "\n",
        "summ = 0\n",
        "while len(pq) > 1:\n",
        "  m1 = heapq.heappop(pq)\n",
        "  m2 = heapq.heappop(pq)\n",
        "  summ += (m1 + m2)\n",
        "  heapq.heappush(pq, m1 + m2)\n",
        "\n",
        "print(summ)"
      ],
      "metadata": {
        "colab": {
          "base_uri": "https://localhost:8080/"
        },
        "id": "M3ZYBho6Y0sl",
        "outputId": "5275b513-7e7f-4dfd-927c-3c492ce5c120"
      },
      "execution_count": 8,
      "outputs": [
        {
          "output_type": "stream",
          "name": "stdout",
          "text": [
            "3\n",
            "10\n",
            "20\n",
            "40\n",
            "100\n"
          ]
        }
      ]
    }
  ]
}