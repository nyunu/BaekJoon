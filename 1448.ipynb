{
  "nbformat": 4,
  "nbformat_minor": 0,
  "metadata": {
    "colab": {
      "provenance": [],
      "authorship_tag": "ABX9TyMnJDzKVSGaWJoO+neRn6k/",
      "include_colab_link": true
    },
    "kernelspec": {
      "name": "python3",
      "display_name": "Python 3"
    },
    "language_info": {
      "name": "python"
    }
  },
  "cells": [
    {
      "cell_type": "markdown",
      "metadata": {
        "id": "view-in-github",
        "colab_type": "text"
      },
      "source": [
        "<a href=\"https://colab.research.google.com/github/nyunu/BaekJoon/blob/main/1448.ipynb\" target=\"_parent\"><img src=\"https://colab.research.google.com/assets/colab-badge.svg\" alt=\"Open In Colab\"/></a>"
      ]
    },
    {
      "cell_type": "code",
      "source": [
        "import sys\n",
        "input = sys.stdin.readline\n",
        "\n",
        "n = int(input())\n",
        "tri = [int(input()) for _ in range(n)]\n",
        "tri.sort(reverse = True)\n",
        "\n",
        "for i in range(n - 2):\n",
        "  if tri[i] < tri[i + 1] + tri[i + 2]:\n",
        "    print(tri[i] + tri[i + 1] + tri[i + 2])\n",
        "    break;\n",
        "else:\n",
        "  print(-1)"
      ],
      "metadata": {
        "colab": {
          "base_uri": "https://localhost:8080/"
        },
        "id": "jfM4GFk0pptE",
        "outputId": "2c77f769-0da9-403d-dbb2-b69acecd3ffa"
      },
      "execution_count": 27,
      "outputs": [
        {
          "output_type": "stream",
          "name": "stdout",
          "text": [
            "5\n",
            "4\n",
            "5\n",
            "6\n",
            "7\n",
            "20\n",
            "18\n"
          ]
        }
      ]
    }
  ]
}