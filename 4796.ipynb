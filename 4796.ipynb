{
  "nbformat": 4,
  "nbformat_minor": 0,
  "metadata": {
    "colab": {
      "provenance": [],
      "authorship_tag": "ABX9TyNGXbhyBfSp0BZjsheMuulu",
      "include_colab_link": true
    },
    "kernelspec": {
      "name": "python3",
      "display_name": "Python 3"
    },
    "language_info": {
      "name": "python"
    }
  },
  "cells": [
    {
      "cell_type": "markdown",
      "metadata": {
        "id": "view-in-github",
        "colab_type": "text"
      },
      "source": [
        "<a href=\"https://colab.research.google.com/github/nyunu/BaekJoon/blob/main/4796.ipynb\" target=\"_parent\"><img src=\"https://colab.research.google.com/assets/colab-badge.svg\" alt=\"Open In Colab\"/></a>"
      ]
    },
    {
      "cell_type": "code",
      "source": [
        "i = 1\n",
        "while True:\n",
        "  l, p, v = map(int, input().split())\n",
        "\n",
        "  if l == 0 and p == 0 and v == 0:\n",
        "    break;\n",
        "\n",
        "  result = (v // p) * l\n",
        "  result_rest = v % p\n",
        "\n",
        "  if result_rest <= l:\n",
        "    print(f\"Case {i}: {result + result_rest}\")\n",
        "  else:\n",
        "    print(f\"Case {i}: {result + l}\")\n",
        "  i += 1"
      ],
      "metadata": {
        "colab": {
          "base_uri": "https://localhost:8080/"
        },
        "id": "_NW5z8NUMK6v",
        "outputId": "63ced57e-d4e8-41b8-f9e9-ddd8008ebb64"
      },
      "execution_count": 6,
      "outputs": [
        {
          "name": "stdout",
          "output_type": "stream",
          "text": [
            "5 8 20\n",
            "Case 1: 14\n",
            "5 8 17\n",
            "Case 2: 11\n",
            "0 0 0\n"
          ]
        }
      ]
    }
  ]
}