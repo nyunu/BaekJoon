{
  "cells": [
    {
      "cell_type": "markdown",
      "metadata": {
        "id": "view-in-github",
        "colab_type": "text"
      },
      "source": [
        "<a href=\"https://colab.research.google.com/github/nyunu/BaekJoon/blob/main/2729.ipynb\" target=\"_parent\"><img src=\"https://colab.research.google.com/assets/colab-badge.svg\" alt=\"Open In Colab\"/></a>"
      ]
    },
    {
      "cell_type": "markdown",
      "source": [
        "* int(문자열, 2) : 2진수 -> 10진수 변환 (2 -> 8, 16 대체가능)\n",
        "* bin(10진수) : 10진수 -> 2진수 변환\n",
        "* oct(10진수) : 10진수 -> 8진수 변환\n",
        "* hex(10진수) : 10진수 -> 16진수 변환\n"
      ],
      "metadata": {
        "id": "8tpi0v_ZxJy4"
      }
    },
    {
      "cell_type": "code",
      "source": [
        "t = int(input())\n",
        "\n",
        "for _ in range(t):\n",
        "  a, b = input().split()\n",
        "  a = int(a, 2)\n",
        "  b = int(b, 2)\n",
        "  print(bin(a + b).replace(\"0b\",\"\").strip())"
      ],
      "metadata": {
        "colab": {
          "base_uri": "https://localhost:8080/"
        },
        "id": "8EfV1GWioJhF",
        "outputId": "efa03aa5-5edd-4742-a2d6-fab8a0085c54"
      },
      "execution_count": 22,
      "outputs": [
        {
          "output_type": "stream",
          "name": "stdout",
          "text": [
            "3\n",
            "1001101 10010\n",
            "1011111\n",
            "1001001 11001\n",
            "1100010\n",
            "1000111 1010110\n",
            "10011101\n"
          ]
        }
      ]
    }
  ],
  "metadata": {
    "colab": {
      "provenance": [],
      "authorship_tag": "ABX9TyNMeXIYs3j/3EQLVBPELVNK",
      "include_colab_link": true
    },
    "kernelspec": {
      "display_name": "Python 3",
      "name": "python3"
    },
    "language_info": {
      "name": "python"
    }
  },
  "nbformat": 4,
  "nbformat_minor": 0
}