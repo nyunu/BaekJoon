{
  "nbformat": 4,
  "nbformat_minor": 0,
  "metadata": {
    "colab": {
      "provenance": [],
      "authorship_tag": "ABX9TyNzI2B3bEbtQ4D4WxSjpU/p",
      "include_colab_link": true
    },
    "kernelspec": {
      "name": "python3",
      "display_name": "Python 3"
    },
    "language_info": {
      "name": "python"
    }
  },
  "cells": [
    {
      "cell_type": "markdown",
      "metadata": {
        "id": "view-in-github",
        "colab_type": "text"
      },
      "source": [
        "<a href=\"https://colab.research.google.com/github/nyunu/BaekJoon/blob/main/1267.ipynb\" target=\"_parent\"><img src=\"https://colab.research.google.com/assets/colab-badge.svg\" alt=\"Open In Colab\"/></a>"
      ]
    },
    {
      "cell_type": "code",
      "source": [
        "n = int(input())\n",
        "time = list(map(int, input().split()))\n",
        "\n",
        "sum_y = 0\n",
        "sum_m = 0\n",
        "\n",
        "for i in time:\n",
        "  sum_y += ((i // 30) + 1) * 10\n",
        "  sum_m += ((i // 60) + 1) * 15\n",
        "\n",
        "if sum_y > sum_m :\n",
        "  print(\"M\", sum_m)\n",
        "elif sum_y < sum_m :\n",
        "  print(\"Y\", sum_y)\n",
        "else:\n",
        "  print(\"Y\", \"M\", sum_y)"
      ],
      "metadata": {
        "colab": {
          "base_uri": "https://localhost:8080/"
        },
        "id": "vGs8qB97GwPB",
        "outputId": "9fbd5368-cc7c-4e0d-9a42-191b20aac0ec"
      },
      "execution_count": 14,
      "outputs": [
        {
          "output_type": "stream",
          "name": "stdout",
          "text": [
            "3\n",
            "40 40 40\n",
            "M 45\n"
          ]
        }
      ]
    }
  ]
}