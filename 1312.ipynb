{
  "cells": [
    {
      "cell_type": "markdown",
      "metadata": {
        "id": "view-in-github",
        "colab_type": "text"
      },
      "source": [
        "<a href=\"https://colab.research.google.com/github/nyunu/BaekJoon/blob/main/1312.ipynb\" target=\"_parent\"><img src=\"https://colab.research.google.com/assets/colab-badge.svg\" alt=\"Open In Colab\"/></a>"
      ]
    },
    {
      "cell_type": "markdown",
      "source": [
        "* 시간 초과 코드"
      ],
      "metadata": {
        "id": "PH5fsJo3Y3Nh"
      }
    },
    {
      "cell_type": "code",
      "source": [
        "a, b, n = map(int, input().split())\n",
        "result = list(str(a / b))\n",
        "idx = result.index(\".\")\n",
        "if (idx + n) >= len(result) - 1:\n",
        "  print(0)\n",
        "else:\n",
        "  print(result[idx + n])"
      ],
      "metadata": {
        "colab": {
          "base_uri": "https://localhost:8080/"
        },
        "id": "6m4gMBa1Em4I",
        "outputId": "efc0fe51-1d01-4633-c44a-f852d82b1135"
      },
      "execution_count": 6,
      "outputs": [
        {
          "output_type": "stream",
          "name": "stdout",
          "text": [
            "25 7 5\n",
            "2\n"
          ]
        }
      ]
    },
    {
      "cell_type": "markdown",
      "source": [
        "* 정답 코드"
      ],
      "metadata": {
        "id": "4-j6OcnYY5PY"
      }
    },
    {
      "cell_type": "code",
      "source": [
        "a, b, n = map(int, input().split())\n",
        "result = a % b\n",
        "for _ in range(n - 1) :\n",
        "  result = (result * 10 ) % b\n",
        "print((result * 10) // b)"
      ],
      "metadata": {
        "colab": {
          "base_uri": "https://localhost:8080/"
        },
        "id": "q7_ZhY-bEuxA",
        "outputId": "c6d14989-818a-4027-abae-a948c415cd54"
      },
      "execution_count": 5,
      "outputs": [
        {
          "output_type": "stream",
          "name": "stdout",
          "text": [
            "25 7 5\n",
            "2\n"
          ]
        }
      ]
    }
  ],
  "metadata": {
    "colab": {
      "provenance": [],
      "authorship_tag": "ABX9TyObBgIESn9wYUAAPbXlR42k",
      "include_colab_link": true
    },
    "kernelspec": {
      "display_name": "Python 3",
      "name": "python3"
    },
    "language_info": {
      "name": "python"
    }
  },
  "nbformat": 4,
  "nbformat_minor": 0
}