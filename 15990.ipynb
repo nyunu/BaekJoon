{
  "nbformat": 4,
  "nbformat_minor": 0,
  "metadata": {
    "colab": {
      "provenance": [],
      "authorship_tag": "ABX9TyNIDciHm0CQ0lCMXtMsGME1",
      "include_colab_link": true
    },
    "kernelspec": {
      "name": "python3",
      "display_name": "Python 3"
    },
    "language_info": {
      "name": "python"
    }
  },
  "cells": [
    {
      "cell_type": "markdown",
      "metadata": {
        "id": "view-in-github",
        "colab_type": "text"
      },
      "source": [
        "<a href=\"https://colab.research.google.com/github/nyunu/BaekJoon/blob/main/15990.ipynb\" target=\"_parent\"><img src=\"https://colab.research.google.com/assets/colab-badge.svg\" alt=\"Open In Colab\"/></a>"
      ]
    },
    {
      "cell_type": "code",
      "source": [
        "import sys\n",
        "input = sys.stdin.readline\n",
        "\n",
        "t = int(input())\n",
        "dp = [[], [1, 0, 0], [0, 1, 0], [1, 1, 1]]\n",
        "num = 1000000009\n",
        "\n",
        "for _ in range(t):\n",
        "  n = int(input())\n",
        "  for i in range(len(dp), n + 1):\n",
        "    dp.append([(dp[i - 1][1] + dp[i - 1][2])% num, (dp[i - 2][0] + dp[i - 2][2])% num, (dp[i - 3][1] + dp[i - 3][0])% num])\n",
        "  print(sum(dp[n]) % num )"
      ],
      "metadata": {
        "colab": {
          "base_uri": "https://localhost:8080/"
        },
        "id": "MLrPVcuGytB5",
        "outputId": "bfc035e2-7519-4c1c-984d-a8225aa15f9b"
      },
      "execution_count": 7,
      "outputs": [
        {
          "output_type": "stream",
          "name": "stdout",
          "text": [
            "3\n",
            "4\n",
            "3\n",
            "7\n",
            "9\n",
            "10\n",
            "27\n"
          ]
        }
      ]
    }
  ]
}