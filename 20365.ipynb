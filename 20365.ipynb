{
  "nbformat": 4,
  "nbformat_minor": 0,
  "metadata": {
    "colab": {
      "provenance": [],
      "authorship_tag": "ABX9TyOtceUwrZhwdpOJIf4CLguY",
      "include_colab_link": true
    },
    "kernelspec": {
      "name": "python3",
      "display_name": "Python 3"
    },
    "language_info": {
      "name": "python"
    }
  },
  "cells": [
    {
      "cell_type": "markdown",
      "metadata": {
        "id": "view-in-github",
        "colab_type": "text"
      },
      "source": [
        "<a href=\"https://colab.research.google.com/github/nyunu/BaekJoon/blob/main/20365.ipynb\" target=\"_parent\"><img src=\"https://colab.research.google.com/assets/colab-badge.svg\" alt=\"Open In Colab\"/></a>"
      ]
    },
    {
      "cell_type": "markdown",
      "source": [
        "solution 함수 처리했을 때 1852 >> 120 으로 시간 단축됨 왕 !!"
      ],
      "metadata": {
        "id": "teseiWHRbpeX"
      }
    },
    {
      "cell_type": "markdown",
      "source": [
        "### 문자열 사용"
      ],
      "metadata": {
        "id": "gJ1ajRUSbx0e"
      }
    },
    {
      "cell_type": "code",
      "source": [
        "n = int(input())\n",
        "color = input()\n",
        "\n",
        "def solution(n, color):\n",
        "  ans = color[0]\n",
        "  for i in range(1, n):\n",
        "    if color[i] != ans[-1]:\n",
        "      ans += color[i]\n",
        "  return min(ans.count('R'), ans.count('B')) + 1\n",
        "\n",
        "print(solution(n, color))"
      ],
      "metadata": {
        "colab": {
          "base_uri": "https://localhost:8080/"
        },
        "id": "wl7OZQrnNBkj",
        "outputId": "94aaab07-044b-4921-f03c-a2852dccda82"
      },
      "execution_count": 47,
      "outputs": [
        {
          "output_type": "stream",
          "name": "stdout",
          "text": [
            "8\n",
            "BBRBRBBR\n",
            "4\n"
          ]
        }
      ]
    },
    {
      "cell_type": "markdown",
      "source": [
        "### 딕셔너리 사용"
      ],
      "metadata": {
        "id": "KVeoyTVLbzsf"
      }
    },
    {
      "cell_type": "code",
      "source": [
        "n = int(input())\n",
        "color = input()\n",
        "\n",
        "def solution(n, color):\n",
        "  ans = {'R':0, 'B':0}\n",
        "  ans[color[0]] = 1\n",
        "\n",
        "  for i in range(1, n):\n",
        "    if color[i] != color[i-1]:\n",
        "      ans[color[i]] += 1\n",
        "  return min(ans['R'], ans['B']) + 1\n",
        "\n",
        "print(solution(n, color))"
      ],
      "metadata": {
        "colab": {
          "base_uri": "https://localhost:8080/"
        },
        "id": "nekpWYNjaPQB",
        "outputId": "7fd31e86-12bd-4402-a478-7a863f5fb6c2"
      },
      "execution_count": 51,
      "outputs": [
        {
          "output_type": "stream",
          "name": "stdout",
          "text": [
            "8\n",
            "BBRBRBBR\n",
            "4\n"
          ]
        }
      ]
    }
  ]
}