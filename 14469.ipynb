{
  "nbformat": 4,
  "nbformat_minor": 0,
  "metadata": {
    "colab": {
      "provenance": [],
      "authorship_tag": "ABX9TyM13ccVJYhmKdYpTns2mqa8",
      "include_colab_link": true
    },
    "kernelspec": {
      "name": "python3",
      "display_name": "Python 3"
    },
    "language_info": {
      "name": "python"
    }
  },
  "cells": [
    {
      "cell_type": "markdown",
      "metadata": {
        "id": "view-in-github",
        "colab_type": "text"
      },
      "source": [
        "<a href=\"https://colab.research.google.com/github/nyunu/BaekJoon/blob/main/14469.ipynb\" target=\"_parent\"><img src=\"https://colab.research.google.com/assets/colab-badge.svg\" alt=\"Open In Colab\"/></a>"
      ]
    },
    {
      "cell_type": "code",
      "source": [
        "import sys\n",
        "input = sys.stdin.readline\n",
        "\n",
        "n = int(input())\n",
        "cow = [list(map(int, input().split())) for _ in range(n)]\n",
        "cow.sort()\n",
        "\n",
        "answer = 0\n",
        "for i in cow:\n",
        "  if answer < i[0]:\n",
        "    answer = i[0] + i[1]\n",
        "  else:\n",
        "    answer += i[1]\n",
        "\n",
        "print(answer)"
      ],
      "metadata": {
        "colab": {
          "base_uri": "https://localhost:8080/"
        },
        "id": "PjcZGY7fsR_Y",
        "outputId": "238f6846-0e52-4007-ab5e-2a0779196b06"
      },
      "execution_count": 3,
      "outputs": [
        {
          "output_type": "stream",
          "name": "stdout",
          "text": [
            "3\n",
            "2 1\n",
            "8 3\n",
            "5 7\n",
            "15\n"
          ]
        }
      ]
    }
  ]
}