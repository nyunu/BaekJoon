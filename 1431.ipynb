{
  "nbformat": 4,
  "nbformat_minor": 0,
  "metadata": {
    "colab": {
      "provenance": [],
      "authorship_tag": "ABX9TyP9QC5do2IGJ1KpM1bNsoG9",
      "include_colab_link": true
    },
    "kernelspec": {
      "name": "python3",
      "display_name": "Python 3"
    },
    "language_info": {
      "name": "python"
    }
  },
  "cells": [
    {
      "cell_type": "markdown",
      "metadata": {
        "id": "view-in-github",
        "colab_type": "text"
      },
      "source": [
        "<a href=\"https://colab.research.google.com/github/nyunu/BaekJoon/blob/main/1431.ipynb\" target=\"_parent\"><img src=\"https://colab.research.google.com/assets/colab-badge.svg\" alt=\"Open In Colab\"/></a>"
      ]
    },
    {
      "cell_type": "code",
      "source": [
        "import re\n",
        "\n",
        "n = int(input())\n",
        "lst = []\n",
        "\n",
        "for i in range(n):\n",
        "  lst.append(input())\n",
        "\n",
        "lst.sort(key = len)\n",
        "\n",
        "lst_sum = []\n",
        "for i in range(n):\n",
        "  lst_sum.append(sum(list(map(int,re.findall(r'\\d', lst[i])))))\n",
        "\n",
        "for i in range(len(lst) - 1):\n",
        "  j = i + 1\n",
        "  small = i\n",
        "  while (j < len(lst)) and (len(lst[i]) == len(lst[j])):\n",
        "    if lst_sum[j] < lst_sum[small]:\n",
        "      small = j\n",
        "    elif lst_sum[small] == lst_sum[j]:\n",
        "      if lst[small] > lst[j]:\n",
        "        small = j\n",
        "    j += 1\n",
        "  lst[i], lst[small] = lst[small], lst[i]\n",
        "  lst_sum[i], lst_sum[small] = lst_sum[small], lst_sum[i]\n",
        "\n",
        "for sen in lst:\n",
        "  print(sen)"
      ],
      "metadata": {
        "colab": {
          "base_uri": "https://localhost:8080/"
        },
        "id": "Ad787oI-fgsa",
        "outputId": "96c9875e-abae-4241-d1ca-ac8bb88fff2c"
      },
      "execution_count": 9,
      "outputs": [
        {
          "output_type": "stream",
          "name": "stdout",
          "text": [
            "5\n",
            "ABCD\n",
            "145C\n",
            "A\n",
            "A910\n",
            "Z321\n",
            "A\n",
            "ABCD\n",
            "Z321\n",
            "145C\n",
            "A910\n"
          ]
        }
      ]
    },
    {
      "cell_type": "code",
      "source": [
        "n = int(input())\n",
        "\n",
        "def sum_num(inputs):\n",
        "    result = 0\n",
        "    for i in inputs:\n",
        "        if i.isdigit():\n",
        "            result+=int(i)\n",
        "    return result\n",
        "\n",
        "arr = []\n",
        "for i in range(n):\n",
        "    a = input()\n",
        "    arr.append(a)\n",
        "\n",
        "arr.sort(key = lambda x:(len(x), sum_num(x), x))\n",
        "for i in arr:\n",
        "    print(i)"
      ],
      "metadata": {
        "id": "PCUz1p93cMWT"
      },
      "execution_count": null,
      "outputs": []
    }
  ]
}