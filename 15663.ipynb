{
  "nbformat": 4,
  "nbformat_minor": 0,
  "metadata": {
    "colab": {
      "provenance": [],
      "authorship_tag": "ABX9TyPnFHDSpe3+zu/tlunuD7z1",
      "include_colab_link": true
    },
    "kernelspec": {
      "name": "python3",
      "display_name": "Python 3"
    },
    "language_info": {
      "name": "python"
    }
  },
  "cells": [
    {
      "cell_type": "markdown",
      "metadata": {
        "id": "view-in-github",
        "colab_type": "text"
      },
      "source": [
        "<a href=\"https://colab.research.google.com/github/nyunu/BaekJoon/blob/main/15663.ipynb\" target=\"_parent\"><img src=\"https://colab.research.google.com/assets/colab-badge.svg\" alt=\"Open In Colab\"/></a>"
      ]
    },
    {
      "cell_type": "code",
      "source": [
        "import itertools\n",
        "\n",
        "n, m = map(int, input().split())\n",
        "arr = list(map(int, input().split()))\n",
        "\n",
        "nPr = itertools.permutations(arr, m)\n",
        "\n",
        "for i in sorted(set(nPr)):\n",
        "  for j in i:\n",
        "    print(j, end = ' ')\n",
        "  print()"
      ],
      "metadata": {
        "colab": {
          "base_uri": "https://localhost:8080/"
        },
        "id": "Vz4xiDeOdLQ5",
        "outputId": "c5a543c0-87d1-4a94-8b8e-957ca05f27a7"
      },
      "execution_count": 58,
      "outputs": [
        {
          "output_type": "stream",
          "name": "stdout",
          "text": [
            "3 1\n",
            "4 4 2\n",
            "2 \n",
            "4 \n"
          ]
        }
      ]
    }
  ]
}