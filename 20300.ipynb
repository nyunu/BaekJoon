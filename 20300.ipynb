{
  "nbformat": 4,
  "nbformat_minor": 0,
  "metadata": {
    "colab": {
      "provenance": [],
      "authorship_tag": "ABX9TyP2sg9NPjwX1HruFPunZbOs",
      "include_colab_link": true
    },
    "kernelspec": {
      "name": "python3",
      "display_name": "Python 3"
    },
    "language_info": {
      "name": "python"
    }
  },
  "cells": [
    {
      "cell_type": "markdown",
      "metadata": {
        "id": "view-in-github",
        "colab_type": "text"
      },
      "source": [
        "<a href=\"https://colab.research.google.com/github/nyunu/BaekJoon/blob/main/20300.ipynb\" target=\"_parent\"><img src=\"https://colab.research.google.com/assets/colab-badge.svg\" alt=\"Open In Colab\"/></a>"
      ]
    },
    {
      "cell_type": "code",
      "source": [
        "n = int(input())\n",
        "arr = list(map(int, input().split()))\n",
        "arr.sort()\n",
        "\n",
        "if n % 2 != 0:\n",
        "  answer = arr.pop(-1)\n",
        "  n -= 1\n",
        "else: answer = 0\n",
        "\n",
        "for i in range(0, n // 2):\n",
        "  if answer < arr[i] + arr[n - i - 1]:\n",
        "    answer = arr[i] + arr[n - i - 1]\n",
        "\n",
        "print(answer)"
      ],
      "metadata": {
        "colab": {
          "base_uri": "https://localhost:8080/"
        },
        "id": "mVZJyoviYuxI",
        "outputId": "2ba5db8d-b6de-4f80-e784-0f9098af250e"
      },
      "execution_count": 3,
      "outputs": [
        {
          "output_type": "stream",
          "name": "stdout",
          "text": [
            "5\n",
            "1 2 3 4 5\n",
            "5\n"
          ]
        }
      ]
    }
  ]
}