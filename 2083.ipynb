{
  "nbformat": 4,
  "nbformat_minor": 0,
  "metadata": {
    "colab": {
      "provenance": [],
      "authorship_tag": "ABX9TyMhna4LU0ZwYl2m7bBeMuvw",
      "include_colab_link": true
    },
    "kernelspec": {
      "name": "python3",
      "display_name": "Python 3"
    },
    "language_info": {
      "name": "python"
    }
  },
  "cells": [
    {
      "cell_type": "markdown",
      "metadata": {
        "id": "view-in-github",
        "colab_type": "text"
      },
      "source": [
        "<a href=\"https://colab.research.google.com/github/nyunu/BaekJoon/blob/main/2083.ipynb\" target=\"_parent\"><img src=\"https://colab.research.google.com/assets/colab-badge.svg\" alt=\"Open In Colab\"/></a>"
      ]
    },
    {
      "cell_type": "code",
      "source": [
        "while True:\n",
        "  ipt = input().split()\n",
        "  if ipt == ['#', '0', '0']:\n",
        "    break;\n",
        "  if int(ipt[1]) > 17 or int(ipt[2]) >= 80 :\n",
        "    print(ipt[0], \"Senior\")\n",
        "  else:\n",
        "    print(ipt[0], \"Junior\")"
      ],
      "metadata": {
        "colab": {
          "base_uri": "https://localhost:8080/"
        },
        "id": "-yR1A1t7ntYK",
        "outputId": "0172f609-a738-4b08-cc47-1f6a18e08de8"
      },
      "execution_count": 26,
      "outputs": [
        {
          "name": "stdout",
          "output_type": "stream",
          "text": [
            "Joe 16 34\n",
            "Joe Junior\n",
            "Bill 18 65\n",
            "Bill Senior\n",
            "Billy 17 65\n",
            "Billy Junior\n",
            "Sam 17 85\n",
            "Sam Senior\n",
            "# 0 0\n"
          ]
        }
      ]
    }
  ]
}