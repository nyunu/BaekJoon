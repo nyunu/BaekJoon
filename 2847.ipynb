{
  "nbformat": 4,
  "nbformat_minor": 0,
  "metadata": {
    "colab": {
      "provenance": [],
      "authorship_tag": "ABX9TyNCc+JaExBqmPOm5B0faGHY",
      "include_colab_link": true
    },
    "kernelspec": {
      "name": "python3",
      "display_name": "Python 3"
    },
    "language_info": {
      "name": "python"
    }
  },
  "cells": [
    {
      "cell_type": "markdown",
      "metadata": {
        "id": "view-in-github",
        "colab_type": "text"
      },
      "source": [
        "<a href=\"https://colab.research.google.com/github/nyunu/BaekJoon/blob/main/2847.ipynb\" target=\"_parent\"><img src=\"https://colab.research.google.com/assets/colab-badge.svg\" alt=\"Open In Colab\"/></a>"
      ]
    },
    {
      "cell_type": "code",
      "source": [
        "n = int(input())\n",
        "num_lst = []\n",
        "cnt = 0\n",
        "\n",
        "for _ in range(n):\n",
        "  num_lst.append(int(input()))\n",
        "num_lst = num_lst[::-1]\n",
        "\n",
        "for i in range(len(num_lst) - 1):\n",
        "  if num_lst[i] <= num_lst[i + 1]:\n",
        "    cnt += num_lst[i + 1] - num_lst[i] + 1\n",
        "    num_lst[i + 1] = num_lst[i] - 1\n",
        "\n",
        "print(cnt)"
      ],
      "metadata": {
        "colab": {
          "base_uri": "https://localhost:8080/"
        },
        "id": "b_fjYa-no2KO",
        "outputId": "8cf8f5c0-c78e-4fb1-c432-5e2a9d0228e2"
      },
      "execution_count": 12,
      "outputs": [
        {
          "output_type": "stream",
          "name": "stdout",
          "text": [
            "3\n",
            "5\n",
            "5\n",
            "5\n",
            "3\n"
          ]
        }
      ]
    }
  ]
}