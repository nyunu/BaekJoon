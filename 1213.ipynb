{
  "nbformat": 4,
  "nbformat_minor": 0,
  "metadata": {
    "colab": {
      "provenance": [],
      "authorship_tag": "ABX9TyNoWyi9oVF3uYcGTrIlJVys",
      "include_colab_link": true
    },
    "kernelspec": {
      "name": "python3",
      "display_name": "Python 3"
    },
    "language_info": {
      "name": "python"
    }
  },
  "cells": [
    {
      "cell_type": "markdown",
      "metadata": {
        "id": "view-in-github",
        "colab_type": "text"
      },
      "source": [
        "<a href=\"https://colab.research.google.com/github/nyunu/BaekJoon/blob/main/1213.ipynb\" target=\"_parent\"><img src=\"https://colab.research.google.com/assets/colab-badge.svg\" alt=\"Open In Colab\"/></a>"
      ]
    },
    {
      "cell_type": "markdown",
      "source": [
        "- 정답 코드 !"
      ],
      "metadata": {
        "id": "4awV6Gog-7yp"
      }
    },
    {
      "cell_type": "code",
      "source": [
        "name = input()\n",
        "\n",
        "dic = {}\n",
        "for i in name:\n",
        "  if i not in dic:\n",
        "    dic[i] = 0\n",
        "  dic[i] += 1\n",
        "\n",
        "dic = dict(sorted(dic.items()))\n",
        "flag = 0\n",
        "answer = ''\n",
        "keep = ''\n",
        "for i, j in dic.items():\n",
        "  if j % 2 != 0:\n",
        "    if flag:\n",
        "      print(\"I'm Sorry Hansoo\")\n",
        "      break\n",
        "    flag = 1\n",
        "    keep = i\n",
        "  answer += i * (j // 2)\n",
        "else:\n",
        "  print(answer + keep + answer[::-1])"
      ],
      "metadata": {
        "colab": {
          "base_uri": "https://localhost:8080/"
        },
        "id": "bvfan27x08_r",
        "outputId": "c961e27c-1065-4461-db87-49ddece14e6b"
      },
      "execution_count": 41,
      "outputs": [
        {
          "output_type": "stream",
          "name": "stdout",
          "text": [
            "ABACABA\n",
            "AABCBAA\n"
          ]
        }
      ]
    },
    {
      "cell_type": "markdown",
      "source": [
        "- 보기엔 이게 더 간단해 보이지만 시간이나 메모리는 위의 풀이가 압승"
      ],
      "metadata": {
        "id": "2ygyHw1O-4Et"
      }
    },
    {
      "cell_type": "code",
      "source": [
        "from collections import Counter\n",
        "\n",
        "name = Counter(input())\n",
        "\n",
        "dic = dict(sorted(name.items()))\n",
        "\n",
        "flag = 0\n",
        "answer = ''\n",
        "keep = ''\n",
        "for i, j in dic.items():\n",
        "  if j % 2 != 0:\n",
        "    if flag:\n",
        "      print(\"I'm Sorry Hansoo\")\n",
        "      break\n",
        "    flag = 1\n",
        "    keep = i\n",
        "  answer += i * (j // 2)\n",
        "else:\n",
        "  print(answer + keep + answer[::-1])"
      ],
      "metadata": {
        "colab": {
          "base_uri": "https://localhost:8080/"
        },
        "id": "m5bwafC--C-4",
        "outputId": "297ab6c3-270d-4d80-da3f-560c9cb43b08"
      },
      "execution_count": 52,
      "outputs": [
        {
          "output_type": "stream",
          "name": "stdout",
          "text": [
            "ABACABA\n",
            "AABCBAA\n"
          ]
        }
      ]
    }
  ]
}