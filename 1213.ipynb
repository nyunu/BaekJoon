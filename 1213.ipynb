{
  "nbformat": 4,
  "nbformat_minor": 0,
  "metadata": {
    "colab": {
      "provenance": [],
      "authorship_tag": "ABX9TyO/co8Fj/isU4VZzhY4a2eW",
      "include_colab_link": true
    },
    "kernelspec": {
      "name": "python3",
      "display_name": "Python 3"
    },
    "language_info": {
      "name": "python"
    }
  },
  "cells": [
    {
      "cell_type": "markdown",
      "metadata": {
        "id": "view-in-github",
        "colab_type": "text"
      },
      "source": [
        "<a href=\"https://colab.research.google.com/github/nyunu/BaekJoon/blob/main/1213.ipynb\" target=\"_parent\"><img src=\"https://colab.research.google.com/assets/colab-badge.svg\" alt=\"Open In Colab\"/></a>"
      ]
    },
    {
      "cell_type": "code",
      "source": [
        "name = input()\n",
        "dic = dict()\n",
        "flag = 0\n",
        "result = ''\n",
        "last = ''\n",
        "\n",
        "if len(name) == 1:\n",
        "  print(name)\n",
        "  exit()\n",
        "\n",
        "for i in set(name):\n",
        "  dic[i] = name.count(i)\n",
        "dic = sorted(dic.items(), key = lambda x : x[0])\n",
        "\n",
        "for i in dic:\n",
        "  result += i[0] * (i[1] // 2)\n",
        "  if i[1] % 2 != 0:\n",
        "    if flag == 0:\n",
        "      flag = 1\n",
        "      last = i[0]\n",
        "    else:\n",
        "      print(\"I'm Sorry Hansoo\")\n",
        "      exit()\n",
        "      break;\n",
        "\n",
        "print(result + last + result[::-1])"
      ],
      "metadata": {
        "colab": {
          "base_uri": "https://localhost:8080/"
        },
        "id": "Eq9bxjKz4xTx",
        "outputId": "162217f5-819c-4123-ea08-b08423a43c34"
      },
      "execution_count": 32,
      "outputs": [
        {
          "output_type": "stream",
          "name": "stdout",
          "text": [
            "A\n",
            "A\n"
          ]
        }
      ]
    }
  ]
}