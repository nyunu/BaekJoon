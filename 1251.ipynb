{
  "cells": [
    {
      "cell_type": "markdown",
      "metadata": {
        "id": "view-in-github",
        "colab_type": "text"
      },
      "source": [
        "<a href=\"https://colab.research.google.com/github/nyunu/BaekJoon/blob/main/1251.ipynb\" target=\"_parent\"><img src=\"https://colab.research.google.com/assets/colab-badge.svg\" alt=\"Open In Colab\"/></a>"
      ]
    },
    {
      "cell_type": "markdown",
      "source": [
        "* ' '.join(['a, 'b', 'c']) => 'abc'\n"
      ],
      "metadata": {
        "id": "Ki0CC2B0qlLY"
      }
    },
    {
      "cell_type": "code",
      "source": [
        "word = list(input())\n",
        "word_lst = []\n",
        "result = \"\"\n",
        "\n",
        "for i in range(1, len(word) - 2):\n",
        "  for k in range(i + 1, len(word)):\n",
        "    w1 = word[:i][::-1]\n",
        "    w2 = word[i:k][::-1]\n",
        "    w3 = word[k:][::-1]\n",
        "    word_lst.append(w1 + w2 + w3)\n",
        "\n",
        "for i in sorted(word_lst)[0]:\n",
        "  result += i\n",
        "\n",
        "# 다른 방식\n",
        "# answer = []\n",
        "# for a in word_lst:\n",
        "#    answer.append(''.join(a))\n",
        "\n",
        "print(result)"
      ],
      "metadata": {
        "colab": {
          "base_uri": "https://localhost:8080/"
        },
        "id": "KWaQwhKVkwfc",
        "outputId": "cb2a6b3c-e46c-44ba-e7a1-d62c2d0accbe"
      },
      "execution_count": 14,
      "outputs": [
        {
          "output_type": "stream",
          "name": "stdout",
          "text": [
            "mobitel\n",
            "bometil\n"
          ]
        }
      ]
    }
  ],
  "metadata": {
    "colab": {
      "provenance": [],
      "authorship_tag": "ABX9TyPBUEwjelTBPphmScNqVKBX",
      "include_colab_link": true
    },
    "kernelspec": {
      "display_name": "Python 3",
      "name": "python3"
    },
    "language_info": {
      "name": "python"
    }
  },
  "nbformat": 4,
  "nbformat_minor": 0
}