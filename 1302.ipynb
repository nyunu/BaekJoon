{
  "cells": [
    {
      "cell_type": "markdown",
      "metadata": {
        "id": "view-in-github",
        "colab_type": "text"
      },
      "source": [
        "<a href=\"https://colab.research.google.com/github/nyunu/BaekJoon/blob/main/1302.ipynb\" target=\"_parent\"><img src=\"https://colab.research.google.com/assets/colab-badge.svg\" alt=\"Open In Colab\"/></a>"
      ]
    },
    {
      "cell_type": "markdown",
      "source": [
        "- 리스트를 이용하여 풀이"
      ],
      "metadata": {
        "id": "N01JYxilzR_P"
      }
    },
    {
      "cell_type": "code",
      "source": [
        "n = int(input())\n",
        "lst = []\n",
        "max_cnt = 0\n",
        "result = []\n",
        "\n",
        "for _ in range(n):\n",
        "  lst.append(input())\n",
        "\n",
        "for i in set(lst):\n",
        "  if max_cnt < lst.count(i):\n",
        "    max_cnt = lst.count(i)\n",
        "    result = []\n",
        "    result.append(i)\n",
        "  elif max_cnt == lst.count(i):\n",
        "    result.append(i)\n",
        "\n",
        "print(sorted(result)[0])"
      ],
      "metadata": {
        "colab": {
          "base_uri": "https://localhost:8080/"
        },
        "id": "AY7oi9olvL1Y",
        "outputId": "f03522cc-f2df-4604-ebfa-06fb74798621"
      },
      "execution_count": 13,
      "outputs": [
        {
          "output_type": "stream",
          "name": "stdout",
          "text": [
            "6\n",
            "a\n",
            "a\n",
            "a\n",
            "b\n",
            "b\n",
            "b\n",
            "a\n"
          ]
        }
      ]
    },
    {
      "cell_type": "markdown",
      "source": [
        "- 딕셔너리를 이용하여 풀이"
      ],
      "metadata": {
        "id": "2SUqLFT1zUrf"
      }
    },
    {
      "cell_type": "code",
      "source": [
        "n = int(input())\n",
        "dic = {}\n",
        "result = []\n",
        "\n",
        "for _ in range(n):\n",
        "  book = input()\n",
        "  if book in dic:\n",
        "    dic[book] += 1\n",
        "  else:\n",
        "    dic[book] = 1\n",
        "\n",
        "maxx = max(dic.values())\n",
        "\n",
        "for key, value in dic.items():\n",
        "  if value == maxx:\n",
        "    result.append(key)\n",
        "\n",
        "print(sorted(result)[0])"
      ],
      "metadata": {
        "colab": {
          "base_uri": "https://localhost:8080/"
        },
        "id": "ZlCKI0CVxb3X",
        "outputId": "6973b924-0bfb-4bab-9fac-a1cb252bd601"
      },
      "execution_count": 45,
      "outputs": [
        {
          "output_type": "stream",
          "name": "stdout",
          "text": [
            "6\n",
            "a\n",
            "a\n",
            "a\n",
            "b\n",
            "b\n",
            "b\n",
            "a\n"
          ]
        }
      ]
    }
  ],
  "metadata": {
    "colab": {
      "provenance": [],
      "authorship_tag": "ABX9TyMBJQLNouo/bNQLTsJOKFL1",
      "include_colab_link": true
    },
    "kernelspec": {
      "display_name": "Python 3",
      "name": "python3"
    },
    "language_info": {
      "name": "python"
    }
  },
  "nbformat": 4,
  "nbformat_minor": 0
}