{
  "nbformat": 4,
  "nbformat_minor": 0,
  "metadata": {
    "colab": {
      "provenance": [],
      "authorship_tag": "ABX9TyP+g/ty8kWnJ/2ZcU2Mg9fk",
      "include_colab_link": true
    },
    "kernelspec": {
      "name": "python3",
      "display_name": "Python 3"
    },
    "language_info": {
      "name": "python"
    }
  },
  "cells": [
    {
      "cell_type": "markdown",
      "metadata": {
        "id": "view-in-github",
        "colab_type": "text"
      },
      "source": [
        "<a href=\"https://colab.research.google.com/github/nyunu/BaekJoon/blob/main/H_index_.ipynb\" target=\"_parent\"><img src=\"https://colab.research.google.com/assets/colab-badge.svg\" alt=\"Open In Colab\"/></a>"
      ]
    },
    {
      "cell_type": "code",
      "source": [
        "def solution(citations):\n",
        "    answer = 0\n",
        "    citations.sort(reverse = True)\n",
        "\n",
        "    for i in range(len(citations)):\n",
        "        if citations[i] < i + 1:\n",
        "            return i\n",
        "\n",
        "    return len(citations)"
      ],
      "metadata": {
        "id": "foTgU8E5y887"
      },
      "execution_count": 18,
      "outputs": []
    },
    {
      "cell_type": "code",
      "source": [
        "solution(\t[3, 0, 6, 1, 5])"
      ],
      "metadata": {
        "id": "xLOObNoz0dmt",
        "outputId": "57e20acc-30b8-4a17-9b3c-17d6bee512e5",
        "colab": {
          "base_uri": "https://localhost:8080/"
        }
      },
      "execution_count": 19,
      "outputs": [
        {
          "output_type": "execute_result",
          "data": {
            "text/plain": [
              "3"
            ]
          },
          "metadata": {},
          "execution_count": 19
        }
      ]
    }
  ]
}