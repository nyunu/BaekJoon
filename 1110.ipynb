{
  "nbformat": 4,
  "nbformat_minor": 0,
  "metadata": {
    "colab": {
      "provenance": [],
      "authorship_tag": "ABX9TyMSxkhsk4MTCSRP+8wD+pUh",
      "include_colab_link": true
    },
    "kernelspec": {
      "name": "python3",
      "display_name": "Python 3"
    },
    "language_info": {
      "name": "python"
    }
  },
  "cells": [
    {
      "cell_type": "markdown",
      "metadata": {
        "id": "view-in-github",
        "colab_type": "text"
      },
      "source": [
        "<a href=\"https://colab.research.google.com/github/nyunu/BaekJoon/blob/main/1110.ipynb\" target=\"_parent\"><img src=\"https://colab.research.google.com/assets/colab-badge.svg\" alt=\"Open In Colab\"/></a>"
      ]
    },
    {
      "cell_type": "code",
      "source": [
        "n = int(input())\n",
        "result = n\n",
        "cnt = 0\n",
        "while True:\n",
        "  a = result // 10\n",
        "  b = result % 10\n",
        "  sum_ab = a + b\n",
        "  if (sum_ab) >= 10:\n",
        "    sum_ab = (sum_ab) % 10\n",
        "  result = b * 10 + sum_ab\n",
        "  cnt += 1\n",
        "  if result == n :\n",
        "    print(cnt)\n",
        "    break;"
      ],
      "metadata": {
        "id": "34_h55k_D2pY"
      },
      "execution_count": null,
      "outputs": []
    }
  ]
}